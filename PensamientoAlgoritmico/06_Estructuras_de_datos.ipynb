{
  "cells": [
    {
      "cell_type": "markdown",
      "metadata": {
        "id": "gRs-jHMcvMZf"
      },
      "source": [
        "## __Introducción a las listas__\n",
        "\n",
        "> - Declaración de listas\n",
        "    - Listas vacias\n",
        "    - Listas con valores iniciales\n",
        "- Agregar valores a las listas\n",
        "    - Función append()\n",
        "    - Función extend()\n",
        "- Acceso a las listas por medio de índices\n",
        "    - Índices positivos (0, n-1)\n",
        "    - Índices negativos (-n, -1)\n",
        "- Métodos para recorrer las listas\n",
        "    - Ciclo while con índices\n",
        "    - Ciclo for con rango de índices\n",
        "    - Ciclo for por elementos de la lista\n"
      ]
    },
    {
      "cell_type": "markdown",
      "metadata": {
        "id": "nifPzxsePTal"
      },
      "source": [
        "## Listas\n",
        "\n",
        ">Una lista es un tipo de estructura de datos que alamacena una secuencia de elementos, los cuales quedan ordenados en relación a  un índice utilizado para accederlos. Este tipo de estructura permite almacenar y mezclar todo tipo datos, como: enteros, decimales, cadenas, otras listas, y objetos.\n",
        "\n",
        ">Una lista vacía (sin elementos en su interior) puede ser declarada en python de la siguiente forma:\n",
        "\n",
        "```python\n",
        "lst_uno = []\n",
        "lst_dos = list()\n",
        "print(lst_uno)\n",
        "print('cantidad elementos en lista: ',len(lst_uno))\n",
        "```\n",
        "\n",
        "> Las listas pueden contener elementos del mísmo o diferente tipo.\n",
        "\n",
        "\n",
        "```python\n",
        "lst_ent = [1, 2, 3, 4, 5]\n",
        "lst_real = [1.0, 2.1, 4.8, 6.2]\n",
        "lst_fecha = [\"Martes\", 29, 'de Enero', 2019]\n",
        "```\n",
        "* Generar secuencias o listas con valores iniciales...\n"
      ]
    },
    {
      "cell_type": "code",
      "execution_count": null,
      "metadata": {
        "id": "zTUtoSmoOAcd",
        "colab": {
          "base_uri": "https://localhost:8080/"
        },
        "outputId": "043437b1-26a0-4153-cfad-900b6159e73c"
      },
      "outputs": [
        {
          "output_type": "stream",
          "name": "stdout",
          "text": [
            "[]\n",
            "cantidad elementos en lista:  0\n",
            "['primero', 'segundo', [2, 5]]\n",
            "cantidad elementos en lista:  3\n"
          ]
        }
      ],
      "source": [
        "# celda de código para practicar\n",
        "lst_uno = []\n",
        "lst_dos = list()\n",
        "print(lst_uno)\n",
        "print('cantidad elementos en lista: ',len(lst_uno))\n",
        "\n",
        "lst_ent = [1, 2, 3, 4, 5]\n",
        "lst_real = [1.0, 2.1, 4.8, 6.2]\n",
        "lst_fecha = [\"Martes\", 29, 'de Enero', 2019]\n",
        "\n",
        "lst_uno.append('primero')\n",
        "lst_uno.append('segundo')\n",
        "lst_uno.append([2,5])\n",
        "print(lst_uno)\n",
        "print('cantidad elementos en lista: ',len(lst_uno))"
      ]
    },
    {
      "cell_type": "markdown",
      "metadata": {
        "id": "qkfjeCLTg6kK"
      },
      "source": [
        "### Agregar elementos a una lista.\n",
        "\n",
        ">Usted puede agregar un elemento a una lista vacía o a una lista que ya tenga elementos a partir de la función **append()**. Esta función requiere como argumento el elemento que usted quiere añadir a la lista.\n",
        "\n",
        "\n",
        "\n",
        "```python\n",
        "lst_uno.append('primero')\n",
        "lst_uno.append('segundo')\n",
        "lst_uno.append([2,5])\n",
        "print(lst_uno)\n",
        "print('cantidad elementos en lista: ',len(lst_uno))\n",
        "\n",
        "```\n",
        ">Luego de imprimir la lista, usted puede darse cuenta que el último elemento que se agregó fue una lista. Fijese bien que este se agrega a partir de la función *append* como un único elemento.\n",
        "\n",
        ">En caso de que se requiera añadir a una lista los elementos de otra lista como elementos independientes, deberá utilizar la función **extend()**\n",
        "\n",
        "\n",
        "```python\n",
        "lst_uno.extend([4,6,7])\n",
        "print(lst_uno)\n",
        "lst_uno.extend([122]*5)\n",
        "```"
      ]
    },
    {
      "cell_type": "code",
      "execution_count": null,
      "metadata": {
        "id": "OzRmqSl_hM_Y"
      },
      "outputs": [],
      "source": [
        "# celda de código para practicar"
      ]
    },
    {
      "cell_type": "markdown",
      "metadata": {
        "id": "qV74Ok3tzZQx"
      },
      "source": [
        "## Métodos para recorrer una lista\n",
        "> Existen varios métodos en python para recorrer una lista:\n",
        "1. Usando los índices mediante un ciclo _while_\n",
        "2. Usando los índices mediante un ciclo _for_\n",
        "3. Usar un ciclo _for_ con los elementos"
      ]
    },
    {
      "cell_type": "code",
      "execution_count": null,
      "metadata": {
        "id": "2WoR0wgi0MHg"
      },
      "outputs": [],
      "source": [
        "# celda para probar"
      ]
    },
    {
      "cell_type": "markdown",
      "metadata": {
        "id": "qo92bdy5ixAz"
      },
      "source": [
        "####Ejercicio 1:\n",
        "suponga usted que tiene que ir a mercar y debe ir anotando el nombre de los productos y el respectivo precio de todo lo que quiere llevar. El propósito de esta actividad es saber cuanto debe pagar antes de llegar a la caja. Cada vez que usted ingrese un producto a su canasta, deberá anotar el nombre y el valor del producto. Una vez haya finalizado sus compras deberá conocer la cantidad de productos y el total a pagar. ¿Cómo piensa resolver el problema?"
      ]
    },
    {
      "cell_type": "code",
      "execution_count": null,
      "metadata": {
        "id": "GqsJ2rfCjMUw"
      },
      "outputs": [],
      "source": [
        "# Solución del ejercicio 1.\n",
        "# inicialización de variables\n",
        "\n",
        "lst_val_prod = []\n",
        "lst_nom_prod = []\n",
        "total_prod = 0.0\n"
      ]
    },
    {
      "cell_type": "markdown",
      "metadata": {
        "id": "59Svj9ZljNx4"
      },
      "source": [
        "### 1.2 **Acceder a los elementos de una lista.**\n",
        ">El acceso a los elementos de la lista se realiza a través de sus índices. En python los índices de una lista van desde 0 hasta el tamaño de la lista -1. Por ejemplo de la siguiente lista se puede obtener acceso a los elementos 3, 4 y 6 de la siguiente forma:\n",
        "\n",
        "\n",
        "\n",
        "```python\n",
        "lst_anim = ['Perro', 'Gato', 'Pájaro', 'Conejo', 'Pez', 'Hamster', 'Tortuga']\n",
        "```\n",
        "> lst_anim |\\[| Perro | Gato | Pájaro | Conejo | Pez | Hamster | Tortuga | \\]\n",
        "> --- ||:---: | :---: | :---: | :---: | :---: | :---: | :---: | ---\n",
        "> índices |+| 0 | 1 | 2 | 3 | 4 | 5 | 6 |  |\n",
        "> índices |-| -7 | -6 | -5 | -4 | -3 | -2 | -1 |  |\n",
        "\n",
        "```python\n",
        "# Elemento: 3, índice del elemento: 2.\n",
        "print(lst_anim[2])\n",
        "# Elemento: 4, índice del elemento: 3.\n",
        "print(lst_anim[3])\n",
        "# Elemento: 6, índice del elemento: 5.\n",
        "print(lst_anim[5])\n",
        "```\n",
        ">También puede modificar el valor de alguno de los elementos de la siguiente forma:\n",
        "\n",
        "\n",
        "\n",
        "```python\n",
        "# Modificando el elemento 4 que tiene por índice 3.\n",
        "lst_anim[3] = 'Jirafa'\n",
        "print(lst_anim)\n",
        "```"
      ]
    },
    {
      "cell_type": "code",
      "execution_count": null,
      "metadata": {
        "id": "2viSoJoDjrAK"
      },
      "outputs": [],
      "source": [
        "# celda de código para practicar"
      ]
    },
    {
      "cell_type": "markdown",
      "metadata": {
        "id": "4Bg6NhftmlVc"
      },
      "source": [
        "\n",
        "## __Funciones recurrentes para listas__\n",
        "\n",
        "\n",
        "> - A continuación se listan otras funciones en python que son útiles para resolver problemas.\n",
        "    - remove()\n",
        "    - index()\n",
        "    - count()\n",
        "    - reverse()\n",
        "    - insert()\n",
        "    - pop()\n",
        "    - clear()\n",
        "\n",
        "```python\n",
        "\n",
        "lst_anim = ['Perro', 'Gato', 'Pájaro', 'Conejo', 'Pez', 'Hamster', 'Tortuga']\n",
        "print(lst_anim)\n",
        "# Remueve los elementos de la lista de acuerdo al argumento pasado a la función.\n",
        "lst_anim.remove('Pájaro')\n",
        "print(lst_anim)\n",
        "# Devuelve el número del indice del elemento que se pasa como argumento a la función.\n",
        "lst_anim.index('Conejo')\n",
        "# Devuelve la cantidad de veces que se repite el elemento que se pasa como argumento en la función.\n",
        "lst_anim.count('Pez')\n",
        "# Invierte el orden de los elementos de la lista.\n",
        "lst_anim.reverse()\n",
        "print(lst_anim)\n",
        "# Inserta un elemento en la posición inidicada. Lo argumentos para la función son el indice donde se quiere insertar y el elemento a insertar.\n",
        "lst_anim.insert(2,'Caballo')\n",
        "print(lst_anim)\n",
        "# Remueve el elemento de la lista que se pasa como argumento (índice del elemento) a la función. La función pop devuelve el elemento removido.\n",
        "anim = lst_anim.pop(2)\n",
        "print(anim)\n",
        "# Remueve todos los elementos de la lista.\n",
        "lst_anim.clear()\n",
        "print(lst_anim)\n",
        "```\n",
        "- Generar ciclos para recorrer listas (función zip)\n",
        "- Buscar un elemento en una lista (operador **in**)\n",
        "- Método sort()\n"
      ]
    },
    {
      "cell_type": "code",
      "execution_count": null,
      "metadata": {
        "colab": {
          "base_uri": "https://localhost:8080/"
        },
        "id": "WX4xAocdyYVc",
        "outputId": "779833a7-9a41-4d69-ce29-f60f43af063d"
      },
      "outputs": [
        {
          "name": "stdout",
          "output_type": "stream",
          "text": [
            "['Perro', 'Gato', 'Pájaro', 'Conejo', 'Pez', 'Hamster', 'Tortuga']\n",
            "['Perro', 'Gato', 'Conejo', 'Pez', 'Hamster', 'Tortuga']\n",
            "['Tortuga', 'Hamster', 'Pez', 'Conejo', 'Gato', 'Perro']\n",
            "['Tortuga', 'Hamster', 'Caballo', 'Pez', 'Conejo', 'Gato', 'Perro']\n",
            "Caballo\n",
            "[]\n"
          ]
        }
      ],
      "source": [
        "# Celda de código para probar\n",
        "lst_anim = ['Perro', 'Gato', 'Pájaro', 'Conejo', 'Pez', 'Hamster', 'Tortuga']\n",
        "print(lst_anim)\n",
        "lst_anim.remove('Pájaro')\n",
        "print(lst_anim)\n",
        "# Devuelve el número del indice del elemento que se pasa como argumento a la función.\n",
        "lst_anim.index('Conejo')\n",
        "# Devuelve la cantidad de veces que se repite el elemento que se pasa como argumento en la función.\n",
        "lst_anim.count('Pez')\n",
        "# Invierte el orden de los elementos de la lista.\n",
        "lst_anim.reverse()\n",
        "print(lst_anim)\n",
        "# Inserta un elemento en la posición inidicada. Lo argumentos para la función son el indice donde se quiere insertar y el elemento a insertar.\n",
        "lst_anim.insert(2,'Caballo')\n",
        "print(lst_anim)\n",
        "# Remueve el elemento de la lista que se pasa como argumento (índice del elemento) a la función. La función pop devuelve el elemento removido.\n",
        "anim = lst_anim.pop(2)\n",
        "print(anim)\n",
        "# Remueve todos los elementos de la lista.\n",
        "lst_anim.clear()\n",
        "print(lst_anim)"
      ]
    },
    {
      "cell_type": "markdown",
      "metadata": {
        "id": "TILFCrqBnZ-5"
      },
      "source": [
        "### Manipular sublistas.\n",
        "\n",
        ">En algunos casos al trabajar con listas para la resolución de problemas es necesario extraer partes de la lista original. Python ofrece esta posibilidad  con la siguiente estructura:\n",
        "\n",
        "```python\n",
        "  nom_lista[<indice inicio> : <indice final + 1>]\n",
        "\n",
        "```\n",
        ">**Ejemplos:**\n",
        "\n",
        "```python\n",
        "\n",
        "l1 = list(range(-20,20,2))\n",
        "print(l1)\n",
        "l2 = l1[2:8]   # Lista con los elementos del índice 2 hasta el 7\n",
        "print(l2)\n",
        "l2 = l1[1:]    # Lista con los elementos del índice 1 hasta el final de la lista\n",
        "print(l2)\n",
        "l2 = l1[:5]    # Lista con los elementos desde el inicio hasta el índice 4\n",
        "print(l2)\n",
        "l2 = l1[:]     # Lista con todos los elementos\n",
        "print(l2)\n",
        "l2 = l1[15:15] # Lista con los elementos del índice del 15 al 15 (vacía)\n",
        "print(l2)\n",
        "```"
      ]
    },
    {
      "cell_type": "code",
      "execution_count": null,
      "metadata": {
        "id": "n9FTFXG4Z1m-"
      },
      "outputs": [],
      "source": [
        "# Celda de código para probar"
      ]
    },
    {
      "cell_type": "markdown",
      "metadata": {
        "id": "D-JfKNCCoNgS"
      },
      "source": [
        "### __Ejercicio__\n",
        "> Usted también puede modificar los elementos de una lista usando sublistas. Revise con cuidado cada una de las siguientes líneas de código, trate de predecir lo que va a suceder y valide cada uno de los comportamientos presentados. El insertar, modificar y eliminar sublistas también se hace a partir de los índices de los elementos de la lista.\n",
        "\n",
        "```python\n",
        "letras = ['a', 'b', 'c', 'd', 'e', 'f', 'g', 'h', 'i', 'k', 'l', 'm', 'ñ', 'o']\n",
        "print(letras)\n",
        "letras[1:4] = ['k']               # Se sustituye la sublista ['b', 'c', 'd'] por ['k'], solo reemplazara el elemento 1 de la lista\n",
        "print(letras)\n",
        "letras[1:4] = [1, 2]              # Se sustituye la sublista ['k', 'c' , 'd'] por [1, 2], reemplazará 2 elementos de la lista\n",
        "print(letras)\n",
        "letras[3:4] = [76]                # Se sustituye la sublista ['g'] por [76], reemplazará 1 elemento de lista\n",
        "print(letras)\n",
        "letras[6:6] = ['%', '&']          # Se inserta la sublista ['%', '&'] a partir de la posición 6 de la lista\n",
        "print(letras)\n",
        "letras[0:3] = []                  # Se elimina la sublista ['a', 1, 2] a partir de la posición 0 hasta la 2\n",
        "print(letras)\n",
        "letras[-100:-50] = ['q','a','z']  # Se inserta ['q','a','z']. Python acepta valores de índices fuera del rango. Para este caso se insertará la sublista al inicio\n",
        "print(letras)\n",
        "letras[120:140] = ['q','a','z']   # Se inserta ['q','a','z']. Python acepta valores de índices fuera del rango. Para este caso se insertará la sublista al final\n",
        "print(letras)\n",
        "del letras[10]                    # Borrará el elemento que tiene por índice 10 de la lista\n",
        "print(letras)\n",
        "del letras[8:]                    # Borrará los elementos a partir del índice 8 hasta el final de la lista\n",
        "print(letras)\n",
        "```\n",
        "\n"
      ]
    },
    {
      "cell_type": "code",
      "execution_count": null,
      "metadata": {
        "id": "SGnZ16cjZ3fj"
      },
      "outputs": [],
      "source": [
        "# Celda de código para probar"
      ]
    },
    {
      "cell_type": "markdown",
      "metadata": {
        "id": "FqFMf6e8ozLi"
      },
      "source": [
        "---\n",
        "\n",
        "\n",
        ">## **Comprensión de listas.**\n",
        "\n",
        ">Las comprensiones de listas ofrecen una forma rápida y concisa para la creación de listas. Esto consiste en la codificación de una ***expresión*** seguida de la cláusula ***for*** a la cual se le puede añadir cláusulas ***if*** o ***for*** en caso de que sea requerido.\n",
        "\n",
        ">La comprensión de listas se destacan en python para crear nuevas listas. Cada elemento es el resultado de algunas operaciones aplicadas sobre la lista (secuencia u objeto iterable) a partir de una condición u otros ciclos.\n",
        "\n",
        ">La estructura básica de una comprensión de lista es:\n",
        "\n",
        "\n",
        "```\n",
        " lista = [expresion for elemento in objeto_iterable]\n",
        "```\n",
        "\n",
        "\n",
        "\n",
        ">La forma general de crear una lista con la estructura cíclica for es:\n",
        "\n",
        "\n",
        "\n",
        "```python\n",
        "# Lista de los números enteros del 1 al 10\n",
        "nums = []\n",
        "\n",
        "for i in range(1,11):\n",
        "  nums.append(i)\n",
        "print(nums)\n",
        "\n",
        "```\n",
        "\n",
        ">Usted podría realizar esto con una comprensión de listas. Ejemplo:\n",
        "\n",
        "\n",
        "```python\n",
        "nums = [num for num in range(1,11)]\n",
        "print(nums)\n",
        "```"
      ]
    },
    {
      "cell_type": "code",
      "execution_count": null,
      "metadata": {
        "id": "go5TB_9NZ_6u"
      },
      "outputs": [],
      "source": [
        "# Celda de código para probar"
      ]
    },
    {
      "cell_type": "code",
      "execution_count": null,
      "metadata": {
        "colab": {
          "base_uri": "https://localhost:8080/",
          "height": 265
        },
        "id": "AwvtUpbEpA73",
        "outputId": "f33c473d-5583-4243-f232-c356e8688caa"
      },
      "outputs": [
        {
          "data": {
            "image/png": "[encoded data removed]",
            "text/plain": [
              "<Figure size 432x288 with 1 Axes>"
            ]
          },
          "metadata": {
            "tags": []
          },
          "output_type": "display_data"
        }
      ],
      "source": [
        "import matplotlib.pyplot as plt\n",
        "listaX = []\n",
        "listaY = []\n",
        "for i in range(-20, 20):\n",
        "    x = i/10\n",
        "    listaX.append(x)\n",
        "    listaY.append(x**3)\n",
        "plt.plot(listaX, listaY)\n",
        "plt.grid()"
      ]
    },
    {
      "cell_type": "code",
      "execution_count": null,
      "metadata": {
        "colab": {
          "base_uri": "https://localhost:8080/",
          "height": 265
        },
        "id": "xbjJ7CPIr-Pv",
        "outputId": "f4725958-f8d2-466e-dc35-c51598bf4d7b"
      },
      "outputs": [
        {
          "data": {
            "image/png": "[encoded data removed]",
            "text/plain": [
              "<Figure size 432x288 with 1 Axes>"
            ]
          },
          "metadata": {
            "tags": []
          },
          "output_type": "display_data"
        }
      ],
      "source": [
        "lista1 = [i/10 for i in range(-20, 20)]\n",
        "lista2 = [x**3 for x in lista1]\n",
        "plt.plot(lista1, lista2)\n",
        "plt.grid()"
      ]
    },
    {
      "cell_type": "markdown",
      "metadata": {
        "id": "7PQQAm0bpBO6"
      },
      "source": [
        "### Comprensión de listas con estructuras condicionales.\n",
        ">Ahora analice los siguientes ejemplos que estan construidos a partir de comprensión de listas. Interprete y documente el código que se muestra para cada ejemplo indicando que hace cada instrucción.\n",
        "\n",
        "\n",
        "\n",
        "```python\n",
        "# Pruebe una por una las instrucciones en esta celda.\n",
        "nums = list(range(-10,10))\n",
        "num_txt = ['uno', 'dos', 'tres', 'cuatro', 'cinco', 'seis', 'siete', 'ocho', 'nueve', 'diez']\n",
        "# Comprensión de listas\n",
        "l1 = [n**2 for n in nums]\n",
        "print(l1)\n",
        "# Comprensión de listas con funciones de python\n",
        "vocales = [v.lower() for v in ['A','E','I','O','U']]\n",
        "l2 = [abs(n) for n in nums]\n",
        "print(l2)\n",
        "# Comprensión de listas con if\n",
        "l3 = [n**2 for n in nums if n%2==0]\n",
        "print(l3)\n",
        "# Comprensión de listas con if y else\n",
        "texto = 'El almuerzo suelo acompañarlo con 3 manzanas y 10 peras'\n",
        "texto2 = [txt if not txt.isnumeric() else num_txt[int(txt)-1] for txt in texto.split(' ')]\n",
        "print(texto2)\n",
        "string = \" \"\n",
        "texto3 = string.join(texto2)\n",
        "print(texto3)\n",
        "# Comprensión de listas con multiple if\n",
        "modulo = [x for x in range(100) if x % 2 == 0 if x % 5 == 0]\n",
        "print(modulo)\n",
        "```\n",
        "\n"
      ]
    },
    {
      "cell_type": "markdown",
      "metadata": {
        "id": "juVp7gzHqZdP"
      },
      "source": [
        "# __Otras estructuras de datos__\n",
        "\n",
        "- ## Tuplas\n",
        "- ## Conjuntos\n",
        "- ## Diccionarios\n",
        "\n",
        "## __Revisión de información en la WEB__\n",
        "\n",
        "Finalmente seguir la guía de [Estructuras de datos en Python Docs](https://docs.python.org/3/tutorial/datastructures.html)"
      ]
    },
    {
      "cell_type": "markdown",
      "metadata": {
        "id": "X3K_8dpWx4MH"
      },
      "source": [
        "### __Ejemplo__\n",
        "\n"
      ]
    },
    {
      "cell_type": "code",
      "execution_count": null,
      "metadata": {
        "id": "OrRrsUfiaOrv"
      },
      "outputs": [],
      "source": [
        "# Celda de código para probar"
      ]
    },
    {
      "cell_type": "markdown",
      "metadata": {
        "id": "S7PspYofz6z4"
      },
      "source": [
        "## __Ejercicios de Algoritmos de listas__\n",
        "\n",
        "> - Para los siguientes ejercicios no se deben utilizar funciones externas o de python. La idea es crear funciones propias.\n",
        "- En los siguientes ejercicios, primero determine los pasos que solucionan el problema, luego codifique la solución, pruebe los pasos uno a uno hasta obtener la solución completa, y finalmente convierta el resultado en una función.\n",
        "    1. Hacer una función que busca un valor en una lista y devuelve la cantidad de veces que aparece el valor dado y una lista con las posiciones (índices) en donde se encuentra el valor. La función recibe la lista y el valor a buscar. Por ejemplo;\n",
        "    `entrada: ([1,8,2,8,8,4,7,8,8,2,8,3,8,7,6], 8) salida: (7, [1,3,4,7,8,10,12]`\n",
        "    2. Diseñe un algoritmo que recibe dos listas de valores numéricos y busca la secuencia completa de valores de la segunda lista dentro de la primera lista. El algoritmo devuelve el índice en donde se inicia la coincidencia completa. En este ejercicio no se pueden usar otras funciones ni librerias Por ejemplo:\n",
        "    `entrada: ([1,2,2,2,3,2,3,7,2,6,7], [2,3,7]) salida: (5)`\n",
        "    2. Se requiere un algoritmo que halle el valor máximo de una lista y devuelva el valor máximo, las veces que se encuentra y una lista con las posiciones (los índices) en donde se encuentra.\n",
        "    3. Hallar el promedio de una lista de valores. El algoritmo debe ignorar los valores nulos (`none`) si existen\n",
        "    5. Dada una lista de valores, halle la desviación estándar. El algoritmo debe ignorar los valores nulos (`none`) si existen\n",
        "    5. Diseñe un algoritmo que calcule la mediana de una lista de valores. El algoritmo debe ignorar los valores nulos (`none`) si existen\n",
        "    4. Diseñe una función que recibe una lista de valores y devuelve una lista en donde se eliminan los valores únicos. Por ejemplo:\n",
        "    `Entrada: ([8,7,3,9,4,12,6,4,3,7,0,8,5,6,21,11,6,1,2,5]) Salida: ([8,7,3,4,6,4,3,7,8,5,6,6,1,2,5])` <br>Observe que en este ejemplo se eliminaron los valores `[9,12,0,21,11]`\n",
        "    4. Dada la fórmula del sesgo positivo, diseñe un algoritmo que lo calcule a partir de una lista de valores.\n",
        "$$ sp = \\frac{1}{N-1}\\sum_{i=1}^N \\frac{1}{1+e^{-f\\cdot y_i}}$$\n",
        "donde $N$ es la cantidad de muestras, $f$ es el factor de multiplicación que puede ser 4, 8, o 16, y $y$ es:\n",
        "\n",
        "$$ y_i = \\frac{(x_i-\\mu)}{\\sigma}$$\n",
        "\n",
        "\n"
      ]
    },
    {
      "cell_type": "code",
      "execution_count": null,
      "metadata": {
        "colab": {
          "base_uri": "https://localhost:8080/"
        },
        "id": "BnQyV_qZmmA-",
        "outputId": "82311bb9-1b0d-41fc-f3ae-03f230e1627c"
      },
      "outputs": [
        {
          "output_type": "stream",
          "name": "stdout",
          "text": [
            "PRIMER PUNTO\n",
            "digíte el valor que se va a buscar en la lista: 8\n",
            "el valor: 8 está ubicado en las pocisiones: [1, 3, 4, 7, 8, 10, 12] y se repite 7 veces.\n",
            "\n",
            "SEGUNDO PUNTO\n",
            "La coincidencia está ubicada en la posicion:  5  y la coincidencia es:  [2, 3, 7]\n"
          ]
        }
      ],
      "source": [
        "#1er punto\n",
        "print(\"PRIMER PUNTO\")\n",
        "l1=[1,8,2,8,8,4,7,8,8,2,8,3,8,7,6]\n",
        "valor=int(input(\"digíte el valor que se va a buscar en la lista: \"))\n",
        "def BuscarValor(lista1):\n",
        "    posiciones=[]\n",
        "    acum=0\n",
        "    for i in range (len(lista1)):\n",
        "        if lista1[i]==valor:\n",
        "            posiciones.append(i)\n",
        "            acum = acum+1\n",
        "    print(\"el valor:\",valor,\"está ubicado en las pocisiones:\", posiciones,\"y se repite\", acum, \"veces.\")\n",
        "BuscarValor(l1)\n",
        "\n",
        "\n",
        "#2do punto\n",
        "print(\"\\nSEGUNDO PUNTO\")\n",
        "lista1=[1,2,2,2,3,2,3,7,2,6,7]\n",
        "lista2=[2,3,7]\n",
        "def sublista(lista1, lista2):\n",
        "    tam1=len(lista1)\n",
        "    tam2=len(lista2)\n",
        "    for i in range (tam1-tam2):\n",
        "        coincide=True\n",
        "        for k in range (tam2):\n",
        "            if lista2[k]!=lista1[i+k]:\n",
        "                coincide = False\n",
        "        if coincide:\n",
        "            return (print('La coincidencia está ubicada en la posicion: ',i,' y la coincidencia es: ', lista2))\n",
        "    return(print('no hay ninguna coincidencia.'))\n",
        "sublista(lista1, lista2)\n"
      ]
    },
    {
      "cell_type": "code",
      "execution_count": null,
      "metadata": {
        "colab": {
          "base_uri": "https://localhost:8080/"
        },
        "id": "Td0qjHQpmGdh",
        "outputId": "68acf65a-0fe4-4f7e-ac84-a19c72aed774"
      },
      "outputs": [
        {
          "output_type": "stream",
          "name": "stdout",
          "text": [
            "si\n",
            "el maximo es 9 ,está ubicado en las posiciones: [6, 11, 19] y se repite 3 veces\n"
          ]
        }
      ],
      "source": [
        "#3erpunto\n",
        "l3=[7,1,3,4,6,8,9,0,5,4,3,9,2,3,5,1,2,5,7,9]\n",
        "def MaxLista(ñapa):\n",
        "    maximo= ñapa[0]\n",
        "    pos=[]\n",
        "    cont=0\n",
        "\n",
        "\n",
        "\n",
        "    for i in range(len(ñapa)):\n",
        "        if ñapa[i]>maximo:\n",
        "            maximo=ñapa[i]\n",
        "    for k in range(len(ñapa)):\n",
        "        if maximo==ñapa[k]:\n",
        "            pos.append(k)\n",
        "            cont = cont+1\n",
        "    print('el maximo es', maximo, ',está ubicado en las posiciones:', pos, 'y se repite', cont, 'veces')\n",
        "MaxLista(l3)"
      ]
    },
    {
      "cell_type": "code",
      "source": [
        "var1 = int(input('incerte un valor'))\n",
        "var2 = int(input('incerte un valor'))\n",
        "\n",
        "if var1>var2:\n",
        "    var2= var2-1\n",
        "\n",
        "while var1>var2:\n",
        "    var2= var2+1\n",
        "print(var1, var2)"
      ],
      "metadata": {
        "colab": {
          "base_uri": "https://localhost:8080/"
        },
        "id": "S4kwcjW1Ry1O",
        "outputId": "fa6a5186-567a-4f77-ac07-f00effdb5ee7"
      },
      "execution_count": null,
      "outputs": [
        {
          "output_type": "stream",
          "name": "stdout",
          "text": [
            "incerte un valor8\n",
            "incerte un valor2\n",
            "8 8\n"
          ]
        }
      ]
    },
    {
      "cell_type": "code",
      "execution_count": null,
      "metadata": {
        "colab": {
          "base_uri": "https://localhost:8080/"
        },
        "id": "SnGK6W-q8fBx",
        "outputId": "32f468ed-8c95-4262-fabd-910761f7186d"
      },
      "outputs": [
        {
          "output_type": "stream",
          "name": "stdout",
          "text": [
            "CUARTO PUNTO\n",
            "la suma de los valores es: 23.5 , la cantidad de valores es: 7 y el promedio de todos los valores es: 3.357142857142857\n"
          ]
        }
      ],
      "source": [
        "#4to punto\n",
        "print('CUARTO PUNTO')\n",
        "def promedio(lista):\n",
        "    acum = 0\n",
        "    cont=0\n",
        "    for i in lista:\n",
        "        if i!=None:\n",
        "            acum = acum+i\n",
        "            cont=cont+1\n",
        "    print('la suma de los valores es:',acum,', la cantidad de valores es:',cont,'y el promedio de todos los valores es:',acum/cont)\n",
        "\n",
        "L4=[3.5,4,3.5,5,2,2.5,3]\n",
        "promedio(L4)"
      ]
    },
    {
      "cell_type": "code",
      "execution_count": null,
      "metadata": {
        "colab": {
          "base_uri": "https://localhost:8080/"
        },
        "id": "1VgBJOrhKb2g",
        "outputId": "926af682-f330-4c9e-b3b3-0bcfc84ec90c"
      },
      "outputs": [
        {
          "output_type": "stream",
          "name": "stdout",
          "text": [
            "QUINTO PUNTO\n",
            "el promedio es: 15.6\n",
            "la desviación estándar es igua a: 8.44393273303382 285.20000000000005\n"
          ]
        }
      ],
      "source": [
        "#5to punto\n",
        "print('QUINTO PUNTO')\n",
        "L5=[5,15,12,18,28]\n",
        "def desviacion(w):\n",
        "    acum= 0\n",
        "    cont=0\n",
        "    valor=0\n",
        "    for i in w:\n",
        "        if i!=None:\n",
        "            acum=acum+i\n",
        "            cont=cont+1\n",
        "    promedio=acum/cont\n",
        "    print('el promedio es:',promedio)\n",
        "    for k in range(0,len(w)):\n",
        "        valor=((w[k]-promedio)**2)+valor\n",
        "    desviacion=(valor/(cont-1))**0.5\n",
        "    print('la desviación estándar es igua a:',desviacion)\n",
        "\n",
        "desviacion(L5)\n"
      ]
    },
    {
      "cell_type": "code",
      "execution_count": null,
      "metadata": {
        "colab": {
          "base_uri": "https://localhost:8080/"
        },
        "id": "2c5-D97Dd0J3",
        "outputId": "6a69d583-f781-44f3-fbcd-359f9b124cf2"
      },
      "outputs": [
        {
          "output_type": "stream",
          "name": "stdout",
          "text": [
            "SEXTO PUNTO\n",
            "[3, 5, 7, 9]\n",
            "la mediana de la lista es: 6.0\n"
          ]
        }
      ],
      "source": [
        "#6to punto\n",
        "print('SEXTO PUNTO')\n",
        "lmed=[5,7,9,3]\n",
        "lmed.sort()\n",
        "print(lmed)\n",
        "if len(lmed)%2==0:\n",
        "    mitad=int((len(lmed))/2)\n",
        "    p1=mitad-1\n",
        "    posicion=((lmed[p1])+(lmed[mitad]))/2\n",
        "    print('la mediana de la lista es:', posicion)\n",
        "else:\n",
        "    posicion=len(lmed)//2\n",
        "    print(posicion)\n",
        "    print('la mediana de la lista es:',lmed[posicion])"
      ]
    },
    {
      "cell_type": "code",
      "source": [
        "#7mo punto\n",
        "print('SEPTIMO PUNTO')\n",
        "L7=[8,7,3,9,4,12,6,4,3,7,0,8,5,6,21,11,6,1,2,5]\n",
        "subL7=[]\n",
        "def BuscarValor(lista1,valor):\n",
        "    posiciones=[]\n",
        "    acum=0\n",
        "    for i in range (len(lista1)):\n",
        "        if lista1[i]==valor:\n",
        "            acum = acum+1\n",
        "            if acum>1:\n",
        "                subL7.append(lista1[i])\n",
        "                acum=0\n",
        "for i in range(len(L7)):\n",
        "    BuscarValor(L7,L7[i])\n",
        "\n",
        "print('la nueva lista sin valores únicos es:',subL7)\n",
        "\n"
      ],
      "metadata": {
        "colab": {
          "base_uri": "https://localhost:8080/"
        },
        "id": "QZqUsaQeyIsM",
        "outputId": "980ab7d6-fb66-430b-e511-244d8b635c19"
      },
      "execution_count": null,
      "outputs": [
        {
          "output_type": "stream",
          "name": "stdout",
          "text": [
            "SEPTIMO PUNTO\n",
            "la nueva lista sin valores únicos es: [8, 7, 3, 4, 6, 4, 3, 7, 8, 5, 6, 6, 5]\n"
          ]
        }
      ]
    },
    {
      "cell_type": "markdown",
      "metadata": {
        "id": "GIuFEJXuoJTO"
      },
      "source": [
        "## __Cálculo de la moda__\n",
        "\n",
        "__Definición de moda estadística__\n",
        "\n",
        "La moda es el valor que tiene mayor frecuencia absoluta en una muestra de datos, y se representa como: $M_o$. Se puede hallar la moda para variables cualitativas y cuantitativas. Las siguientes son las reglas que se asocian al cálculo de la moda:\n",
        "\n",
        "- Si en un grupo hay dos o varias puntuaciones con la misma frecuencia y esa frecuencia es la máxima, entonces la distribución es bimodal  (en caso de que sean 2 valores) o multimodal (en caso de que existan mas de 2), es decir, tiene varias modas.\n",
        "- Cuando todas las puntuaciones de un grupo tienen la misma frecuencia, no hay moda.\n",
        "- Si dos puntuaciones adyacentes tienen la frecuencia máxima, la moda es el promedio de las dos puntuaciones adyacentes.\n",
        "\n",
        "Fuente de información: [moda estadística](https://www.superprof.es/apuntes/escolar/matematicas/estadistica/descriptiva/moda-estadistica.html)\n",
        "\n",
        "## __Ejemplos:__\n",
        "1. La moda de : `ex1 = [2,3,3,4,4,4,5,5]` <br> es: $M_o = 4$\n",
        "1. La moda de : `ex2 = [1,1,1,4,4,5,5,5,7,8,9,9,9]` <br> es: $M_o = 1,5,9$\n",
        "1. La moda de : `ex3 = [2,2,3,3,6,6,9,9]` <br> es: $M_o = indef$\n",
        "1. La moda de : `ex4 = [0,1,3,3,5,5,7,8]` <br> es: $M_o = 4$\n",
        "\n",
        "## __Algoritmo moda de valores__\n",
        "\n",
        "- ordenar el vector $x$\n",
        "- recorrer cada elemento de $x$  \n",
        "    - si el valor esta en vals obtener índice y sumar uno a esa posición\n",
        "    - sino el valor es nuevo entonces, agregar valor a vals y poner su frecuencia en uno\n",
        "- hallar la máxima frecuencia\n",
        "- contar veces que aparece la máxima frecuencia\n",
        "- Si la cantidad de máxima frecuencia es uno, retorne el valor con el índice de máxima frecuencia\n",
        "- Si la cantidad de máximas frecuencias es N, retorne no es un número\n",
        "- Si la cantidad de máximas frecuencias es 2 y son adyacentes, retorne el promedio de los valores adyacentes con máxima frecuencia\n",
        "- Sino retorne un vector con los valores que tienen máxima frecuencia\n"
      ]
    },
    {
      "cell_type": "markdown",
      "metadata": {
        "id": "Q1ad3jj4qiiZ"
      },
      "source": [
        "## __Problema de las votaciones__\n",
        "\n",
        "A continuación tenemos un diccionario con el nombre del candidato y el número que le corresponde. También, se tienen cinco mesas de votación en donde se registra el voto por cada candidato usando el respectivo número. Cuando se registra cero, corresponde a votos en blanco. El objetivo es contar la votación de cada candidato para saber como proceder de acuerdo con las siguientes reglas:\n",
        "\n",
        "1. Si el voto en blanco consigue la mayor votación se debe convocar otras elecciones con otros candidatos\n",
        "2. Si un candidato supera más del 50% de la votación, quitando los votos en blanco. Gana las elecciones\n",
        "3. En caso contrario, los dos candidatos con mayor votación pasan a segunda vuelta.\n",
        "\n",
        "Hacer un programa que determine cual es el resultado final de las elecciones de acuerdo con las reglas establecidas siguiendo los pasos del pensamiento computacional.\n",
        "\n"
      ]
    },
    {
      "cell_type": "code",
      "execution_count": null,
      "metadata": {
        "id": "HeIyTF_Gqv5a",
        "colab": {
          "base_uri": "https://localhost:8080/"
        },
        "outputId": "514dd118-5f1e-4c36-eecc-c3602b103777"
      },
      "outputs": [
        {
          "output_type": "stream",
          "name": "stdout",
          "text": [
            "51 37 24 27 14 72\n",
            "se deben convocar unas nuevas votaciones\n",
            "76.5\n"
          ]
        }
      ],
      "source": [
        "import numpy as np\n",
        "\n",
        "candidatos = { 101:'José Arcadio', 75:'Aureliano', 143:'Úrsula', 56:'Amaranta', 9:'Rebeca', 0:'blanco'}\n",
        "mesa1 = [75,143,75,56,0,9,0,75,9,9,143,75,75,0,101,101,75,56,101,56,0,56,0,101,56,143,101,56,56,101,0,56,0,0,0]\n",
        "mesa2 = [0,0,0,101,0,101,0,143,0,56,0,143,9,101,56,101,56,75,0,0,101,101,101,0,0,56,75,0,56,0,75,75,0,0,101,143,75,143,56,101]\n",
        "mesa3 = [56,143,0,0,9,101,9,75,101,9,101,0,143,75,0,0,143,75,143,0,101,56,56,75,56,0,75,9,0,75,75,0,0,0,101,101,0,101,0,75,0,0,0,101,9]\n",
        "mesa4 = [75,0,0,143,0,101,0,0,75,101,75,0,101,56,0,0,101,9,0,0,56,56,75,0,143,143,101,101,101,75,0,143,101,0,0,75,101,143,101,0,75,101,75,75,0,56,143,101,101,0]\n",
        "mesa5 = [0,0,0,0,75,101,101,143,9,75,143,0,75,56,75,143,0,56,101,0,101,9,9,75,101,0,101,0,0,101,143,101,101,56,0,0,0,0,75,75,101,101,101,101,101,9,75,143,0,56,143,143,75,56,101]\n",
        "\n",
        "cont101=0\n",
        "cont75=0\n",
        "cont143=0\n",
        "cont56=0\n",
        "cont9=0\n",
        "cont0=0\n",
        "for i in range(len(mesa1)):\n",
        "    if mesa1[i]==75:\n",
        "        cont75=cont75+1\n",
        "    if mesa1[i]==101:\n",
        "        cont101=cont101+1\n",
        "    if mesa1[i]==143:\n",
        "        cont143=cont143+1\n",
        "    if mesa1[i]==56:\n",
        "        cont56=cont56+1\n",
        "    if mesa1[i]==9:\n",
        "        cont9=cont9+1\n",
        "    if mesa1[i]==0:\n",
        "        cont0=cont0+1\n",
        "for i in range(len(mesa2)):\n",
        "    if mesa2[i]==75:\n",
        "        cont75=cont75+1\n",
        "    if mesa2[i]==101:\n",
        "        cont101=cont101+1\n",
        "    if mesa2[i]==143:\n",
        "        cont143=cont143+1\n",
        "    if mesa2[i]==56:\n",
        "        cont56=cont56+1\n",
        "    if mesa2[i]==9:\n",
        "        cont9=cont9+1\n",
        "    if mesa2[i]==0:\n",
        "        cont0=cont0+1\n",
        "for i in range(len(mesa3)):\n",
        "    if mesa3[i]==75:\n",
        "        cont75=cont75+1\n",
        "    if mesa3[i]==101:\n",
        "        cont101=cont101+1\n",
        "    if mesa3[i]==143:\n",
        "        cont143=cont143+1\n",
        "    if mesa3[i]==56:\n",
        "        cont56=cont56+1\n",
        "    if mesa3[i]==9:\n",
        "        cont9=cont9+1\n",
        "    if mesa3[i]==0:\n",
        "        cont0=cont0+1\n",
        "for i in range(len(mesa4)):\n",
        "    if mesa4[i]==75:\n",
        "        cont75=cont75+1\n",
        "    if mesa4[i]==101:\n",
        "        cont101=cont101+1\n",
        "    if mesa4[i]==143:\n",
        "        cont143=cont143+1\n",
        "    if mesa4[i]==56:\n",
        "        cont56=cont56+1\n",
        "    if mesa4[i]==9:\n",
        "        cont9=cont9+1\n",
        "    if mesa4[i]==0:\n",
        "        cont0=cont0+1\n",
        "for i in range(len(mesa5)):\n",
        "    if mesa5[i]==75:\n",
        "        cont75=cont75+1\n",
        "    if mesa5[i]==101:\n",
        "        cont101=cont101+1\n",
        "    if mesa5[i]==143:\n",
        "        cont143=cont143+1\n",
        "    if mesa5[i]==56:\n",
        "        cont56=cont56+1\n",
        "    if mesa5[i]==9:\n",
        "        cont9=cont9+1\n",
        "    if mesa5[i]==0:\n",
        "        cont0=cont0+1\n",
        "print(cont101, cont75, cont143, cont56, cont9,cont0)\n",
        "\n",
        "if cont0>cont101 and cont0>cont75 and cont0>cont143 and cont0>cont56 and cont0>cont9:\n",
        "    print('se deben convocar unas nuevas votaciones con diferentes cadidatos')\n",
        "mitadDeVotacion=(cont101+cont75+cont143+cont56+cont9)/2\n",
        "print(mitadDeVotacion)\n",
        "if cont101>mitadDeVotacion:\n",
        "    print('el candidato',candidatos[101],'ha ganado las elecciones')\n",
        "if cont75>mitadDeVotacion:\n",
        "    print('el candidato',candidatos[75],'ha ganado las elecciones')\n",
        "if cont143>mitadDeVotacion:\n",
        "    print('el candidato',candidatos[143],'ha ganado las elecciones')\n",
        "if cont56>mitadDeVotacion:\n",
        "    print('el candidato',candidatos[56],'ha ganado las elecciones')\n",
        "if cont9>mitadDeVotacion:\n",
        "    print('el candidato',candidatos[9],'ha ganado las elecciones')\n",
        "\n",
        "\n"
      ]
    },
    {
      "cell_type": "code",
      "execution_count": null,
      "metadata": {
        "id": "RYQ1NiOildcJ"
      },
      "outputs": [],
      "source": []
    },
    {
      "cell_type": "markdown",
      "metadata": {
        "id": "GnXTX0tYm3nt"
      },
      "source": [
        "### __Billetes y monedas__\n",
        "\n",
        "> - El objetivo es recibir un valor monetario que sea múltiplo de 100. Luego de esto, calcular el menor número posible de billetes y monedas en los cuales su valor puede ser descompuesto. Los billetes a tener en cuenta son de 50000, 20000, 10000, 5000 y 2000. Las monedas posibles son de 1000, 500, 200, y 100.Diseñar un algoritmo que reciba una cantidad monetaria e imprima una serie de valores el valor del billete o moneda acompañadp de la cantidad que se requiere para completar el valor solicitado.\n",
        "- Pruebas:\n",
        "\n",
        "| Entrada | Salida\n",
        "| :---: |---\n",
        "| 41200 | 20000 2 1000 1 200 1\n",
        "| 188600 | 50000 3 20000 1 10000 1 5000 1 2000 1 1000 1 500 1 100 1\n",
        "| 400900 | 50000 8 500 1 200 2\n",
        "| 1300 | 1000 1 200 1 100 1\n",
        "| 350000 | 50000 7\n",
        "\n",
        "# Pasos para resolver el problema\n",
        "\n",
        "## Análisis\n",
        "\n",
        "> -\n"
      ]
    },
    {
      "cell_type": "code",
      "execution_count": null,
      "metadata": {
        "colab": {
          "base_uri": "https://localhost:8080/"
        },
        "id": "lHgJidNFby4f",
        "outputId": "98d644b9-e0b9-4bf4-8f38-59d5fd10d3eb"
      },
      "outputs": [
        {
          "name": "stdout",
          "output_type": "stream",
          "text": [
            "La coincidencia está ubicada en la posicion:  3  y la coincidencia es:  [1, 3, 5, 8]\n"
          ]
        }
      ],
      "source": [
        "#ejercicio 2\n",
        "\n",
        "lista1=[4,7,1,1,3,5,8,2,8,6]\n",
        "lista2=[1,3,5,8]\n",
        "\n",
        "def sublista(lista1, lista2):\n",
        "    tam1=len(lista1)\n",
        "    tam2=len(lista2)\n",
        "    for i in range (tam1-tam2):\n",
        "        coincide=True\n",
        "        for k in range (tam2):\n",
        "            if lista2[k]!=lista1[i+k]:\n",
        "                coincide = False\n",
        "        if coincide:\n",
        "            return (print('La coincidencia está ubicada en la posicion: ',i,' y la coincidencia es: ', lista2))\n",
        "    return(print('no hay ninguna coincidencia, vaya a buscar a su casa. '))\n",
        "\n",
        "\n",
        "sublista(lista1, lista2)\n"
      ]
    },
    {
      "cell_type": "code",
      "execution_count": null,
      "metadata": {
        "colab": {
          "base_uri": "https://localhost:8080/"
        },
        "id": "p59k7gxihSmf",
        "outputId": "3513372d-500d-440d-cf11-bd8b51184df7"
      },
      "outputs": [
        {
          "name": "stdout",
          "output_type": "stream",
          "text": [
            "6 59 10 5.9\n",
            "5.9\n",
            "None\n"
          ]
        }
      ],
      "source": [
        "#ejercicio 4\n",
        "def promedio(lista):\n",
        "    acum = 0\n",
        "    cont=0\n",
        "    for i in lista:\n",
        "        if i!=None:\n",
        "            acum = acum+i\n",
        "            cont=cont+1\n",
        "    print(i,acum,cont,acum/cont)\n",
        "    return (acum/cont)\n",
        "\n",
        "l1 = [3,7,8,4,None,6,7,8,None,5,5,6]\n",
        "x = print(promedio(l1))\n",
        "print(x)"
      ]
    },
    {
      "cell_type": "code",
      "execution_count": null,
      "metadata": {
        "colab": {
          "base_uri": "https://localhost:8080/"
        },
        "id": "ePt8sn7BpWTU",
        "outputId": "6f2aa616-0d9d-4170-907f-5f9f1e4aa334"
      },
      "outputs": [
        {
          "output_type": "stream",
          "name": "stdout",
          "text": [
            "[1]\n",
            "[1, 1]\n",
            "[1, 1, 3]\n",
            "[1, 1, 3, 1]\n",
            "[1, 1, 3, 1, 3]\n",
            "[1, 1, 3, 1, 3, 3]\n"
          ]
        }
      ],
      "source": [
        "#moda\n",
        "Mazato=[3,8,1,7,8,3,2,5,7,8,7,3]\n",
        "#def moda(Mazato):\n",
        "Mojarra = list(set(Mazato))\n",
        "boli=[]\n",
        "moda=[]\n",
        "for u in Mojarra:\n",
        "    boli.append(Mazato.count(u))\n",
        "    #max=max(boli)\n",
        "    print(boli)\n",
        "\n",
        "\n",
        "#moda(Mazato)"
      ]
    }
  ],
  "metadata": {
    "colab": {
      "provenance": []
    },
    "kernelspec": {
      "display_name": "Python 3",
      "name": "python3"
    }
  },
  "nbformat": 4,
  "nbformat_minor": 0
}
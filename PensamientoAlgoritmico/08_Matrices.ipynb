{
  "nbformat": 4,
  "nbformat_minor": 0,
  "metadata": {
    "colab": {
      "provenance": []
    },
    "kernelspec": {
      "name": "python3",
      "display_name": "Python 3"
    },
    "language_info": {
      "name": "python"
    }
  },
  "cells": [
    {
      "cell_type": "markdown",
      "source": [
        "# __DEFINICIÓN DE MATRICES__\n"
      ],
      "metadata": {
        "id": "R6RgHns3pmpx"
      }
    },
    {
      "cell_type": "code",
      "source": [
        "lista = [['x', 'y', 'z'], ['i', 'j', 'k'], ['a', 'b', 'c'], ['m', 'n', 'ñ']]\n",
        "print('Tamaño de la lista:', len(lista))\n",
        "for elemento in lista:\n",
        "    print(elemento)\n",
        "print('--'*40)\n",
        "print(lista[2])\n",
        "print(lista[1][2])"
      ],
      "metadata": {
        "colab": {
          "base_uri": "https://localhost:8080/"
        },
        "id": "_dGNy0f4isXx",
        "outputId": "9d7d56d3-8a0c-4d71-990f-4a743f356c93"
      },
      "execution_count": null,
      "outputs": [
        {
          "output_type": "stream",
          "name": "stdout",
          "text": [
            "Tamaño de la lista: 4\n",
            "['x', 'y', 'z']\n",
            "['i', 'j', 'k']\n",
            "['a', 'b', 'c']\n",
            "['m', 'n', 'ñ']\n",
            "--------------------------------------------------------------------------------\n",
            "['a', 'b', 'c']\n",
            "k\n"
          ]
        }
      ]
    },
    {
      "cell_type": "code",
      "source": [
        "for filas in lista:\n",
        "    for columna in filas:\n",
        "        print(columna)"
      ],
      "metadata": {
        "id": "fkkUkguYk2JY",
        "colab": {
          "base_uri": "https://localhost:8080/"
        },
        "outputId": "33d88fa0-da7c-4cc6-9544-e5f788201859"
      },
      "execution_count": null,
      "outputs": [
        {
          "output_type": "stream",
          "name": "stdout",
          "text": [
            "x\n",
            "y\n",
            "z\n",
            "i\n",
            "j\n",
            "k\n",
            "a\n",
            "b\n",
            "c\n",
            "m\n",
            "n\n",
            "ñ\n"
          ]
        }
      ]
    },
    {
      "cell_type": "code",
      "source": [
        "N = len(lista)\n",
        "M = len(lista[0])\n",
        "print(f'La matriz tiene {N} filas y {M} columnas')\n",
        "print('Fila\\t0, 1, 2')\n",
        "for i in range(N):\n",
        "    print(i, end='\\t')\n",
        "    for j in range(M):\n",
        "        print(lista[i][j], end='  ')\n",
        "    print()"
      ],
      "metadata": {
        "colab": {
          "base_uri": "https://localhost:8080/"
        },
        "id": "w4gwW3GylclO",
        "outputId": "7beb1cc4-281a-4a1b-e0c5-08a685c03219"
      },
      "execution_count": null,
      "outputs": [
        {
          "output_type": "stream",
          "name": "stdout",
          "text": [
            "La matriz tiene 4 filas y 3 columnas\n",
            "Fila\t0, 1, 2\n",
            "0\tx  y  z  \n",
            "1\ti  j  k  \n",
            "2\ta  b  c  \n",
            "3\tm  n  ñ  \n"
          ]
        }
      ]
    },
    {
      "cell_type": "code",
      "source": [
        "# Hacer una matriz de 5 filas y 7 columnas de ceros\n",
        "N = 5\n",
        "M = 7\n",
        "matriz = [[0]*M]*N\n",
        "matriz"
      ],
      "metadata": {
        "colab": {
          "base_uri": "https://localhost:8080/"
        },
        "id": "oUWTk_m1nPNU",
        "outputId": "130303b7-2f03-4825-aaeb-ca8047745f05"
      },
      "execution_count": null,
      "outputs": [
        {
          "output_type": "execute_result",
          "data": {
            "text/plain": [
              "[[0, 0, 0, 0, 0, 0, 0],\n",
              " [0, 0, 0, 0, 0, 0, 0],\n",
              " [0, 0, 0, 0, 0, 0, 0],\n",
              " [0, 0, 0, 0, 0, 0, 0],\n",
              " [0, 0, 0, 0, 0, 0, 0]]"
            ]
          },
          "metadata": {},
          "execution_count": 6
        }
      ]
    },
    {
      "cell_type": "code",
      "source": [
        "# Hacer una matriz identidad de 10x10\n",
        "N = 7\n",
        "identidad = []\n",
        "for i in range(N):\n",
        "    identidad.append([])\n",
        "    for j in range(N):\n",
        "        if i>j:\n",
        "            identidad[i].append(0)\n",
        "        elif i==j:\n",
        "            identidad[i].append(1)\n",
        "        else:\n",
        "            identidad[i].append(0)\n",
        "identidad"
      ],
      "metadata": {
        "colab": {
          "base_uri": "https://localhost:8080/"
        },
        "id": "7nnn7QyqoDlN",
        "outputId": "0ff9f3f1-c28f-410f-b247-647aab6126c6"
      },
      "execution_count": null,
      "outputs": [
        {
          "output_type": "execute_result",
          "data": {
            "text/plain": [
              "[[1, 0, 0, 0, 0, 0, 0],\n",
              " [0, 1, 0, 0, 0, 0, 0],\n",
              " [0, 0, 1, 0, 0, 0, 0],\n",
              " [0, 0, 0, 1, 0, 0, 0],\n",
              " [0, 0, 0, 0, 1, 0, 0],\n",
              " [0, 0, 0, 0, 0, 1, 0],\n",
              " [0, 0, 0, 0, 0, 0, 1]]"
            ]
          },
          "metadata": {},
          "execution_count": 8
        }
      ]
    },
    {
      "cell_type": "code",
      "source": [
        "# Hacer función que genera una matriz identidad\n",
        "def matriz_identidad(tamaño):\n",
        "    identidad = []\n",
        "    for i in range(tamaño):\n",
        "        identidad.append([])\n",
        "        for j in range(tamaño):\n",
        "            if i==j:\n",
        "                identidad[i].append(1)\n",
        "            else:\n",
        "                identidad[i].append(0)\n",
        "    return identidad\n",
        "\n",
        "var = matriz_identidad(6)\n",
        "var"
      ],
      "metadata": {
        "id": "PUqXBnV4qH96",
        "colab": {
          "base_uri": "https://localhost:8080/"
        },
        "outputId": "265911cb-05dc-4210-e3d0-9c017288a892"
      },
      "execution_count": null,
      "outputs": [
        {
          "output_type": "execute_result",
          "data": {
            "text/plain": [
              "[[1, 0, 0, 0, 0, 0],\n",
              " [0, 1, 0, 0, 0, 0],\n",
              " [0, 0, 1, 0, 0, 0],\n",
              " [0, 0, 0, 1, 0, 0],\n",
              " [0, 0, 0, 0, 1, 0],\n",
              " [0, 0, 0, 0, 0, 1]]"
            ]
          },
          "metadata": {},
          "execution_count": 9
        }
      ]
    },
    {
      "cell_type": "code",
      "source": [
        "# Hacer una matriz de N filas por M columnas con valores consecutivos\n",
        "N = 5\n",
        "M = 7\n",
        "# matriz = []\n",
        "# for i in range(N):\n",
        "#     matriz.append([])\n",
        "#     for j in range(M):\n",
        "#         matriz[i].append(i*M+j+1)\n",
        "# matriz\n",
        "matriz = []\n",
        "cont = 1\n",
        "for i in range(N):\n",
        "    matriz.append([])\n",
        "    for j in range(M):\n",
        "        matriz[i].append(cont)\n",
        "        cont = cont+1\n",
        "matriz\n"
      ],
      "metadata": {
        "colab": {
          "base_uri": "https://localhost:8080/"
        },
        "id": "_yC3bi1JrZo5",
        "outputId": "401a237a-4eff-486e-9de8-bee83be849e9"
      },
      "execution_count": null,
      "outputs": [
        {
          "output_type": "execute_result",
          "data": {
            "text/plain": [
              "[[1, 2, 3, 4, 5, 6, 7],\n",
              " [8, 9, 10, 11, 12, 13, 14],\n",
              " [15, 16, 17, 18, 19, 20, 21],\n",
              " [22, 23, 24, 25, 26, 27, 28],\n",
              " [29, 30, 31, 32, 33, 34, 35]]"
            ]
          },
          "metadata": {},
          "execution_count": 42
        }
      ]
    },
    {
      "cell_type": "code",
      "source": [
        "nombres = ['Juan', 'Mario', 'Alicia']\n",
        "dias = ['Lunes', 'Martes', 'Miérc', 'Jueves', 'Viernes']\n",
        "ventas = [[32, 66,  61, 21,  75],\n",
        "          [64, 22,  68, 43,  85],\n",
        "          [85, 47, 105, 32, 125]]\n",
        "N = len(ventas)\n",
        "M = len(ventas[0])\n",
        "total_persona = []\n",
        "for i in range(N):\n",
        "    acum = 0\n",
        "    for j in range(M):\n",
        "        acum = acum + ventas[i][j]\n",
        "    total_persona.append(acum)\n",
        "\n",
        "total_dia = []\n",
        "for j in range(M):\n",
        "    acum = 0\n",
        "    for i in range(N):\n",
        "        acum = acum + ventas[i][j]\n",
        "    total_dia.append(acum)\n",
        "\n",
        "print('Nombre:', end='\\t')\n",
        "for d in dias:\n",
        "    print(d, end='\\t')\n",
        "print('TOTAL')\n",
        "for i in range(N):\n",
        "    print(nombres[i], end='\\t')\n",
        "    for j in range(len(ventas[i])):\n",
        "        print(ventas[i][j], end='\\t')\n",
        "    print(total_persona[i])\n",
        "print('TOTAL:', end='\\t')\n",
        "for d in total_dia:\n",
        "    print(d, end='\\t')\n"
      ],
      "metadata": {
        "colab": {
          "base_uri": "https://localhost:8080/"
        },
        "id": "5NimJG1gvdJG",
        "outputId": "0388cb8d-3c6a-4577-d381-0aab41a03888"
      },
      "execution_count": null,
      "outputs": [
        {
          "output_type": "stream",
          "name": "stdout",
          "text": [
            "Nombre:\tLunes\tMartes\tMiérc\tJueves\tViernes\tTOTAL\n",
            "Juan\t32\t66\t61\t21\t75\t255\n",
            "Mario\t64\t22\t68\t43\t85\t282\n",
            "Alicia\t85\t47\t105\t32\t125\t394\n",
            "TOTAL:\t181\t135\t234\t96\t285\t"
          ]
        }
      ]
    },
    {
      "cell_type": "code",
      "execution_count": null,
      "metadata": {
        "colab": {
          "base_uri": "https://localhost:8080/"
        },
        "id": "QjrCuEhiph0n",
        "outputId": "23eb7c06-ff4d-4dc5-b601-4c8ac1bbbd25"
      },
      "outputs": [
        {
          "output_type": "stream",
          "name": "stdout",
          "text": [
            "[1, 2]\n",
            "[3, 4]\n"
          ]
        }
      ],
      "source": [
        "m2 = [[1,2], [3,4]]\n",
        "#display(m2)\n",
        "for i in m2:\n",
        "    print(i)"
      ]
    },
    {
      "cell_type": "code",
      "source": [
        "m3 = [['a', 'b', 'c', 'd'], ['1', '10', '100', '1000'], [11,12,13,14]]\n",
        "min(m3[0])"
      ],
      "metadata": {
        "colab": {
          "base_uri": "https://localhost:8080/",
          "height": 35
        },
        "id": "V_6C7WUPqs-B",
        "outputId": "d4720d88-acf3-41d9-9903-6d8628d6b625"
      },
      "execution_count": null,
      "outputs": [
        {
          "output_type": "execute_result",
          "data": {
            "text/plain": [
              "'a'"
            ],
            "application/vnd.google.colaboratory.intrinsic+json": {
              "type": "string"
            }
          },
          "metadata": {},
          "execution_count": 46
        }
      ]
    },
    {
      "cell_type": "code",
      "source": [
        "# Hacer una matriz de NxM con valores cero\n",
        "N = 5\n",
        "M = 7\n",
        "z = [[-1.5]*M]*N\n",
        "z"
      ],
      "metadata": {
        "id": "j5fs1mals7O4"
      },
      "execution_count": null,
      "outputs": []
    },
    {
      "cell_type": "code",
      "source": [
        "N = 12\n",
        "z = []\n",
        "for i in range(N):\n",
        "    z.append([])\n",
        "    for j in range(N):\n",
        "        if i<j:\n",
        "            z[i].append(8)\n",
        "        else:\n",
        "            z[i].append(1)\n",
        "z"
      ],
      "metadata": {
        "colab": {
          "base_uri": "https://localhost:8080/"
        },
        "id": "ANYw8r0-tu9H",
        "outputId": "151170bd-1fe7-4032-d59a-13afa2c11885"
      },
      "execution_count": null,
      "outputs": [
        {
          "output_type": "execute_result",
          "data": {
            "text/plain": [
              "[[1, 8, 8, 8, 8, 8, 8, 8, 8, 8, 8, 8],\n",
              " [1, 1, 8, 8, 8, 8, 8, 8, 8, 8, 8, 8],\n",
              " [1, 1, 1, 8, 8, 8, 8, 8, 8, 8, 8, 8],\n",
              " [1, 1, 1, 1, 8, 8, 8, 8, 8, 8, 8, 8],\n",
              " [1, 1, 1, 1, 1, 8, 8, 8, 8, 8, 8, 8],\n",
              " [1, 1, 1, 1, 1, 1, 8, 8, 8, 8, 8, 8],\n",
              " [1, 1, 1, 1, 1, 1, 1, 8, 8, 8, 8, 8],\n",
              " [1, 1, 1, 1, 1, 1, 1, 1, 8, 8, 8, 8],\n",
              " [1, 1, 1, 1, 1, 1, 1, 1, 1, 8, 8, 8],\n",
              " [1, 1, 1, 1, 1, 1, 1, 1, 1, 1, 8, 8],\n",
              " [1, 1, 1, 1, 1, 1, 1, 1, 1, 1, 1, 8],\n",
              " [1, 1, 1, 1, 1, 1, 1, 1, 1, 1, 1, 1]]"
            ]
          },
          "metadata": {},
          "execution_count": 34
        }
      ]
    },
    {
      "cell_type": "code",
      "source": [
        "# multiplicar la matriz por un valor\n",
        "def multiplicar_valor(matriz, valor):\n",
        "    N = len(matriz)\n",
        "    for f in range(N):\n",
        "        M = len(matriz[f])\n",
        "        for c in range(M):\n",
        "            matriz[f][c] = matriz[f][c]*valor\n",
        "            #print(c)\n",
        "    return matriz\n",
        "\n",
        "multiplicar_valor(z, 0.5)\n",
        "multiplicar_valor(m2, 10)\n",
        "print(m3)\n",
        "print('--'*40)\n",
        "multiplicar_valor(m3, 2)\n"
      ],
      "metadata": {
        "colab": {
          "base_uri": "https://localhost:8080/"
        },
        "id": "Qi2Zia90xj7m",
        "outputId": "a6676e30-066e-4c87-db8d-89451b092a8c"
      },
      "execution_count": null,
      "outputs": [
        {
          "output_type": "stream",
          "name": "stdout",
          "text": [
            "[['a', 'b', 'c', 'd'], ['1', '10', '100', '1000'], [11, 12, 13, 14]]\n",
            "--------------------------------------------------------------------------------\n"
          ]
        },
        {
          "output_type": "execute_result",
          "data": {
            "text/plain": [
              "[['aa', 'bb', 'cc', 'dd'],\n",
              " ['11', '1010', '100100', '10001000'],\n",
              " [22, 24, 26, 28]]"
            ]
          },
          "metadata": {},
          "execution_count": 47
        }
      ]
    },
    {
      "cell_type": "code",
      "source": [
        "#Datos\n",
        "nombres = ['Juan', 'Mario', 'Alicia']\n",
        "dias = ['Lunes', 'Martes', 'Miércoles', 'Jueves', 'Viernes']\n",
        "ventas = [[32, 66,  61, 21,  75],\n",
        "          [64, 22,  68, 43,  85],\n",
        "          [85, 47, 105, 32, 125]]\n",
        "# Hallar las ventas por días y por personas\n",
        "N = len(ventas)\n",
        "M = len(ventas[0])\n",
        "print(f'La matriz tiene {N} filas y {M} columnas')\n",
        "for f in range(N):\n",
        "    acum = 0\n",
        "    for c in range(M):\n",
        "        acum = acum + ventas[f][c]\n",
        "    print(nombres[f], '\\t', ventas[f], acum)\n",
        "\n",
        "for c in range(M):\n",
        "    acum = 0\n",
        "    for f in range(N):\n",
        "        acum = acum + ventas[f][c]\n",
        "    print(dias[c], '    \\t', acum)\n",
        "\n"
      ],
      "metadata": {
        "colab": {
          "base_uri": "https://localhost:8080/"
        },
        "id": "kAu4SXX32en8",
        "outputId": "122a1e75-1d03-4e25-eaf2-c64bd735a327"
      },
      "execution_count": null,
      "outputs": [
        {
          "output_type": "stream",
          "name": "stdout",
          "text": [
            "La matriz tiene 3 filas y 5 columnas\n",
            "Juan \t [32, 66, 61, 21, 75] 255\n",
            "Mario \t [64, 22, 68, 43, 85] 282\n",
            "Alicia \t [85, 47, 105, 32, 125] 394\n",
            "Lunes     \t 181\n",
            "Martes     \t 135\n",
            "Miércoles     \t 234\n",
            "Jueves     \t 96\n",
            "Viernes     \t 285\n"
          ]
        }
      ]
    },
    {
      "cell_type": "markdown",
      "source": [
        "## __Matrices en python__\n",
        "## Continuación...\n",
        "\n",
        "> __Problemas a resolver en este taller:__\n",
        "- Hacer una función que sume un valor a todos los elementos de la matriz\n",
        "- Hacer una función que permita calcular el máximo por filas o por columnas\n",
        "- Construir una matriz de distancia a partir de la posición de unas ciudades\n",
        "- Hacer una función que multiplica un vector por una matriz\n",
        "\n"
      ],
      "metadata": {
        "id": "-R9oo0YFBL7f"
      }
    },
    {
      "cell_type": "code",
      "source": [
        "# Hacer una función que sume un valor a todos los elementos de la matriz\n",
        "def suma_matriz(matriz, valor):\n",
        "    N = len(matriz)\n",
        "    M = len(matriz[0])\n",
        "    print('número de filas es:', N)\n",
        "    print('número de columnas es:', M)\n",
        "\n",
        "    for i in range(N):\n",
        "        for j in range(M):\n",
        "            matriz[i][j] = matriz[i][j] + valor\n",
        "            print(matriz[i][j], end='\\t')\n",
        "        print()\n",
        "    return matriz\n",
        "\n",
        "\n",
        "m1 = [[3, 4.4], [-1, 6], [0, -1]]\n",
        "m2 = [[1, 2, 3], [0, -1, 2], [0, -1, 5]]\n",
        "num =  5\n",
        "suma_matriz(m2, -10)"
      ],
      "metadata": {
        "colab": {
          "base_uri": "https://localhost:8080/"
        },
        "id": "IdKbALYKBKi4",
        "outputId": "c10fb902-d87b-4dc6-82c5-3f82917100a0"
      },
      "execution_count": null,
      "outputs": [
        {
          "output_type": "stream",
          "name": "stdout",
          "text": [
            "número de filas es: 3\n",
            "número de columnas es: 3\n",
            "-9\t-8\t-7\t\n",
            "-10\t-11\t-8\t\n",
            "-10\t-11\t-5\t\n"
          ]
        },
        {
          "output_type": "execute_result",
          "data": {
            "text/plain": [
              "[[-9, -8, -7], [-10, -11, -8], [-10, -11, -5]]"
            ]
          },
          "metadata": {},
          "execution_count": 11
        }
      ]
    },
    {
      "cell_type": "code",
      "source": [
        "# Hacer una función que permita calcular el máximo por filas o por columnas\n",
        "def maximo_matriz(matriz, eje):\n",
        "    N = len(matriz)\n",
        "    M = len(matriz[0])\n",
        "    print('número de filas es:', N)\n",
        "    print('número de columnas es:', M)\n",
        "    maximos = []\n",
        "    if eje == 0: # hacer la operación por filas\n",
        "        for i in range(N):\n",
        "            maximo = matriz[i][0]\n",
        "            for j in range(M):\n",
        "                if matriz[i][j] > maximo:\n",
        "                    maximo = matriz[i][j]\n",
        "            print(f'Máximo de la fila {i} es: {maximo}')\n",
        "            maximos.append(maximo)\n",
        "    else :\n",
        "        for j in range(M):\n",
        "            maximo = matriz[0][j]\n",
        "            for i in range(N):\n",
        "                if matriz[i][j] > maximo:\n",
        "                    maximo = matriz[i][j]\n",
        "            print(f'Maximo de la columna {j} es: {maximo}')\n",
        "            maximos.append(maximo)\n",
        "\n",
        "    return maximos\n",
        "\n",
        "print('matriz:', m1)\n",
        "maximo_matriz(m1, 0)"
      ],
      "metadata": {
        "colab": {
          "base_uri": "https://localhost:8080/"
        },
        "id": "uWhyejmdCNV9",
        "outputId": "c1abb7f8-2d4d-4950-cc39-1f719453385d"
      },
      "execution_count": null,
      "outputs": [
        {
          "output_type": "stream",
          "name": "stdout",
          "text": [
            "matriz: [[3, 4.4], [-1, 6], [0, -1]]\n",
            "número de filas es: 3\n",
            "número de columnas es: 2\n",
            "Máximo de la fila 0 es: 4.4\n",
            "Máximo de la fila 1 es: 6\n",
            "Máximo de la fila 2 es: 0\n"
          ]
        },
        {
          "output_type": "execute_result",
          "data": {
            "text/plain": [
              "[4.4, 6, 0]"
            ]
          },
          "metadata": {},
          "execution_count": 20
        }
      ]
    },
    {
      "cell_type": "markdown",
      "source": [
        "![image.png](data:image/png;base64,iVBORw0KGgoAAAANSUhEUgAAAe4AAAGfCAIAAAAWC6ZlAAAACXBIWXMAAA+IAAAPiAEWyKWGAAAgAElEQVR4nOzdeVwT19oH8CdMyLBlYUkQSIIsAUE22VSWvii1KNa6tMXqVVuX1rXurVVvq7bXrdVWW22pxbpevdqq3aT1VpSrgBsoAoKyKCYskgBmUWBChrx/sIUdlV5v9Pl++gfMmTlzJp35zZkzh8jQ6/WAEELImJk87QYghBB6UhjlCCFk9DDKEULI6DFbfpJVqJ5iOxBCCPWeyJ5r+CvT8JchQyL+u41B6C938WIKntjoGXPxYkq7JTjAghBCRg+jHCGEjB5GOUIIGT2McoQQMnoY5QghZPQwyhFCyOhhlCOEkNHDKEcIIaOHUY4QQkYPoxwhhIweRjlCCBk9jHKEEDJ6GOUIIWT0MMp7jXQaPm/d0VNn825ml95Iu3Dq4Hd/nxQuBAC78Z//cftm2qm/DyYfo1qLCQcKs0vvZB990+6RWxSzOe9Odmnh0RXej7FjZMy6PBv/YoTTwuPZpXeyb++MfZyz/bE9wWXynGD2vAoCAAuv2QlffzS05TRiiz38xW6swqOHUwm+h6cTSYLE05ULl+RPs5Xo+dDN2fg0m4WeJozy3iCDFm1aMdQOgMr5YevHCedkIPQZGjne/fbhfADI27ZwVn6IrTQ58TFzXAdAPGbL6gA4j7kpMlLdn41/Mfqv30VXnuAyeR5glPeCReT08a4kAHXhq7dXHpbSAFAqzb+U2FhKOM3+LGHFIKASwWt+IsV/8+iF5eEEdeb98Kk/UAAgeDPh2trBQF9aHThrrxoAQBD17taVE8Ld7EBx/Xj8uToKoOVhlXAaPvPN6SMHuwud7G0AqkvTT+37+LPjOerGYnbQzL9vmBXtwwf5rfN7jqvr/tufBXrauj8bAQDYPm+8u2LqiGA3O5KurMi9fHjnl18ml/ZcajHhQNa64dWJb8fsFaxcvWi0P/f8Cq85ieAWu2LtwkkhThyqNPXErow25ysAsIPeeHfx1BHBbnYcurLg+rm9n2/Zm64BIIP+fvSXma45X836uO6NjyYNljiwqPKbJxM++3jfdTUAACmJfWf265HB7kKxAxseVhZcORm/8asTRVRjvd1dJt1uS3pP+Oi9N2IDXQWWoK6ulGadO7zzq73XNH/d/5P/BRjlPSP9Q4P4AEClJx6XPnmvxOOdhJ3vBFkAAEA//0lrB1CUQSkN4qgJwweR1P3KinJSLHQNn7LugKX6/5aeVgOI39h88O+Rjd1wgfeLK9zabIqeBz2djaTPvG9+eM+fAwA0AGknDo5dkeDvsXDKgsTKnkoBAIDvP2ff10G+dgAgV2uA9F/x9cezPUgAANIp/M11wW3POZ93vjm40p8DlDw/T2oh9Bk6Yf0+N87rU77MbV7hzS8OcNgkRQFBkkL/SR9uporGrk6hAChyQOSkKC+gNNKSSp7Qzif6zR39QT56SyrV02XSzbbgv+LLdW+5AdRUSksoXj8nn6jB4vitffd/4H8UvvbshX58ewCAyoJi7RPXRQZNnhBkAUCXnlg01tU97JXPMqk2749KD3/20fKpI70Chw2NfKXxAhNERAaTAITruMmRHABQnF89Osxp4NjlyZr/6qsn9L+g+7ORE71olj8HQJ28JSbQ1ylw1pfZFBBO45e+FUT0VNrEKcgbMn74avXSJQv2ZkL05EkeJACVs2/eoAHBg6buKzC8f3BenDPHnwNQsGvmkJi4mKgpH6dTYOE//a3I1jOTwyr4epbXwGCvyfsKaADCKTxqQGNJzoGty9+fMsg/bGjUsJhPLlEA0D8y2ht6cZl0vS3pJhECAOTsnRcVNdLLf+Qrsz6KT3/2+zwY5b3RfBL1wUAhO9jDCQAg6/j2k7cpWpOx93iKus0a1LXEwymVJN9OLCSlxQoAAEsOlwAgB/i6AQBIf/n2cK4Gam4f3/en9MlbhIxMd2cj6RfgYw0AmqR//StHDXD/0jdHMykA6B8a3r+H0hby4x9NeX/X3hOnU3M1koEuHACgLu/dfl5OUfKUvYevtsYiOTA0yBoAKNJ78tbtm3d8PjuCowUAgburfctK1OW9CZfUNKivnk8tAQDgcjhNx6C4dPiH6yrSTiB0gnulFQBAcDhcsjeXSZfbPszLKaIAwGfegeRD6xZGkQXJ15+HyQg4wNIL9xUqAAHYiYUsgEe/vTPNWn8mOKQVAABVXdn0dExXye8bvLvsF7li7btvRHoJLDrWw+WSAAAKeWVjIyh5pfopvoZCT0X3ZyOHywMAUMirmhZQ1VUUAElweNZkD6XlTQsLbuU1xybJteQAAKgVFTWNSzTyam3r7cS6sUJSHBErNmwGkyRbuvn3m7fV1VE6g3VI1/HvLV80IVRi3eHZssfLpJtt6bxtCz/ibHpvUrCdeOiEFUMnTE/fteCdr1Lvt1/xGYO98p5R16/n1AAAGRwdKejtRiRJshp/EgnYrYtpNfUAAIC0YTd3W9jc1jko7PFrNy+M8RLA7cSvNixftGL1D7dbt9WpVBQAAMe2aRYaaW3HwXf6z5kezsb7KiUAAF9g27SAtLElAYBWK+9TPZS2aA1cSvWQAgCw5Ns3ZSaLy2G1rqlurLDy8NRgJxff1v9e2dU6DqPrvPsjnrJq68xIibU254evVi9dsWDj6da+cw+XSbfbAlBFiatfHxk1ec23yaUUgCD4nY9meXXWhGcKRnkv3P/zeHIlAHBi3tvxXqyPkM3p5+oTETt76YSgjmPVDzWN72ckfoM5AMAZPCHa1aBYk5NfCgDgPWF2lB0AKXl9Qrh1cyEh9HBhAwB1ed+yzw8f/uW83HCqIXUzuwgAQBI7ebyQBNIpdvILbbpC6HnQ7dlIXb+coQAAdvQbb/hYAFgPnhsXQAJAyeXUkh5KO1Vw46YaACxCJ83y5wBwBk2aFNp60lNZmTn3AcAu+q0JkqbnSFI8NHa4W4+HQbp7upEAcP/89g937T2RmKomDZ5eu71Mut+W9Boe6y8gKemF4x/PWXH4LgCAgG/3zL9VwgGW3tCc2PhZtN/m8UK78HmbT81rXqw+vWDn8Yx269ZcSrpKDY8gBa9v+k9gaZ2Nk7jNxG8q9ejxjNffDbJwfWvP2UkUkKBRt8yyokvy72jAg00OffeHPS/Kbb3CPditU7Do2z8dOj93YyRHGLsjOXqrjiQpTbt5Yeg50O3ZWHN6+5fnoz+J5EQtP5X1LgUkSQDQlSe2782gAKDb0o5jegBU8vHDRbGz3cigdw/mvUMBCWrDMWt14qc7J0T8fbAgelXyhTelCjCzsRNYa0/MTzpT1P1RUIW3iiiwI62jPzz89aSHTj4hTiTdMnO828uk+23JgDlfrgrXaaQlCorJlzgDgCb9QuYz/94Te+W9U5K44PVZH/9wqeCehgIAmlLfvX7mxPkcXcdVS/eu/ODb5NtyihQI+VCc9PFbaxINx+lydy1YuOtMkYaigVJc2rt05qqklhmvmhMbP/o2pVQNdj5DA9ypc6snfXD8Xuum0n+tmPXZ6RwFBQCq3OPLp6w43EVnCj3Luj0bCw4ueWXpvsTsUrWOJHUa6bXTX86fsuxE01zD7ks7UXNp8+wVey+UqimgakrPfLXk9c8vGcZiwe75ryzadSL9tpxpJ3Zz4hKVOUnHk271nJzSgxtW/+u6tIYUDwoNdlCceH/m6tMGU7+7u0y63ZbKTTqdJ61hid1cJf1Y8vxLh9fOXXbiGZ9UDgAMvV7f+JOsQjVkSMTTbQ1Cfe7ixRQ8sdEz5uLFFJE913AJ9soRQsjoYZQjhJDRwyhHCCGjh1GOEEJGD6McIYSMHkY5QggZPYxyhBAyehjlCCFk9DDKEULI6GGUI4SQ0cMoRwgho4dRjhBCRg+jHCGEjF6bb0Z8uk1BCCHUS+2+GZHZTRlCzwBZhQpPbPSM6djzxgEWhBAyehjlCCFk9DDKEULI6GGUI4SQ0cMoRwgho4dRjhBCRg+jHCGEjB5GOUIIGT2McoQQMnoY5QghZPQwyhFCyOhhlCOEkNHDKEcIIaPH7HmVbtApywcvOKxu+o3k2Em8Q0ZPemf2KBfyyZv2WNRn1r0y/7zow+8OTHZ5Sk1AzxZavunKr9u1Hj9ERkYwOl1DmyPL+KLsTnpNrVxPBPcf86urbWMBpcpdV5BzTK0BJi+kX8AGdzdxU9+JLijL2CQrTKnRginvRYegNa4iAQMAlPGXj63TdNiDmfevYUODGc3bliTPLCi2d437wZn9iAfTm/oBAOBB5uvpGVeso275u3V2LdMFZZfXFRem1NFc0na0OGyNyLZ5NVpakbG5uPD0w1rKxNyX5z5XEhRrSRh8WrLtWclf1IgORkY1f549tCo979CYstrW5Qz2oqC4D/DLLtt6sigHAADJq2vWv+wEtFZVfTv95/3bFl2RMk9sGfGoJ9mjKN0fN7NyxcmlQUS75SeWbcwM/sd361/FHEd9gk4vOn+YIqDzEAeA2qQbv86sJF4VBX9uzbNn6OqYzWd+Xf686xdyrHw3+jpwqZL428lTdKw/vUUkgOpe8pSbZWKHoK/deVBzN/7Ov1+jXvrVW8QFdqx7tERnUL2+JrHwwm8WtuLGBug1SflJ88o1ZgD2j3M4PdXftFAZfzM7q+taVIrzU27KxE5Bu23ZKlXO5oJEFfHaTkdzAKCq0qbcKLYXDt49wJZXX3Ho9uV5mfSPQ4cGmwAAUKrsedkZ6Q0E9QitolU6LYfr+4VY0Hy3YIktH+fgn219EOUcYUB4eGN0RsSOclUPW5B05jqMiHjymrsiP5OSTg/opMAi9MNDsWL+03okQM8a6n7GynLWpH628RVdrKC4tErBWhI4ZhGnXbcCCkqzk8Btt19oNBMARMEmmtBbmYdcRdPNNMdlxUqbyH97eXABwNYxwlz3QnbGYbFojhUhtukvNqxFk7GJMn/Zw00AAECn3Px9ZiVvTYBvQVZyweMcUPf1N7e8OPkbnft03q34zivRnJQWK61Df/X0FgCAnaOg7sgUae5ihyAJA7IrZVILz68lHj4MALDdQKhSrslOa4YGcwFqs2dey1DZR+02z35N2vtW0RU64FkKYwWOj3PEz42+HitnsjlMMCNZLQvkZxIWxI0e5BvgOnh03HsJqfcMVr6X8uX88UMDAlyDR8etPZFz7vOogJWJdHOp+ubhte/EhA129R08dOyCj4/dVAMAaFI3vvF/Gy5Td/e/4hXg5DH47Z8oAADF9b1rF8RNejNm+GCvsPFTNyZJaUDoidBlX9y6xROHTTbrag3tydLiOtuAOR1yHKA25b6S5IkimjtLXH7/CKhKqdSCXllQCx5cQcsIAWnbP5pQplTXdqiETpHeKjBzn27XWD8R0T/ix5CXpnNZlP5JD66z+gEAQJO5SkpP8gzwgC4uIVqeqqFD7Fya058IEThya2RJNQAAXCYJ9ZSyuXkUTamAxWvMA3PPD/zG/OjVX9BVzZ23ilLrgGOK/bMe9EGUUzqqkVpx50z8zhM1fm9NDG0sUp9ZFzd/n9Rj2vrv9h34xzRJ0b6pk9adud+42c3Ns5dty3d9a+OuH7YvjdUdWfDeidZbNX3n29lvrv4Pa/T7W3/Yu/X94fD739+clXAHgB08a+vOiU6k0/jv/jx54ezxraMa/x+XFZTwo99ee/Dwvp1vOhXuX7X6SOmTHxp6jtHpRRcOM3039LftchV9ZboGfNmsk3m/vnBur+d/Do3JykzRNhbdl9aB2ILXmkBMntiULqhRApAkAap6bWs9DTSlp6V1HUaLtUV7FNoQJy+fltEPc8fgLu8rj65j/fqq+JvZSofIJdasLreq1UgbWGIL85YFpDlPDJqCGgAAiaNvtL5oWVZmSh2tup8972axwCFoUtO6LB8b254juV2r9LXKeuCZdt0eBAB9MsCSs/MN151NP5NOESu+3Trbq/G3O4d3nKgYsuboP8YLAAD8wwNY8lHrNh+aNny+C3Vm3958u7cObpgdRAJAULg/WTp6+bWmeqgzu+Iz7d46uHVhY2lQiJh64/X4XYlxG2P5TgILACbbXugkbulM8EetTxjV9LPPskmJ479Jv0lNdsJbOXo81P3LK8tZc4MCJAyQdrWS7oG0ns4uuQAC3w3+trz6sj35GTMz4beQAAnQahp4TIMAYhA8JqjqKWA4RtuY77mXEc+PmmNtTtWVHbp1+Te6k7HvgpLcJIboa8e/6rVTx/oLis9/QXv+001AdtNx1mlVQLZ5DjFlcUGrrKcBCDD3+DoQll47/3paBqknfJ1f+tHd8ZHeUHZoFaXW0VeKf/Is0qqBEJjZjnYavMJZgG892+mDXrkkbuMvR/f9cnTf0YSNH4Wr42dOW/57JQCAOjO9AHyHR7YOw/FfHO4LBemZaoCczCzKOjQ6oCVs7cLDW+e95FzLUrUpJYOiQ+0fXknv1QChncgBKErb84oIdYou25RXyHOOnGPV7Wo6igIwswnd7eERwbX1sfPd4OVp/yD30P3uayciJDFreJovrh5ySNrd/+KFHGuvl02BS7TteDaUHSqrshd4RZs+0aFQNN30X0Pbgo71azKXSunpA4KCOw4XGeryDTAAAOjkewozTzMc57gETOaysmUpq2RVVLdb9NAqhuNin6jPvaL+GTjmV7/IxTz6ZGHilNtVva/yOdEXrz0dBgQFNL729A9/IYJ7P3bBp/snvbQ0SKNR6Ugu27BPweZySJBplAB1ajVwbA1vrTwOp+XnuvvtS4HN5wOlbv9vkzYrTdn7/YnE9Juy+1QdRdXVALzw5EeGnk90emHKIVPvY0I2RdMAQDXQADRF0xRBkIZBxgAAItjWsbXHwRX4MnILarRgTXKYoNQZ9Cf0lFIH3MYxX6btdL+46bpaab2OS7K5dP7MQkJgbmHYCNW9nENa3jyh4xM9WdZmT7lwOUXf2LbQy8G+Lf2q9vU3VMXfzKzrFz2XDRRNA2jr9ABA19E0SbSNdiaLC5TasNder1UB4WEKAHTSrdObakQHQyMjWAAuAdOlSVMKTq0zn7jBrvv7QzdHTQhs3CY0/SwIthPZ00fmleenu7SdPfnc64Mob4stcbWDc6UVOgA2m8ukVJpKAKfm0kqVmgIbNg9AweGAWmOYzHUP61p+5lpzQF3VJrc1CgVwgjt9rFKnrJ60ILHftI9Wvh3U386M0CQuG/9xXx8Yel7oK07KNWpt5oj/ZBosrZrynyKx46hLXgbzKFhssQktrasBaO6vNNB1eoI0IYDBlpgTh2qUFDSPDuseSOtBbG7Qs2Gai5kAACqFLB14c7mGvXLl4RIZ8IZOesLBFdJ9wyDbpuuIaW0wTaVD/Q+Lj2noHPW/B5QYbn9+QHLaBJ+pO+0Ngtic50FopQ9rwbZpCJyqVUqB/aI5AXpZUlWtryggoulQCIkoaHLZT4cUFWDXm/knvTlqlsSSDdVUV52651afR3lldk4Z2IXaMwHI0GAvctuZFPnUiU3nkOL8mWvg83YAB0DiO4DcfzklD8J9Gss06Zl3qObQlwwJ5e65nHSFCh/SeCFQGf9OqeD4BUsAAIBgAWXw0JZ7/ozCafwXS8cHAQAAXamubr24EHo0DPvpfqNGGwxHyO9dmCdnr/H1CTG3AwCqrqqCsBWbApg4hvOIYxX5BeIgCQMAQFVdlg7sGRwCwDzChkdJi1N0btFNeV2corddYm3efnc6+Td3ZHW80AkGc6Wp+3mHHrBe9vEUtF+7a3oaoMP8dxNzScc9dlq/pccXgxxaO1NApxb9+wsIOOgmElsR7Y+aS6ysvCMXezdOFrwiL1ORLuGWAECQJqDS1bZefnqqQgccZq8eLXp31LXZKiWY95dgl7ytPohydUlm6kUFAICmNOffR7alQvj7bwQRAOA0adG4w3N2zPo7LB4/gKu6eXzHjiTr8QmTXQCAM2LaJOc3v/1gpf3SN4JtqIKkhO0XW59GyRdmvR9+evXKZbxl08KFUJF65NP9lcHL3onlAACIPV1JRVL8nsg5wWySP8BH5CRiVqYnXZb7hHLVN5P2fH64BMD5yY8MPZ8IMdfRcJqzVM0ChrnE2tGHAaArWnox+aRF0LnQADGwJrj67snInnkdFjsJuFRJ/O0isI2aZAUAIHYKeLUkadX1y4tEDvZUSfwdGY/fVAQ6ZbpKa8YE5UPZYWn2ca39Vh9vg/zSJkkLpaTn5/xeDUoAAOjl69J+3WMReX2QRy/eB3ZWvwnbx9qw+0NLmQAMXoi1gIT2Rz3a2fubzIyZeTCXb1GnzNtcQUdIfIIZAGD/qj1vT8n5ZaygSTY8rk6ZJL18SCdY49D1LKAej1qZOV+m9eXxxObmHFqTci9nz33Wqz7e4i5qeW71QZQXHFsXdwwAAAi22MN/0j/WLo5r+mNLTvjKo985fbp9/7K3SlWkk0/4xISvFgy3BgAA0v+j3VvJT3ZsX/SminQKHjHto7dh1o6WWp0mfbnfbMfWPZ++u00BXGf/2HX7VrRUO2rp1vSVn+xY8Do4TfjHv7a8PHH92jurdywbkqAh+w2InrZ0x4K6KdcAob5nYi5gEfZm7KY5gZyggwGszUV563IyVQQ7gh/5Y8uf25j23+AfuSk/c/ONbJUJO4QfedDTrSlndWXbci4k6YBjyvOzCfjBzTfCsOtce2tPtTbExesRxoLrKwsoIkIs6tW8jseov+1Rk9ZBuwfCutsZ88q1JMv2ZbeYj0SNtwHCxz32IPPS9pLzfyvSUiYsCaf/hkGDJ3f/9rj7Vpnbeugzj93JLdDRYGIuYTsu8R88xxbnJrbH0OubZvPLKlQi+6c5w0d+YNqQ7U4JlzYO73VfBKEePfUT+7+h6vzg7NoVYS9NwIh7PnQ8q/93vhlRk3rxDji5iTDHEXpEBaqqOluP0Zjjz7E+f+3Za/TlL5f+DuERQW52XNBkJ+769E8IXztK8tQahJCxkriOu/6024CerqcX5YSTyE6x57u135Ro1EAKnP1jP9yxYrJTzxsihBBq639orByhvwKe2OjZ8788Vo4QQugxYZQjhJDRwyhHCCGjh1GOEEJGD6McIYSMHkY5QggZPYxyhBAyehjlCCFk9DDKEULI6LX5w31ZBf7THOgZhCc2eua1iXK+TW++VxghY6KofoAnNnrGKKoftFuCAywIIWT0MMoRQsjoYZQjhJDRwyhHCCGjh1GOEEJGD6McIYSMHkY5QggZPYxyhBAyehjlCCFk9DDKEULI6GGUI4SQ0cMoRwgho4dRjhBCRo/Z8yo9qrlzal/C0VPpGdJKDZAiR49BL7wxf9lId6LrTe7sfm3sUZ/4U2vDAOhbX786+0zMtz/O9eyDxiDUB7S55Vm7Ku6mPdSoGwiBuSDGKWS5gw3Z7SZnb56YoSCXB4ybzwYAoOpKjty9+fN9+Y16LRDsIK77fIl/GAugvmDGxdSz+vbbs/nDsrycAbSF97J2lN9Ne6hRM8zduG4LXQfFWDRdS2pV3leyglNqlZwGgaVwYv8h823MH+W4lAlXf1rf/jv1AEivY6GDAxmNzb6bcCcnUVldVE+Dqes3g18Y1qG/RynOhuTd1RgsCXN59Z8iNgAArTxbkpVQUZJNaYHJC7YduMpN0hQF3RSBcmfGT1seGtRo6vrPIS+EMR7l4J5vTxzlitS1b793QGoX9dqUVe84cUFdkpN6trqO202Ot0Ow2OL+Ij5+DSn6X0Gpst4rLpHYe38i5vFBmyO/tqXwTw1r/CZbVlebqKsubqjWsqEl7Wv/KExN0AmnOYcvM2dB7b2Eu9dm3IDfBvm7M/st8Bo21WBbbf29XYV5YMEFAEX5uQlFqjAH70+c2Sxt1c/SrEXZ1PfB4WEEQM31udlZSp7PfI9AEaP2WtnVr3JPgd+4+ZzeHxk7xmWYG22wQF9z6valRAsbUWOOa67PyM6SWXnMdw/0JZl1NCHq7LmdqtdqTYWr3SVuzVHLtbIAAAD6bMGpuUqrqU5DZlmytA9u75KlTq4nTg905XRXBKCvVdZDYL/wBTbNn7AJ2wdz/FE8YZRX/vLJ6gOlHssOfDtvYPNJHDtu5qNV4jL1y71Te14Nof8Skht8ckgwNEdJoLWFXHXyqEIOtsLON6i/u6GgxK2fK6tM0bzIfOzAiWNbwojn4ANVoYUlaXX+7mbsQDu24daKkpwCE+EnDjwA4PcLP2nNEpk1doWEw8zrR2Tl/6IKD7MBsPDZFujBt2jqhofxWLLLZ3+qVMzn8Ht9ZITI2llkuODBtS1a81h3Vz4AgPJAYZaMF37M27X7GlX1FLBEUXxn9w71D3ON/dOELWrMFRuht145Qnb7rM51LLObIgC9VkMTImvXYXa97wOiNp5srPzOz/uTNd4z1rTmeBtU4amvl8yYHBMR5h0YFTV59YHrmk7WorM2jAgas+3WE7UEob5l2CXU6zR64Jp2Nb6iPVt48YxlyGo7EgyHTdp2KimaAgazk6dVffW+ewqe7YCRjf1RhnlzjgMAAGkmALpO19iRJlpyHADAxMKOAKpe9wgH1R6dVpJfRLpNsyEAANSFJx5ypzn3kOMAoNHVA2HK7bSM1RzWAAAgIC1AT9U19FTUoFXqWVwCc/zxPVGUazKu5ILLqBdduigntbdvwsBxSz+N//GbxVHU2bVLvr5APckOEfrvaqDVD0v230w7AcIFTp1HnLry4hql7WoPiajTYj1QOk2uPH2xrHqgo99I0/blVHXOL7W8VxyFnd4o1BpFAXB9LDvLOG1lrpZwZ/Me4XDa13B7f5U2yMHTmwEAoFBXFDFtRdT1xRlH/FIPhF4+tb5c2en1qqyngGnRi3Ed+oa6Clh2kg5H3b5IR2mAye6LN3fPrSf68GT3Kimmo9C+yxW85375RdOPfivnXflpyfVrZTC0q+RH6H+IJuHasfUaAAC2hevqgeFjzTpbS3t3Q2GJd/8xY0mAjrFXfS4057YCAEzMhzkO2+bi0CGva38qvSvnDHqz01ykFbvuloBNeJxlJyjC3lsAACAASURBVDs+eycrzdT1e/tHeu3ZRmF5XjJDuL1f02iPrK4OGkq2FAsmOg9/h9TJFFc/LDylYY7fxG/3hoDW6GhKdTEy9ZyCBjaLF2Y3cHl/iXvHLHmYs1WhDXP2Duw46t2uSFun1Gv23ziUUK+lGCx3K4eJzkNmPdob3eddX9wHe1cHace3h1u1NX2wQ4T+euw4j1fCdJSyXnlNfmv99Z+uecZu4rcLF+3ZwotnrEJOOrA7r4Mz6FCAl5qmZA9Kfy49O1rtt9fP39vwSfjBzf0qYqSnRycdfr3m55tnEnTO30hcO+Q8XVhydkUlOWtgSFhPYxIU3fyWk0GQhrtuKD9SXi2wC4lq7jLX6SiqgTvVe9g0MwAAb/Zw5YMf15QVLeN7tW0eEeUybNtDms+yMNNTMnXBrpLUyTW6Y35ebZ5LtCXrb2QVcIKPOXX4cDoWsQd+4slVMK34BLNOW3m2LGvLjcQKn3GrrXHIpbeeKMr5dnakrrKkFEDSabkm95cDBxIv5xSVa7RQp9UowPGlJ9kfQv9FHEsbbwAAhzA7N/ecHxfdvTHNLtjboIOpVqSuUfGW+blyaJoCoBpoLUBtg5ZqYDWFJpPtzmEDQKC1cCyPNToza5fca1u/lk4unVaSX2Tq9oldx4kx2rSCpBVq3irf8GEdChX3zs0tVoa5xy637nJGTZO6nBlX0tP0AAAkJ/h8gE9LKKvlN47U82Y7tnlQIM0dw1ofPsx92WyQq2V64LftVpOWwrHNDwqB1sIw5qnI2wWnarxmWTSvoVPsvHH2CNNnr5eXqF2XvNMihnmgoCVE+GG2PLhy6kh5yXJr524ngKJWTxblAX5usPvM+TvzJJ0MmhTue3fy9uphCxZ/vMJTaEXCjW9eX3j9SXaH0FPCEllagKqmQg8GUU5fkJfI6ukPMg58YLBq4fVDCRb+vwUPaj+7w5IrYdAyqgagOX+1t/dX1Q4Uega2f2OlvXr7jzmVpst9Xpxm1b5bqqhMnVwod3OJ2davi0eBNg13W+drq278mckz6Fwrj5aVAHdwnMEcYJG5FdyvkTeAe0t7GmhgEJ0OLBniW/IEUKKsb/6drk648ee3DR7xfoMC2wVMN0WGTGzdzUFLaykAjPJeerIBlgFj4/wPrv3+iwPDPpvq0u4zr7yakq0N+vDjGcMbzziqRq18op0h9LRo0tUaMHNunGRNUdVyExuRKTG0/8hjTgYTSGoKFhcpwtzC4thWHV+BUsryG3pioEVr/haW5yWDwzqHdu8t6avFf865B7MHjpjFaZ/j6upLb90qces/YrtTh7edehqAaDdtBkzM3XmdjDhTyltHHrJivdoM7IisHd2k+b9UhYQ1Do7rlWkqDceS3zh5vPmoO1YGMlWFnGEladxPg/JI7p9f1rvF+w0Oa7dyN0Xt6Mqv1YCIz3uEGfPPvSccK3ea+vHi5Lc2r538twvjx0b5OHF1anlpcS45fOMMT5GjHZxP/b0gOs4VZOm/f77rihbs+qbVCP2Vcu+e3lJrG8XlikhzskF57V7ut2pipGSAOwDobq9IP/eH+aA/A/1FlvxAw81MStlAiNgOgWwA3e01OXdZ1v18LNl8E9A8uLu/tEBm4bPZtjmdG8oPlFdzbIaNazNGQhfK/pgjrRbZDxLW3P255cUSiz/SlgfK9Ol5eQpLr2lE1R/lVU1FDKtAgYOIoVh/+eQBi/DLvpJexJ82uaRIxvJobUwjzsCFtkWLCv5gU/7DLOjce1lf1vBmuwvJdketL9mScxu4fF8LNpuhLbxfkFCucnN8cSQLADQ/555ao2SOFNsoqgp+bqnY0nkYh+q6iCUrObe1jjvUki0gWVCnOFWed0Qv3Cbs/Xx59OSvPV3idh91OfD1gaN/7F67T0MRJF/sMXTKKABy6IJ/LLi/+fOJUSuB7R40aummj8xmf90XbUboryXk9hOpCxPuaGQ6miTM3SwFs72CZ9mZAwCYmPNNCQHJ7mHYgbAJ49zdf+/aEa1WAwTflBtoO/i4i1fLO091xY0T9expTu3GgrUZ9xUKAEVF+tWK1qWkpf9A20GgKrlBA6XO+0BtsAXDYZONw0SoLNISYUJhr7qxdfn7ldogsWeHiSXmMQNithen7yo5d6AeBJbChd5Dmp4MDI+awfW10O4qv7Zfq9UAIbIQxLiMfFfIJwGgofqsspbSw893U382qFfkaDXMSttlEceBa2VjVlW4s0Ijo2m2KduX4/W9l98wHFt5FAy9vumvGmQVKr4N/vU8etYoqh88+yd2deoLebXLQl4c29N7UPRsUFQ/ENm3+SMt/GZEhIxeoaaqzloyEnP8OYZ/X4WQ0XN3fuXy024DerqwV44QQkYPoxwhhIweRjlCCBk9jHKEEDJ6GOUIIWT0MMoRQsjoYZQjhJDRwyhHCCGjh1GOEEJGD6McIYSMHkY5QggZvTbfwaKofvC02oHQXwdPbPTMaxPl7b41EaFngKxChSc2esbIKlTtluAAC0IIGT2McoQQMnoY5QghZPQwyhFCyOhhlCOEkNHDKEcIIaOHUY4QQkYPoxwhhIweRjlCCBk9jHKEEDJ6GOUIIWT0MMoRQsjoYZQjhJDRY/a8SjfolOWDFxxWk7Gfnv5uHLtt0c0vx76xOR+C3j/5yyynR6z28urId7L/duKX+S7dr3hm6eBZ5UsvHp4oaPszAJXz7duvf6d9a8d3K4awu68Eoc7pqhLvZO6Rl2VRWjWDPScgbo11h3Xqyvbcvn6oqqKgHrik7YvCwR85C5q+hlGbOyXlQpK+dV3SNvJWgAfZ8rtWtj0r+Ysa0cHIqAhG62qUJn9TYXaiSlmhZ4mtHCe7hM2xM2+/X1q+6cqv27UeP0RGGm7bE2X85WPrNB0Wm3n/GjY0mKHcfunYJsPvAzZ1+6Ft25paWJHkl1OsNlgS4R73g3PrhSavyt52Nz9JrZHSNMdm6PlB3gIAqlZ26E7e8eqKbK0WCHaItcciz4CIpo+j211ry+LzMw5VVUkbCAm3/3S3wZO5rN4f83PiyaIcAAiSw4GU307Lx40XGC7PSzx+l82x6HjW/Deoz32+7AR/xd61b/lgjqPHoivblPHvPbTjdOfIFVZsMz1FWnZYp0G+6ervh5luc12jfEiQVmVvLkqsYLx6UMwGANBqVcCeLAmKNSOa1mfZt+Q4pcqel52R3kBQ7erUFi29dj6dHbDGr7/YRHNFlrEuO5EKfnVRmxOZTi86f5gi4BFCvBE71j1aojNYoK9JLLzwm4WtmAGgr1HWQ7Bj5GLb5qA0Yft2tou6ei1lKlrj6SFpLuWyLVpKpaX/fj2/QmwfsMbZXsyEOjDnAgDUnrx1Pl4nmu4SucKCBTXl8bczpmTBnyEBEuh21w1V2zP//UW94xJJdDhLm16aseraKSp4zHSrRz32Z9wTRzkNwS9E5Pz5e9K98ZP6tS7OOJFUERwRfeuM9El38Dg4AQt++ZlNkj2viVBn6Jw7KfG058HQoRHdXCImgiWD4uaasbmNoWPnaFZzaGlFsVTsKwYAXa2KYR7Uzy26Yw+yNnvmtQyVfdRu8+zX2l0hyuLTOsEHXkGxZgBg68OBnPNJKVWaRezWLKfuZ6wsZ03qZxtf8ajHRYht+osNF2gyNlHmL3u4CQBAr1XrCLGNW7SA6GLzJqp6CkhRtH1/SccyKn9dYYXEbVzT/ayV+QT/yRNabgzWjr5Q5X9LllIbIDHvbtdUdfb3D9hzgl5axAUACLYTkOnHthUXT/bpj9e3oT4YKzcb8mI0+/qJ30tbF1GXj/+pjnj5BTO6TZ9Dfi5hQdxoL9/BXsOmLU+4LG8t0eQcWhc3LNLVa/Cglxd8eaaq3S2m6w07p/5jpVfwskQKAEB9dIHr2ISMzCOrp40e5BvgOnh03NoTBe37QggZaCg7VF4TIQ7oLscBAIA0b85xAACWgEUArW06ueopFZC8Tmsw9/zAb8yPXv0FQLcvIlg80Kq1zb/SWqWe4JgapBZd9sWtWzxx2GSzRzmiztEp0lsFZu7T7QgAgAatUs/iMnvIcQBQ12uBYHX6z3lI791KYrovFnX2NNy2g0/RFDCY3MbPp+tdqx5qVCa2Ia31sUfzbVX3ZVf0Hdd9rvXFa08iZPxL7PRfk1q6F1TqiUQqdPwLbMMTVX1uY9zsfVLfWQkHdiXMdcve8e6snTcbi+RHV0795DS8tPTAwV075gTkb91w/H6vNuyt2/tmvZdEjly6Y++uHW8PkB9ZtyD+EWtAz5WH8is0O4Qs23Tt2ODkvZ7nj80sKJb2mB36qowHWq6VbWO3l6rXqggWp/MxEJaPjW3nnUob7+mcmq9zkg8pa6k62fas9BRL3yUOLR17Or3owmGm74b+to91YG1pi/YotCFOXj6Njayn1MDk9OJBXVlPAdOisyinc5RVJJtbJ01+PfWAZ/KBF9KT9yi1bVbRA6XT5Ny7PL+4ylfoP9q0h12TBBP0WpVBkqhoGupr5R1ugs+5Jx5gAQAgg8dE2x9J/Cl/2kIPANAk/ZwCL2yMtoEzraNypYd3HJGGrEz+cLwYAAL8NxRffn3/kTOz1gxn3vzX/pS68DU7VjaOtvsH2ymiph3pecPeP19REDx/60eNL2aDvCA7ZUHqZemiAeKetkPPqVqNVF9zqCA7Whi6281Cqc7dXJg0pWHUn56O3Zx08rKM72t4M7yaHvxV9RToyuaf2yvX0SRh7mvtPtc9KNaypz4vw3ZOQCxcT1yWUbSKAVxe6G+BvpLmHhd1//LKctbcoAAJA5586LKgJDeJIfrasbnHq61V6jV7rh+Ir9dSDJaE3cUbV6DV9TSlTAtNTpbTwGHxIgS+H7h5SJgAoJFSNFCZ6xo8l3jFSkw0ScVp664nkaGjJjdWU5nsf71IDgAm5tHC6J3uzZ9n17vm2jlHFF7+pqAo2MNNTGgLKjJWlSgpIAF75W31SZQDGRA7Tnjk5O83F3oMgPspJ1LJ2M9DSLjSuob6cnoeBC+KaElPn0F+5J68nLswnJ93pQh8J4a2vDUlB4UGWRyR9rihR6/bR3iFt85jYdv3s4MitZoG6PlREj2PKJ2W0kNw/5gNjuYAAJxIe23VCGlekrtjbBfnDKXMmFlQ5tF/zBxO0xKBU9huUyWYse1NdBUPyg/dzZ55VbN7cHRsD5MvalOK0/ZoyFixr19d8feKjHm3LHZ7uYkZAHTZprxCnvOYOY/yxo+im7uvDII0fAhvKDtUVmUvCI02bV7C8d3ozZMzrQRMZh1VmVSSuSnr14qAV9fYtDtmIto9eucDWkBamOkpqTL/G+n51x7qfg30Fuu1Sh1Qpu5f+AX5mACArcQHCtKSDpcrJ7vyAAB4QT8Ge6toSqopOS5LGqEK+GdggI9Jt7s28/7cWzX/ZvLg8mQAEHN9VzjaXilhmeHF21bfRDkQ/qNHunz7W2LOggGCP0+msKMPhrftvmg0Kh2kfjra6VPDrZxqtQA1GgpILtvOoFFsLqcXG/aeYYUI9QaDF27b2iGVcG3tG6qkdQAd57EAUA+yZ2Zl1wmiD7oYDJswbaMdm4ZBfHiO0TwYczn7kFwbK+wuy+Wl5+eX0DMCXl3EIwAC3rqfMSvr/EwW7093XnphyiFT72NCdmM6Uw00AE3RNEUQZFdTWWqzp1y4nKIHACC5oZeDfVs6TKp7OYe0vHlCg+cMhnlwv5b+kSCCz4MLvx8qlX1g0/4FI2klmtB8Owm2EUWY/h5akJ/40HuOBWFuAvZcoU/LPYNp62MBvz1UAvAAAJhsCZfduNUEa9aI9Mxv7nnvdGR1v2uBYOgPglBVXY3KxELMItLzjwLLXvzIs3eecX0U5QA+Y0ZLEk4cz5wo/u2K/UtvBxHQ5o2OBZtkQviCfetHGGYqy94ZoIZNAqXSaABaThgtVdOLDR8Fifdw1GukOVsMGillcEo20HVAdH4WPcxfmpkhtYn80VvU6ZvAJha2YhNaWk8BdBPldHplmYob9havaU9c66BF/FtTKosL3BxOyjVqbeaI/2QarF815T9FYsdRl7wcuzgS9w2DbJv+bXamtcF0YeXhEhnwhk7qZrKuiZ3EHCidts7gY+iUwIpnDzJlPQCDzWcRSqrW8JOj9GBm0tkHZ8XzYNBSqqaTD6STXRNcMzYXAECZel/DZQskGOVt9VmUg0f0BK/v9u7YyL/mOGqlf/tS64AICcTnl9nP92/fP2Z6+TjD3otX1FNHNRXlZWY/bP5f2M2GCP1FOMII09zE8rIlnMZOK51eLVexRL4kAABVV1VB2IobxyXqipZlpmVzIw8OdBN0UyEApS7PbmCFWFl0uxaQJgDaGhVA811Bq67XApPFZdhP9xs1uqF1Tfm9C/Pk7DW+PiHmdgAAehqgw0xzE3OJdcfBbqDu5x16wHrZx7O7NuvKMh6C2J7X2JI2R92WVFlRwWB7WAAAK8KGRxXnH6tza5pgQ8lSHhK+/ew6bkXdL8vWE74Wnd1M2u66zb5KL3//kD1BIsKZiO30XZSDy6gxnps3plR4Ldjq1UnppMUTD89e+/rS0jmj/AQWWlXpzXSZ01vLRomJAZOmhe79ZOusT2HRS45Qfv1w/E9yEkQ9bth3TUeoDUI0p7/jyYLkmSYB023YKmXettKaEDevYAaArmjpxeSTFkHnQgPEWtmqq8nHGkRLrOn0svz0xm0ZhNjGLdhMm5iXnMJyCLZkC5ggfyA7LM2v4ATNsev+8ZAIdnCzz8qen8da4WBvb0Jly69vriKiPd0FQADX0fCcl6pZwDCXWDv6MAD08nVpv+6xiLw+yKO7J4Mm2iRpoZT0/JzfpjFSafLmWl64FdueZEGdPLE095BetFMsAGh71HrZpswisBb4WbA5DG1BdX58qVIifGk0CwBALAydXvb7usxkdX83HxNlYnFmiqnbQQdz0BWtyiwmbR18LdkCAtSa4j3SfKmlb2Mbuts1gFwlk+otzBo0WYrs7aVVAofoxe2H71FfRjmIR40O/jyrbsyoTv5wAIDzwsqjCU6ffnvi4/d2yClS4OwZ/doCXuOGk7cepDds/n7D1D1arlvI9Pd3hO9583AvNkToLyIWvfRPxuVNJRnzZDSQti+7x34k5gEAmJgLWIS9GdsMAB6UJNUCBbJNt2QGmxITfPsHmxEStvmh0uyT0lq5nhCQvIh+kb+5evQ4LMC1C/vBh9x8N2f+tQtyPSG2dBw/YMwSx0561m3UVxZQRIS42xGeFrW39lRrQ1y8gts2hsu2NVPkby/XSGmaY8r243kf9AmIbuxcGx41g+dnqf2mNGMPpVUDIba0j3WPXSwWNHWTmY5rAl/i5WfsuZlUASwJz3O3b2gEE0BvG8Et3lOWcYjSqoEQsHjB/KG/uXs3jqp3t2uA/HsXZpZq1AyWxNI+1mPMYqFtrw7zOcPQ65sm9cgqVCJ7/IjQs+a5OLGrzg/Orl0R9tIE/G6S50PHsxq/GREho1egqqqz9RiNOf4c68sBFoTQUyFxHXf9abcBPV3YK0cIIaOHUY4QQkYPoxwhhIweRjlCCBk9jHKEEDJ6GOUIIWT0MMoRQsjoYZQjhJDRwyhHCCGjh1GOEEJGD6McIYSMXpvvYJFVqJ5WOxD66+CJjZ55baKcb/Mo//4rQsZAUf0AT2z0jFFUP2i3BAdYEELI6GGUI4SQ0cMoRwgho4dRjhBCRg+jHCGEjB5GOUIIGT2McoQQMnoY5QghZPQwyhFCyOhhlCOEkNHDKEcIIaOHUY4QQkYPoxwhhIwes+dVukGnroxYeFTd9BvJsXPzCh41cdbMGBfyyZv2lCh+ee/1bayVx9bHWAPc2f3a2KM+8afWhrX9GT0X6MKyc3Nv3xU4v/pPEbt1sV5ztvjSlnvlRToQWAmnuYTP4rE63/zetS2lRWm1WmByh/cLXO0s5DNaixXVOTtKCs9qNDKaZlsPTvL14gMAAPWgYMudG6fUSrmeJbJ0mOg8ZJaNeeMmV/OPvHqvtrUKBnu+/6vLOe12q9hy7eTOesk/h4SHMaDXlAlXf1rf/uv2AEivY6GDAw3r6ab++oIZF1PP6tvXweYPy/JyBqBlimtbpUVnamq1JuYDuW7vuA6KsSBa19NrThUkvVdBT2tzUNrc8qxdFXfTHmrUDYTAXBDjFLLcwaYxYdSqvK9kBafUKjkNAkvhxP5D5jd/Vs+bJ4tyAABwH//h2lgnoLXq+7czfj24Y2m67MsfN0aze97yf5KZtZPQCTjGey9CfUKvOVt0dlHFAzMAQZsCOvdO0txyGCcOX20JueXXttz4kzVo9DSL9hWo5edmFJSL7Adtd+FBrTRBenoy9eIxT2FjRsnKT/+tSC7i+60W2ouYUAdmTdmlvb0iO/Wqlf9q7xdEJpr00msbck9RAePmWwEArdJp2Ryfz4T85lsHS9R+v/TV4tSjWgIeIcQbsWNchrnRhp9AzanblxItbERtquq2fma/BV7Dphos0Nbf21WYBxZcAKCqL864eVfgGBIvseXpKo4Upy/Kpg+FDA5sHBrQlu/MO/ttDQC0ufYoVdZ7xSUSe+9PxDw+aHPk17YU/qlhjd9ky4Ka63Ozs5Q8n/kegSJG7bWyq1/lngK/cfPb3dueD30Q5Wwn/6FhLgAAEB4T46p5aeHZs1kQHf7kNT8V7MjFByOfdiPQU0anFfx7bjV3lY9PUe65QsMS3d1d95QDheM2iXgAEGbNU2b8kiArn+jp0Pbur/mp9K7SOvw3DwkHAMAhzFw3IvfqUaFwliWAtmD9Hbl7/zHfCzv0eNR3z+j4yz0GxZAAYOPNhtyLZ9OqNfOt2AC0nAaehVOMnUNX7aaU1z6sMI0T2CQoHvWQCZG1s8hwwYNrW7Tmse6u/N7Xz2AH2rU5IkVJToGJ8BMHHgDcqC6RmXtsd5V4MwDAZp2JOi275MyDwYEcAH31zuzT+wifeE96/Y27hjWQ3OCTQ4Jb7hyB1hZy1cmjCjnYCsHCZ1ugB9+iqRsexmPJLp/9qVIxn2PY5OdFX4+VM9lsAszI5k6DIuvAJwunvBwTEBgU8H+vzfz0jKz5tp/8XlTMp1ma6weWvBoTEBi1Mhngzu7XQhYerSg99emcmKFhAVMPyAA0N37asPStMSOivP3Choyas/bEHapxezprw4ioJYl3kre9N+b/wrz9wqJefe/rtMrWllClpz5dOCYizDswKubtbacKzqyMeGXDVQAAuLo5yu+1rTda19WcWOgduPAXNQCA5seF3oHvnaJ6ONAuG4aeBUSYOOzQoBencVhUu+ECdflVmjfcltf0K8Mm1potV0pvtFtNryqqAwmb39JBJK2dhxGqtPu1ACCryE8m3BY4dfbkasLiQb1G2/wrrVXqCbZp422C0uig+efO0OVfFebznIZO7INnSjqtJL+IdJtmYzAA8qj166v33VPwbAeMZAEAcJgk6Chl8wdFNVAqMG0ammLYxLm/eMxvUBgB2o71GD4B6HUaPXCbPgSiJccBAEws7Aig6nW9PcRnSx/0yilaS1EUAGjVZRk/fv1Lre/br4c0F5YVlfKHzZy4zIOtSktY+9Xf14p/2P2GEwAAaGWZCXP/LONPmPuxM8d9IMADALr41N8XFdEhM1eOE9j5igCo6uIiVujUD+b72GkzDm7euOY9gdeP8wY0Vq45u3lOYVDcgn9MFcDt33dt27psszDxs1esAUCT/MmMJads45Z99rEXS5750455m2VqiHvyo23G6q5hyPiZOQQCQIdhX3XtAznDyt0gQITmVqDVyGgIbHMxkSwTUOvqWxc00JSellEPAFi5qmqWlWtdybm/lZVk68DeUjjVZcg0LgsAwNprGvvul3nn7DxDxplVJdy8mmbh8y97FgCAvk5ZDzymaRctpq8WXzrKHHhIbAMlT3r0oL29v0obJPb0bo3RR66fqs75pZb3ioewMXfd+w2MKr/4Qa7VJomPT23e+/l3+fbD4syaVuZzu3zUaNJAq2vLf7p76QQIP3HqrN+trczVEu5sXidFz4E+iPLcbyZ7f9P0M+kYvmznZzNbEo0/cm38yKafBy6J++O1XRm3qDecmvoY14vd4/+5NrK5b/IAQFeaUbf4x71T3Zu7AmTk4t3Nwx3ejjOST32SkVMJA+wal2isx27+bKY3AQB+g/hlF+KOXsiBVyIBKn5PSKz0nhu/9g0XAAD/EDfN5Fe+qXryg23RfcPQs0qlo8CExzJ4miVNWQA1KrrtxcSwGWZtfkB+NcH2hVk8c4oqP1KQnkiDPQCARqalQZu1Xu+x0GOkm4kmWXZxw42zZGDMRDMAhs0sn5Fw448Prt9ewwAON/i4n4970+4oDU1nyH71K9ZqgOCTNqMcQpeJmjr+lDL9wwrTd/z93Rkge+LDLCzPS2YIt/drfW549Pprfyq9K+cMerPlwcRMst0PVmSn/u3yNVJPDBS9eNjFoXfD2pqEa8fWawAA2BauqweGjzXruI727J2sNFPX7+3xtefjcn9t/aYJjgBQpy4rPP2vnbOnF/4jfmNMx1CzE/YDLWXw/OQyMi6s3TMmGfb6OHcCOmfDF1iC7GHrSIYoKMS7ZWV7RwFo6zQUAAl513N0LlMjXVobGeYv2HXmsY6vFzo0DD2zOn+dSHfovxNhriNW1Z/dknVkPQAQvInOnrEP0gsIU9DXK3WgZbp95j3I2wQAbNwtofDK2aMVyonOPIDaNNmF/Q/IGOFA37q7+6quLSq0iPdwFTEAGA4LBrwQSLNEpiTQmhxFzo47f+Q0jD7mbAN0+Zb8Ip4wdpbloxxLA90yfEQSBlddQ/mR8mqBXUhUywPAY9T/4OZ+FTHS06O1/6xTHLiTdQYcZokF2vv5R0rTPmIN2+xk04vRGnacxythOkpZr7wmv7X++k/XPGM38Q0jmy4sObuikpw1MCSsq/R41vXFa89+noP8G0PTb2hkOPf+kipMjgAAIABJREFUmCVbDsa9uHgQAVCWemDvT6cybpXcp+q0VF0NQETrhqS1Hb/9584WtHttcvXodwfPXM0vq9RQdTSlVkOg4dpsg5u6QVWUWqMFK4HhHZ9t17dTarpvGHpWcZkkNGi1Da3nG1WvBSC5HROEaTNt4KvTdLUynY7LYnPogjl3CL6ZBcADcxMQcJy8TVrX9DaHxIcqAJ6iPHVxGf2mz7j5XALAf6ry2tzc1DnFvJMuNgAE39p1bNM2/EAboT3946J7BVfFwXAn7Yip178c2RRNAwDVQAPQFE1TBEF2NZVFr9iSfnJnHQAAMITxYS/GNB+CWn7jSD1vtmPLi1z66iPXT6eV5BeZun1i1zJNkz5beGZLjfD7wPAwFoCz39SSszNu/7nB/LV1Nj2nL8fSxhsAwCHMzs0958dFd29MswtuGfxR3Ds3t1gZ5h673LrTWaHPhT6I8rbY7q52kFIq1wE8TF07ZeEf/aauen/WoP62ZiaaP1a8tvGRKru+bcasoxC7eNXmEHc7NkDKhpc/6c2bedKSzYIyjRrAsXlRjaaT1ynN6mrUAI8yg+lxG4aMHceCJ9KXF9ZCjFXTkpLaB2AqFHV1JTHNG4vUVSVXgfsOhwUMKzsWodTWUgbT7rR6MDMhAOirVeVqzpCpzXcGDm/QfNv8GVV3C11s3NtXzXKztAIlpdLL0yo1Gu310WnXDUqrZ6TdFvWLOefRxRg0w+bNATHDGxp/MTd4FFYeLSsB7uC45gMEvfz3R61fe3t/Ve1AoWdgy+1KX558v3ago19YU9gS7k6BE+/9cqRSvs6mp1HytkctsrQAVU2FHhqjXFGZOrlQ7uYSs62fsU6A7hN9HuWVOTfKwDZEwATITEmudHply+JXGvurdJWmGsCqh+0NFaZdLiKGffFh3NDGU75Cq+jlGIaXvw/zbNql0nkDGl+xgiwjs2XyDFiw2aDRqFrW1lzNLKbA77/RMGTsOE5hzLwzVcr5VjwAAH114n0Nh9NvYGMPUacp1Fm4m3XoZuoUu+6W1HGDx1oAACuMx9XKCn6iXJumgmhL0moIH4EtALBMAKgaVWvPQqup1wLTlNtJU2pvqFVg5uxuInD3jhnV0FqgkF9aVGm1ymtgsLktAIAeQN9xthrB5zh0fHtIKW8deciK9TIYGGEIpnVff4ejLizPSwaHdQ6GbyAJFgPUdB1Ac+DqKbkO2MxHnW2jSVdrwMxZZAIAoK6+9NatErf+I7Y7PadvO1v0QZRrSq9fuFQJAPCgNPfPo1+lwdBlcYMIAJGjkFl59ewVxcAQjvpW8v4vjpYCiB+hZnsnJxZ160JKaVSUk1aaemDLwRwm+PRmS8dRU6N3z4t/b63l/LEStirv5x2Hi1lE80njEjLUfvcvCbtj+scFWqlz//31jmTNIx3y4zcMGTsT4VRHmwklyR8w/F6xhNx71xLqbN71dCYBADT7c46teeCwKTRmIgtAp7yqrjdjgrKm5GhJzs/1gk1eTX/PKXIMmXrv1Prscxqxq7eJ8pQ0K43Z9L4uqJ+r4MaNxfmsZfb2AhPqRmXW1vtElLsbHwBU1xeX1vtwuSJzczatSavI3a9kjfPyEgEBHAfDKeEyjSkwzN15Dt4MAKDP3jwy477w+yEvDOt57rE2uaRIxvLYbGt4NyJE3dXf9qgBoKH8QHk1x2bYOMPRDoZgvIB3oCz1A9NBcdZcjk6VXJJ+hOavsrfpvkG5d09vqbWN4nJFpDnZoLx2L/dbNTFSMsAdgFKmT8/LU1h6TSOq/ihvntTAsAoUOIiev28k6YMoLzzxyZQTAABAsEUSv7h1a959zQUAwDFu7YfFa79+7/++17DsPYdNWfLF3LrpmY9QM3v04s03P/l8zeveauC7Bk9b/NkqmP5L7zaN+Uf8F59u3rntvaM1LFHQuKUfxO1Y8nNTIRny7rYVmvUH5478Wmtp5z00btk/pm5cefu/0jBk9NydR8TDxa1lqTPqQWDh8P/s3XlcE2feAPBfmJAhQA4ICUIIyBGQ+5YK4qpoUaxnW6y+ykrF1oMVV9tadVu1rueK1a1WtsXqosXVrdW2irUt6ouAiiAqCEI4hHAmgDkQmCFj3j+4wiGisG83+nw//YPM88zzzJPO/OaZ53km/sktZFVnRxO3xJkswrQzjlC1Bx/cvKIBliHXk+v1rb1HcPe6C7rVJu8p3JLbSZIrMmA4cpwPuwUE0wEA2OavfeuKx0sL1uTdlGsxkbHVLHHEn0YxAQCYPLH27tnKwlINBQZMR1Or1e6BMebPHB1Wl7aSfI5N8FCiW1txkoL0t3Xxe46XRXu3GkBVf/9sOytKaNe7v4252Yd/g906VJOx5CFJGjAcWXZbPQPnP2se1YYzSqQqSSxXSzUUjjEdTQTvuwbEWDABQKqsuk8BoSr8WKWzA81ql7nV/FdvzJym1XbOYUvrlXzz5xn+0C8PvpwZ+cO4Y5c2otnJV4y8qfllPrGfSVO2/OYN7pj5u3iv6tqOl5G8qVlk2WvU7dV7DkGQV0qzvJTuGGmG4vhLbsSnPREE+W/CDfo16Pc+BuQ/D/XKEQRB9N4rM1aOvKpe9bFy5GWExsoRBEFeQiiUIwiC6D0UyhEEQfQeCuUIgiB6D4VyBEEQvYdCOYIgiN5DoRxBEETvoVCOIAii91AoRxAE0Xu9foNF3tT8ex0HgvznoBMbeen1CuV93gRFkJeAtF6JTmzkJSOtV/bZggZYEARB9B4K5QiCIHoPhXIEQRC9h0I5giCI3kOhHEEQRO+hUI4gCKL3UChHEATReyiUIwiC6D0UyhEEQfQeCuUIgiB6D4VyBEEQvYdCOYIgiN5DoRxBEETv0Z+d5ZlaylOOfnXy4q3sigYV4LZCF/8/LIj7aLoYG4Gy9UPhwfB550JO/Pap/1D3yNgyJTK5oeNv/7izP66yf84qiZS4CbGqj+8cncsGImPLvNiqqB8S59s+ZynIoChJ1dWlkoeWDpH/tmP1bNaqU0uv76qpkWjAkiWKdgpdbsbovzPRKk0uL/y+qT6PJAFjBZo5x7n4jMe7Sq7J2SUtSW8hwZA7xcp/s4NIQOvcUaks2F9a+L1KraQZB/Jc1zt7BjAAALKLT8+UqvtWQ+NtDpqz3ASUioL9D4tTlIp6CixNRQsdguMsmM/TWEVC1pmt/YoHI7efgscF0CC7MHlmTatOvaw4/8iP+//iJFmwKP16qrZnA84LLfJxxnsySA/cu/p5i+hE6MTxtH67A0Dznbezc26ZTSzydsT7JFGyXbd+OkA6/zs0tO++gyS9GoYdyuXpm6LXHauwmBwZ9elyIQdU0rz01KY2zgvEcerB7tk7uIeS3rcb7kH99wvZ8lthwLo/fPhgbuK/Pg1hPXuHQRnxhWKNhdGIHBnSQatOLU5dWas2ArDslUDll/yytBretA/dbAL5NTm77l7CA2dGm/TZv/VC0bUEjSjaPnS9MQNaahPKchbdg18DfcQAyrqrix7U2Fr5f+nEhZaKhPJf3iJe/8lNxAGA1oJVd65LWJ6bPWwEVGPKw5y3clvPB471MACx1bgTXEr3SCQ1N7equGIjgMd3YnLvKMw941z9bWmtOVXZn+elgN+bcc/x476sCKcwsUb3G2hJKbl+3phnSwMASqkh2RzPz20FXeGVYdu3yQAAQJJKYC0U+0cYdYUAhmV3RCaUeSvzcrKfYMTTjkKrSHiQd2/gNCq79NpJAoMBIvUgSa+KYYbyhrNbNhyrcll/8uvVHl3/v96Y+/6LFVb82+UKmDe8A9IjbDM2AINrPtw4DoD7r/rq9AgcEdKNSn9wcWkDd7OPp+TeVYluiubh4RqFp92b8XZcABjP4ypunkuoqFnoZt27C8mc571wXndkMbP2hEbvIml6q4+Yqf5e+lBhHvqLqzMHAHjW45maCXk5J21Fy00hvyo/3cD5hPfY8RgAWI83w+uvZ35e43nEhslhicJ0T5YnNenFrWIrtzAMwMTz0FgXgUlnN3y8OaMyI/WMTBbHEQy5yZit+eheT3XqnF0E8w1nRwEAAFWvAa6JTYTA+hnFaFqVNKb/KMew/g8qrXlLc3OUlhOPMPPeqhx4b8nDq4c1TtHcooR+ScSjnA21jAWjeAn1z5H06hjeWHnZuaOX1R7LtvbE8V4IycWDsVHvTAwKcvAMHRe54didrue3ssRZPrEn66pTdr43MSDIdUFS7vkNExck5hP3PpvqI3T28d2QDgAgv3tsS2zktCmunj6uwXMX70yt7OmUEPmnt0ZOCnVwDRo3e93f08pPxgTNOlTeldqQc3Rr5NRQV8+gcbPX/f3X6s7N1N3PJoXGni+/HL8uPDioc9+Mhu5CVflnP4uLCp8U6uAa5Dv1vU1nygfuPhDlZ7e9Fx4U5OAZOjF639kq6N3+p9Q+KNXpWIfZiTl3Tm2KmuHr6eMQNCNyy1mJTvWqG0mx86a4uvq4Br8Tm3hX95fnL68NclhwStb5qfryP7YunjdjnE+Qg8+UWasSM+RdJeQkfbBghq+nj4Nn6LjZ7206XQ7IwLDxo8d/F/h6NIdBaHunKGuyKe4UC27nRxrvDXNW/aOKPG2/Mnr3EAmKABqdQwfQKiSt4MwRdPeYcd7oMEyR3tQKQBU/VoOppWf3Qy3D8U0upDfV9D8PlXX5ye2CaJuOYI11x3EAAANjPh2Idk2/nYaOSq8skhg5RVt0HAqh0gDbcMDLvLd2Qgk4d8AuItPlY6+Z37mOFgA1UDKA+s7GSmqBi49z/wxUzedFRVzb4IX9nz0HSXqVDKtXrsrOygf7NVOfNs6LE2UPwGPuR++PscXKTu7ctWk1W/zrhpCO84EqT9kQW0KNff8vcwV8L1/PiKRPyPC/VC85Gr9ABEbGFgAAUCOp4octe2e9C0uZ8fWm/Rs32X1/fKEQAGTnNi7enCVeuDZxqhCqs07uWJZdR4h8O+ol8g/Evp1IzPto53pPRuXFg5+tfk9x9PtPX+uoWJ26Y5kk8J24XVGWUHbh8L7dcTtFv8bPNQMAwJvKJYyxSzbGevLJ7KSdn/1lraXb2dWufdqlvvyXZbG/Wiz4KH6HC6P+3tkDm9MrAQ+AodQ+qLJ/xnzoOjd67cE4ljL31J74rbFmrpfixgAAFCcuWn5QHhCzIzHUlir77ejWPXkEeA5cTGWRXDwzNtrLnlObsnvLwdi/2v/vgTD2o4sb3z8kmbo2fr03p6268m6W1GL4DwQvL6Z1AAD0C9DKluZ6Gkts3LNFZMwCQl1JQcCAF5MWCEotaSjc+rDR0+b1GYYAWhzHQNlO9uR5QhFaqrJNDcDjYBi0tSgBugI9qaCAoNT1AL0nQhQnq2vAPHTegOPhREM+gYnZZs/ZZh1k6VE5GWjv6tFxQ9K2KtqBazjAlEDfmttJJcZgDzzQwfAw5z11T21jwoM8hVX4n80YFyr6pFHZpddP0j2/G82Dvt35QZJeLcMK5ZW1coIuFI16agaPVQcPdv7p/Wls1ver7+ZUQ4gDAABoqrPb1v54Iqp7dtSWzzYCOddKaCvs2p8/fXvi9K6y1i1ImXs4+wGxUIhD+b+OpraFbD74yVwBAMDYkNHq8AWnOnM+Sjlw9IE45l97F48BAH+fnbLcGfuPXV7z2nQ2AACozOfE74vxwADA259fnTHvVEYezJ0AAIBPWHt8QleFwpjUi1tv5TWAq0WvVlWnJPzc4B/79d6F9gAA/mPFLe+EH2gYYu2DISBgVfync1gAAP6ukJcem5FVGTfGFiAj6V85+PTj+2InswHA29+HLZ26LmXgUoRL9nV96zBmfW7q279mSagw/0fVlY8tAmbPmeyDA4zxfy3smYeD9KfUEGDAxXWeZo0MGQAtSs1AF1PDVe+7pTIAMGCG2YQdcrLGAYDGCzNnHq3LSeBPXG7GJNpqkouyzlMdI/JYAF/EKSjYXSXaIeRxKHVqRfoBJQX9RqWJR4XJasab3qMHGgwnU0vvpDMcT1g917RnL5KqglSa6Evr7ps9odJQtx6ecyklVYAJjHgzhEHr7QT9a1e2E6CpWZV2TKahcIzpaea0wsk/wuTZU2eSh9c+p1y+dRTg/brkxKOsDbWMFf4+YlrfcD1I0qtmJBYjDu12gPP5lkC0tvRsGD9/7vOscrEQWQFBkAAAj+7klYHnH0K7BwJxj9CA7kiZm5VNCCeHjen6LAzwFRIFdyRdZ4htwFiP7npHCQVAtqkGGkcx51uaAPG4X1LRnTyNfciEnmcR8Wvelt0FPqv2wWCuIa91Xzwsy1EW0KJSUQBQnl/QgAdMCOluI9s7xG0IBQLwrXhAkG0AYBc2w0d1LO6PH/wjNV/+zP2Qpxi4v0n1778DAHD9vwuY+ZPv64cc7KE+dWrOnfwnAICNF4dv5qo/v51slXpk9I3r+WaubxgCB2MAAGdU6CE7szzJuTGXj1ilndtPOEabYYAxeg8ekKnSkkpjl2jz/tcPJalMXSvDl7sGjX/mxfWEIqjO/3pvr0muabQUuIYZdrfaeo3HxH2uE7/1m/mTV+gaLnWhJGVRWWP/IgXC4CNjQvd5RvzqP/2Ik4uguWDp7aspZP+MvanvrK2kosf4BwzQoJpdhSVcu9Dlps+T9OoZVq9cwOfjmgZpFYDzgOnq/HP/PHY+K6+0RkVAG6mWgfX0nlSWgP+sB/zq9GPfnE3JfiB9RLQRRFsLQEeXuUWt1OAcls7udBa76xOhUiup6r/P8/m7blFssntwmc3S6R/3PnVkOacSklKzi6rlKqKNIpQqCIC+CJWaAJalbh+bxWfrpA5e+2DoLM6AXXeKULQAx4ylM0bD4rBxUA2UuaU85XjS2at3JNVqpYaAFjWBOwIAYPbvH/uXR3LigaSN4ftZ/nOWbf5ovv8wHsFfTRw6Dk9I4knPmdPWTgLgnAGvJDpLzGEBQIC5aJ4ZY2r2ncN1boesGUDnRXtFRmtaK9s1HJzFoYqXlmACZseoDWO84/Q0e1JGEGDIEtAVCVkUx4TVa/qytehoIzXeyU3c774iq7m6tPTReJeZH5s/azBEK9t146cDHcsLaaIjf3g9oqtFyrr8ZJK70kZ3IhcTmDt2LUkQBFiILKlTK2uLs+3HBfQ5BjovzLpzFMWDax3GhZlZeckyMsLm6cfzpDHhwZ22UWErWEBQFADZpgUAqo2icAyyS9KTDd3O2LA67jfEEwqAIiiKwCDvqUkY/uotZRleKPf1EkPib2nlq50HGC6XHF319r7GsLi1OzaOEbFwyDs0e9Wd5yhdlb5pQWzKqKhPNyzzH21hhKlT1s39rCPJmIXTCWWLGnqmG9VEd3+fzcIx+yWH9i2w0SmNzrLF4GnTLZ3u7Fu85BS8sfbTvWPFFiyAa59N2yrrlws3YeFQrVIBdA8Etej06gepfQjwAbNhONcY2tRqoqfBJEEMOCPbcPbDqHW53ms2bvnIV8hhgDQp9u3u1S24MCR6c0j0WsnFf362beeiR4z/TZg79CUOCABwTLi22hpJC0BX10HaogaGyPaZV5Ip15lGVRItAF1Bjc7s2Espl2YDdwVHJ9gZMARMBgAAUZP+GPO07jXEly0tvIWJjvQbP5HJrr1VVC92ijhkPYRZEBrvXffpU550fDDWeT5WnKySAnfcgsHKYIhNWNBEPLuDYsyzNaAq24meVvf3+OEZNZWv+mVMle7Wa2OuZs5znyKQqVXknan/qxs6Ghf9b6mt9diIhqclTb/p+qyVNi+d4S1GdJ27wOf4pq/jj02OX+LQZ1qvITvtHhGweUdMWEdHk2hRKQYvDQMAsidAFVy7LBfO/Xzt3I73bqgGVVPX9cN2DbSDwxm3VAu7BqBLH2SrOsMc7jk2AL+cX80QTxbC85BkZEmwyQe3zO+cmK0jZQNGSzdXT7icfqN6tWtn+ZW5d7qX1rxw7YOy9nCzUKVlZbdMD+nourXczb4H4NIvI3U3NU3tEbtu9RsdN1dCom7o1wiWeHrs9sr0id8+kFAgeHXe5BoRHJvx9ILf5Io4FhcAQNt4vknN4Vh5dnQDNWpJu7GYOcB3SjyqydNinsb9AqRGdrhc2sYdO2+AZdpkakl+Oib60lInamseHq1T246aGNb72lU2XP+fAqnYMfxLEbdPKaAF0PYfTMUEHOv+N3LiUWFyM+MND5dB7/GteUoFMEeLn9lqVW3eE0agqXH/pB4mzp/7WrX1fKYySn/5HHxOOIpsTXnAnD7jSU+arO76Shlrs6dHINOMbc17SlLvya1XwzDXlQuXbF+bumjnpsh3Mt6cO9lTyNGoZNXl+XjY3pgxtkILSEu/UDxlgSNU3krZk5BFwKBf8egxYvrZ7xNO+UeNMcKF/iKhiN6QnZol8xjLUT1IPbrvZBVAx9tD2Jh3osYf3Ry/Kh6Wh9sb1WadPPyvSjqIO8rhR6yPPvX2nveWyWLmBgo5oJaV3s0zmftp5DPeqLQUCnHiQUZaddhkIVGRfmxPUh59oEUiwogl05OWHVq3ySR2njNDWXAxIbkcx7ruZEOuXfWoDYBUKNU9HbynwkP+5x3/Hw5+sFb4yZJAS7ImI/mry9SAS2KEIiGk3riWP8/ag63OP3/owMWuBaAVZz9LahQHjHEebQHyuyfPluOef/REcfx5GYiiRbw3KlLXGfjMNYH82pyEVt6f3UbjAADqo3dOb1Rbx4dMX2hQuvHOQ5xn5WnCEmCgUj88WllcaeK5j48BAGgU2UrSiA6Kx9KTlXnfk5bxHm5doZOUNDYo6XQgFb9V30lo0rzpFhxh2FN/ZU3eBQ3vY2GvSEs8ylqUXyAzdYvGGi9Udw1h00wDRlnbGlCp95MXNYpOhE4Me/bUGJlaWVKJu3QeZzfFnVVS0pPLtWUy2ZQ6vS7/6CPGmx5utn1azSBTCq+mM6wCTFgCOsiapScri+vZ/sstBj3PDFgeZrqXAFVJB6BxA80EOABwrHWX7lSqGEBjis2sPWgATOZTk149w37b02H+8e/tjx1MOnnx601H1QSGC+xcQqIiAPCQuB1rHu3c82boB8ASB0R89LctRksPDlaUcM72T+6s279v8a8M28j4q5/M376lfNPBda8lqvFRY8Ki1h6MbVuU25lXELnzOLHvs292LE4kOY6B78Stm7djQ15nIu4R9/UJ/sH9pw6tO9ZAAMvWdez05c9+5GTPXBtfuHXPX+Y5qEDgGBi9Nv5T+OPZATJaROz8+uDOnQfi151sYdgGzP3o0MaUhd1NG1Lt3S/u/yNqSnbcv5794r5rTGICfBb/r3XRB8FsTNiyLQc9d76d3S8bNmbFrg3Sz75+e8I+wkQYMDXm07+xYj9WAwAY87nVp/7+w9eVKgI3sw+YvOrER0NYVIP0I7YPP6LN3C29tqgdLE2s/+wZGtf5PeKWRkw2YWprAIDxxnMeHq3JSSZIFWACBjeAP+68k5tHRzDV1OzPv56qAbYh18vc59+OnuO7u91adUrpL5+rKcCYYrZos29AtJlOl1wrS66S4eahC3p34SsfSfMoIJQF63SHPGjW8RbWCxlqSQspMBONH8oSh9aio01koL1r3xFwJs9Ze+dMeYFEQ4EBU8yy/rN30HIeo2+rAROzmMnVeRcqW2VaTIBzx48KPe/g3H9MHxlxNK22c+pdWq8UWT7He77/XaisTaHv5b174ceYERzWQF4G+n1iD5+mdGl6Jtd9YTwfPYK9PPqf1S/LLyMWZ2U/YtnavYpjZAgyGLVMYui0gIfi+EtuJH4Z8fcgO7Pzs1JhWMAYW3O8rerWyQPHJTZzPg0ZwhuVCPJKMRuXFvJ7HwPyn6evodxotBC+O7vndE29igC20CNo8cGPloUMOk+OIAjysnpZxsoR5CnQiY28fF7esXIEQZBXGArlCIIgeg+FcgRBEL2HQjmCIIjeQ6EcQRBE76FQjiAIovdQKEcQBNF7KJQjCILoPRTKEQRB9F6vF/el9UP6Z8sQRL+gExt56fUK5Xxz9M+dIi8beVMzOrGRl4y8qbnPFjTAgiAIovdQKEcQBNF7KJQjCILoPRTKEQRB9B4K5QiCIHoPhXIEQRC9h0I5giCI3kOhHEEQRO+hUI4gCKL3UChHEATReyiUIwiC6D0UyhEEQfQeCuUIgiB6j/7sLM/UUn7pn4mnL2XnVDaoARdZO/tOeGfVumlOWE8W+Y8fvr2laNxfD++MEI5AjQjyn3S79Myb1eq+W2nmm/xnxRj33qhtzay8caiuNockGXRuAM99o6O468ynSupy91aXZraSQOdMHuW3yc6GTwMAINqqTlU8+OGR7H47CRjLn+O0SuwdzOgsUqUq/OJh0Q9qtYpm7G/mss7Rw4+hWyVVUpO2oqxCYPfmtyLWc7ZMkXj73Pa+v6kHgLueGRvkRyNL6u4drK3IfKxW0ZiOHMfVDr7hxlj/Ugj5lcDCCt0vKNi+52AIVeGOsoKzajXQuQECr632DiIDgHbJuzcyrmj7FsXiT7rnagcARLNkb/n9SyqFTMsQmVjNt3stxpzZ+YUoC7+QSi6plDIKBCY280e/tqorCek27FAuz9iy7MPjlRYT31q08T0hB1RV+RlXmto4OicA8eDInw/LZx74Zl2oxXCrqzm+6L3GdT+s8R3gBEOQkeFkGfQNh9LZQJXW3dqu5jrifXMWPLz0bg3MHz1hExtXPK5ILM9Y2I795u7ABlDJ0t6V1IosfQ/Yc6G1MrHyt4XElDMuNmxo/bkkI1FjE2UXso7JgNa6xIrcd+/DeV9vJwBoK1yTf7PE1GOTq5BPNV6qzF2Y1/a9b4Bbx/OzVn2l9EpcfbMRgOBFWsYKt5/kqNsybculspspxuYiGshr0+aVKoOt3LbZsRhk4w+V9+LyiG8CQoL7XWtEO0ka2mxyEjvSOrdwTLtucYQk7v7NAhOPbW6j2ER1YkXauxrGeRcbnD4q1nXSYp1CyPa6r0oKwZgDAECWrc+lD34CAAAgAElEQVTLuG3qvcltgshAnV2du6PgEuEzZ5UpQMvdFXn3FFyPVc5+Ilprbs3tLwougdecVewXaf9LbJihvOHHbZuOVzuvO/6Ple5dp3nEnKW9M+G2kYfPLWX1uwxegPxKxm1qzAgUhCBPxza1maT7C+dPajNLWp0sXSf1DWqKK00KgcWUrUIbAAAWX0TUTK2uytc6BNPU56orFGYh553FbAAAq2CmZmrB7dM2NjEmzNnu82d3BUHgWnlA49iSqsw2bycjKKgpyDQQf+MeEIwBgFUwB6/PvvH3OvcEayYAlSn5ZUUTZ6OHR2lBWsmLtAwTmdmJdDc05+4lmRFODnwAGBVywYwhMupopM0kZvvUe8U/KkOCzfuWomwngCGayLdz6ldBSe39q+Bw2C1gEh0AbPwN1ONL7p4abROFs/wsej1DyKvyJQY226y4AACqissa/gfOvuE4AJi7saDgxpXMJvUqUxYYe+z3c+Ybd3bDg7kMadaVcw3yVWz+i3wBL6/hjZWX/5B0Ve327uaeOK7r9u6JXm/F3wcwZnXEcfXZ1W5+q39UdWVQFZ3esXrm5IlufsGvTV+y4Ww1AJQcXug2ftt1nY7D1Y8nui08LgX19T0Lp+6+RVQef8vL39E9eOWPBACo75/bsXbJzKkT3byCX5u+fMvZcmJYTUKQvlSy+6c0/MXW/WMHzqKDop3sPqPVVDtgxlwA0CpL20DM4nf3HXEzu0mYMvNRKwAArVcpBEUAjc7BAICStKjBRODRfc9gOMxlQ+ajWgIAAAu2DU72nRLFZhD9RipeCJVZVVyKO0aZYwAANGZXHO84YiMBUG0aqv9uak07YIacAQpszVQoGGyb4K4uIptnFwxNmY1k34zapn/Wybm8MdM6xo4MGFxoV3fnokiFFmMZdkQVrDuOAwAYGFtgQLRrnrepL71h9crVObcKwD52iv2L7EwVHVkeHV/ttWjFp+tGgaziATgMPvzC8ov+235ixcq0wM+PvOtGBy4PBwBG08NSxtjFH6/ysCBzTuzeuflDget3K1HHHRkxitO1tcANmWPUP4k5R+hw/MGNNeXYVlsrdf2ND2s108TubjQALc4wAJWmvSfvE4rQUlKiGaArMGmBoNSlTUXbpU3u1lOmGQIAsA0wIFqUAF33AFLxBEhKLQMQAYCRlR8AjEwcByDLkhpJf1sXN9oAiSq1XAKcSSYDDGUq2gmgGw8wwqFVSNtAxOH29OzoXBGdutqqBOh1IySa8n9s5c5ytunMaeYaxar4e2GahUvgHKPGxAe3M409/mXZa4qg65gbCkjMicV9jma+GoYVyqV1DQTd2sbyRfYlfkv6Ot9i0dcHNgZ1/N+c/MxdcL5QYAxAZwmEQlHXCYaHrjkS2vm3m/W7Vy9ty8lvgDHDHpRHEAAAIBRFp5oZc93tBhybZVtMSB6TsaTwyoQqAOBGuc3aymMCANDMJ5kxj8tuJ/ImxHCZBFF7SpKdQkHPtdKUNja/TA4ABsxJ1pP221vhAACYv4UNu+hBfI3oMytzNqW+UpV5SEWB8UB1D1tJbeFVms2BUQPNnVLyryqqwDwk0mSANLWGIpQ3QjPS5BSwGNxgC/cPRoud6ABAqZ8AFzPsyUvDuHRQtvd5VG49V10hY/v+sfs7pZnHeEyD+z9/fLdsMw3YnIDvvTycBhgyIK+U38s0dPjGEk179jUSK1heqIyCu3kqs8BJASMxgt7NnC8wAeljNMSCjBTyanWplOm62GzgeXaiuTC+rEJuKt5kTs+uKz4lSRNhk2K4DAAs2GHqxvYre++d2g4AGHe+nUtEc7akO8yxfZN9XFUUIW2u/qH6ygyV1zEvbzcDYAtC9rdc2Vz2o3cJAI3hJwiM4sr2UowBHgmGhqC6RkhoGK4bHJ/UnqptElgETjTst49W/cODy4kau8Nih4FuYNhE+0n7H1N8hrGRlpCqJF9VZSxs0ZzxchUNkHkgzQ+SlNg0F2edjnprpvR6UjMebuPu2Vbxz8bcuBLjBGcHUa/HBaqk6sr6BjzGPbD/TCwyrFDOt7DANQ1V1QDi5963TaUCFm+g4bbnI799+usTl28X1zSoiTaKUKnAb9hlIkintuKkR1Sw/RingYYgQCv/ouBmpsmEC24OfBrEiNwuFf0SV5gm8p8SzgCgm0e5vxmlaZVqNBwGi01JlpdjfKOuDjad5cRmAYCfmc1sLmPGnXtfyVz3j2IAMIJHh/9qS8pJAugsPl2ReJtiG7NecI6vLf/dW9mZWgAAnB1wzcejuxyV7P6pdu771lb9OlNkpiR1vYq70TNk0kAjHACAm9jM7uqt+5nZBNMvhZZJLrW4xjBxFgYKSmdYSUsoNMAx1K2EyqwqLjV03GbRU7q8NmNNDfVHjzmrOBiA92JF7oqCjOUPuRfse6Zc5XVpKx4qgp0iPjB7ymG92oY17cn38XKEosvXyoeYv62le34IjNhsUDcq+2fqe3MhiJZ+cybd7u5/N2b/dePJ63Yf+Pfpb386syb8P/MoiryablcX5WA2i5/2ON9cdYVgzbJx6FgtDgascAcXf03tRaXOVCGdKTJisQ1Apai6DZwA9kBhyIQjplFSoqVniwGDb8Ti0wHI2swWzIPNe8EGMBy3eoaf8Qo/4xWe7OSocz9QnK6pAo5LpGmfHcjbZT8vbzD8wH1KlOlQu758E64A2hXtADRTJyYmbVH0PBdrmqUaEBnpVEOWJTW2ulu5+PXEHup2Y62K7bq4awkzm+u7iscobazoXqUjb8hYWCJztA/fP+BwEDLcFSxjZkd647nffH58wGUjxiwWqNU90Vp9+87D7nxOHi6MR7eu3O27I8eYDS0q+eOuz0RRTqFOHowBRM/HksysUmxS7CeR49zt+ZYWfCDlaHAFGSmaiiSZWiTwmNS7e0EQTdKOfqeBgREQDbprPNrbFYBxsH5BUCP/qqKqjSOePVBXg1DU3tdiIuP+QYq8UlaQidnM5w9haFhLDTAdasB04lr5dfxn2lMIoSg69ZgRYe3cu7NP3X746/I6eN99agy7bxN6Wt2PVFkvo5mKmQDADOZySFVFZtcCE1VjRabWPJjbU3VJbeFVsIq06jVvyTAA0LTodOxIdTsJ9M5FMqqmm0uKqhxHTz0gRLOdTzXMsXLh4s/WXF2ye8vC/7k+d/ZEDyFHo5JVPyzAJ+981wvsA8dZHvkx8Uj46Eg/U1XBL18evNrzghgrLOY9cfTBD+LwlZH+lriq8m6V2eyVEUL+2EBHzZGkhAzfZQFc8uGVr3b92Ngz+y1ytmc0XP76n+OX+bNwvotIKGQQRdfTqydOFJKVGcf3nsing8fwmoQgHaR1+T9rzD+w6h3uNGXrs9N+Zvr+6uctMrGbzbq3Q3LFiXIPNsaBqEkqzy9lum7rCDgaxW1VuxEdFC1Vp6vyf2gX7HJ15QOApmxzfgXDbJSHCYtvAOrmiqRqidTYYzevI3qSJU2NKjod2hWXa+8lPtLMcXktvP9wdh9a+fasC8eNQ7I8xUN4dYa8WlUqZTh31diBKpH+vLyySWTpa9NS8UP3EwKDP43HxXVbra3am18GHL6nMYtFI0seSRJrlY7WUzqWFYqsvOfUXNl8P1smHCUgqhMrq7i8CT1zp09qj9c2sc0nzen1cIL5j3IQ3L+/ppixztJSYEDcb7gX/wib6OTIByAU2dGFhXIT1yis8efaxs49aKZ+AisR+tkRHcOe9rSPPHLa/viXx0//fGTLP9UEhvNtncctmg4AgAf+af969fYTK6Z9SZpYuI2LXPfXxTs3lHXuiLusTEhgHfjyxBd/OfIIGJbOcz6IBAAQL/r8rw07D28KP6FmmNkHz1q5a1niymudO7HC1+zO2bTz8Or/AeHsrd/unLFm94Nt+za/7aYCvkNA1Jq/bYToH4fbJAQB0MpP1cgZZiGRffrRBky+ISbAWUYAANwo92lQdvtU6W97NRTQWf5cr28cvTuHDqjagw9uXtEAy5DryfX61t4juGPuEjMPZlck1eWeIkk1YHxDjh8v6Ht71673OZsvPfzti2YKMKYjy2ajp18Udwhd8vaGUhILtrEZ0iuQbcVJCtLf1sWv1wQAmfNILgeQ12ffru/Zipt4u/N8nXRbTeN4GpNf1eYmkaQaMJGxINx+2p9s+J3D4YZ2Wz1C9pbei3+QrzJg+fNCvnHqmTtV1d8/286KEtr1GaBnm7/2rSseLy1Yk3dTrsVExlazxBF/GsUEAKmy6j4FhKrwY5XODjSrXeZW89GYuQ6aVtv5VCatV/LN+46cIYi+kzc1v/wndlPGhMLWdYFTZqPo9mqQNzWLLHutGkGPKAii90rUjW1m4mkojr/CRmJdOYIgvysnu1lZv/cxIL8v1CtHEATReyiUIwiC6D0UyhEEQfQeCuUIgiB6D4VyBEEQvYdCOYIgiN5DoRxBEETvoVCOIAii91AoRxAE0XsolCMIgug9FMoRBEH0Xq/fYJE3Nf9ex4Eg/znoxEZeer1CeZ9fTUSQl4C0XolObOQlI63v+49pogEWBEEQvYdCOYIgiN5DoRxBEETvoVCOIAii91AoRxAE0XsolCMIgug9FMoRBEH0HgrlCIIgeg+FcgRBEL2HQjmCIIjeQ6EcQRBE76FQjiAIovdQKEcQBNF79GdnGQSV/kFQ7ElV5yecbSF2C5yx4L33p9vjwz80BPmdZBefnilV991K420OmrPcZID8SkXe2rysVFZokY9zz5lPKVIr7iTUSe+1kUDnBvI9Nzs7izEAACALFqVfT9X2lIDzuvalFCkVd5JlNbdaWwkaw5YlinYMjuYyOvORNQnFOcmNjZVPMDFndLRj0EIOA56DIiHrzNZ+LQMjt5+CxwU8GbTqIba68zilB+5d/bxFdCJ04nhazzciqcnZJS1JbyHBkDvFyn+zg0jQlUqoi3eV5KUoFfVahq2p9UL74OUWzOdp2qtueKEcAADEb27e/oYQKFLZVJb9Q9L+uFuV9LN7p7KGXzKC/C7EVuNOcCmdDZSk5uZWFVds1D8vJam+tlIilfV9vqVSH6QsbWJF2wYvN2UQ6tLDD6+91Y6leTlyAIAklcBaKPaPMMI6szMsO6KhRHp1Qy0+zyYomsXkUIoLFTkb76biQdMXGgE8aTxw55fP263/LA4LYZDZ1Tkbcy8RATOjTYfeMlaEU5hYo7NB25JScv28Mc+WNmjVQ201AAChzFuZl5P9BCN6b1fWXV30oMbWyv9LJy60VCSU//IW8fpPbiIOAJCla3OvZbN8NnuNtjVQ35LmbM1LIQLejENRZMhGIJSzbXxCQuwBAGB8xHQH1aTY1Mt3Yer44ZeMIL8LDksUphtEntSkF7eKrdzCsL45lXVX3ypunOIcESI/t7ZXChYmnplmwLLtuMJ4Ig+tYsLD0lSN4zw6gKZVSWP6j3IM69flFY+ec9cOoLOvah1gSuZfv5PaRC20xoimvG+aWcv9X4/jAAAEWAjw7DP7Hz5c6DF6yA/BmK35aFvdDeqcXQTzDWdHAYDg6VUPudUArXlLc3OUlhOPMPPequxV0/fShwrz0F9cnTkAwLMez9RMyMs5aStabgqgePibRvCxq3+EEQDwPNiQfy01vVEdx0KxfKhGeqyczmLTwQjvOEMbTkb7OKy62HNzpu7unuozcc+Dro8NGUe3Lp42xdUzyHXC3MidqTIAAEJy8WBs1DsTg4IcPEPHRW44dqfrgbAscZZP7Mm66pSd700MCHJdkFQJoMo/+1lcVPikUAfXIN+p7206U0501fXZpNDYcw9SdsZ2FBUec/ByHVF5cd+yN6a4uga5Tn1v0/nq7kN7Rjnnyy/HrwsPDnJwDRo3e93fMxp6mlyX/vdVc8f5+DgEzIjccjY/bd9Enw0pnV266sv/2Lp43oxxPkEOPlNmrUrMkI/w9438P1DW5Se3C6JtBP2TOHz/I35z4oUs0PZLY3TFcQAAsMSNQUu0dZwY7YQScO7T+lE0nb81lAIwriEAgPKxWmnAC+wJbqwZfJ7ykfRW/6qHikqvLJIYOUVbdAXrp1Tdx2CtZrp87DXzO9fRAqB6bdcqJK3gzBF0/yMgOG90GKZIb2oFAMAYXCBVZPdxkQotxjZEw7TPYQR65YSGIAgCAAhVTfbpQ2dbvJbPHzuU/TL2LFucTIYtWRXvy4eGshKGgwAAACfKHoDH3I/eH2OLlZ3cuWvTarb41w0hHf9bqfKUDbEl1Nj3/zJXwPeyBSCayiWMsUs2xnryyeyknZ/9Za2l29nVrh1VqFP3rKucHPXpgWV4deqBnYmrlqRb0oULlu9YbqHOPrbzsw0bxL5JS4QAAPjg5exYJgl8J25XlCWUXTi8b3fcTtGv8XPNAIgHu99f94+W8et3bghgq/Mufh37YXUl9DyRVBbJxTNjo73sObUpu7ccjP2r/f8eCGMP/0tH/v8oTlbXgHnovAFHbjFuAAcAyIHSdFF5ygbA7Z0ZAABEO6nEGGzaoHs8ISuVDxOK82Qc/+U8DABwjA5aUkn1dMCUFAXtrTLqRa9jsvSonAy0d/XocyT9qu5rsFYzPMx5A23HcQyU7Tq7PKEILVXZpgZggrlbNPvh5/lX+W5Bbxo1JNzPTjfxPGP1XNMAr7oRCOX5h95xONT5Ny4cv/4f8e+7DmG3unMJyeUey89+vapzcKY7xWPVwYOdf3p/Gpv1/eq7OdUQ4gAAAJrq7La1P56IEnedYPiEtccndO0ojEm9uPVWXgO4WnRsIfhz4/86XwwA4G1UnDrrqHrByR3v++MA4D+6IXXSvoxcYokQf2Y5KvM58ftiPDAA8PbnV2fMO5WRB3MnAHH5n8eKLZac6CozxBuvnvFBbndThEv2dTUFxqzPTX371ywJFeY/0NWB/HciHhUmqxlveo8e1r8p15y3u54c7+ARQAMAULYToKlZlXZMpqFwjOlp5rTCyT/CpOu00BQvTbuWogUATMzzOeLuKTYAAOBY2I0vyTosKQ1wdrTFSEl9zsYqBQH4AF3joZFUFaTSRF9a6wxiPKXqEUDjhZkzj9blJPAnLjdjEm01yUVZ5ymw7Epd7hMBd1PW5ZRupAGHO/a838hV/WoYiWnPyJ3xb1kDQJuqRvLLyQNLoyQ7v9473eIZuxXcydbYL5lsP3gunM+3hAetLT0bxs+fK35aKDTnW5pA5eOeER1LXy9x19/8UTzcmB/g0fXUxrcQ0Allixqg33Ncv3JsA8Z6dFc6SigAsk1FAOD5d+4RZmPDfLpLsAgJscdzYUB8Kx4QZNvgDUb+u5Cp0pJKY7do82Hcfknp1nt3ijljfxJ1Bk2BMPiIoQKMWJYGmvrm2uSKvKW31UeCwiI6uqH00Zv9uX/Wauofy1Jr8t66Idvh9/pCEwAjt31uylUPrgbVXgUAW47nemverSqG0aCHRlBdAx00DNcNjk9qkmsaLQVjw3SHUJ5W9QjAxovDN7en7rqdvBUAMO5CB9c3VFnFWEebW9MfZh5V4xG2nl5tD7+R56wsMj7i6mg7+IMLomMkpj2txvj7dERk75AJ4zmPImL3JC14fe3gfU9CpSaAZTnAWIM6/9w/j53PyiutURHQRqplYD29J5Ul4PeaCZHlnEpISs0uqpariDaKUKogQPfYWL0roLONdFuMAXTN5j9HOTrtalOpgM3T7a9x2To5W8pTjiedvXpHUq1WaghoURO440BfBvLfqrXoaCM13slN/MIxRSM7cDc1me75radbT2Ci88KsO0chPLjWYVyYmZWXLCMjbDriGsOWI+hMGsWD678ceChd6C4CAIFg3L8FY5VtLUoDY1sGll18GhiWg8W71rxF17PStQAAOGdsVoBn93i/si4/meSutLHu3ZF5atUjgM6L9oqM1rRWtms4OItDFS8twQRMYwCQVV9bVUW96/NmHBcD8FnyKCfm3rWlDO6vTgOO1SADGIFQ3htL7GABadX1ml4hrwuhetz1pwkLh2qVCkDYK4fk6Kq39zWGxa3dsXGMiIVD3qHZq+48tbY7+xYvOQVvrP1071ixBQvg2mfTtspe4KhftBwjNhtUat1/+7rtcXe3u+Hsh1Hrcr3XbNzyka+QwwBpUuzbp1/g4JDfTba08BYmOmL1ogucqcaEu5e+fOJyxM8/YJBLzZhna0BVthMA/UaHMa7YCJLJViVAV48B4xixOAAAioxHag5LMNhtBnfa4cvrPD/pZjrztoqTVVLgjlswyAqRAaoeCXRmx2ywUi7NBu4KDgOAym6oUXKCl3A7QwbHzD+OX7So4aHEiScerCykx4iH8oa8/BqwGGtJBwAWh42DTKUE6DyHKu7lPerMh3v6eNIv/na5fLWr7hhLQ3baPSJg846YzrlBokWleHplkowsCTb54Jb5nZOidaSMeHru/0A5Ys8xeFJWeiGEeHRsUGffKSc67k7U3dQ0tUfsutVvdDSQkKgbXujokN+J5uHROrXtqIlhva8Soq2xHuPZDrS0o5cniuR7lz5vdzriN278oJkJVW3eE0agqfEAae2y7MdgKTDtH0wrq7O+ecyaJxZ1dqu1FAAGfcK6AVNsNsB9iHhUmNzMeMPDZYBFOU+peqitHiKN7HC5tI07dp4JAABuAEC26NwzSFU7CXTGSN5CXnYjEMpVVXcybsgBANTV+b+c2p8BIR+9448BAB4Q5I1vS9pzbuynr1u3Vd06+td/5QN0LmsdFRH3ZtLihNhlmpgFvnxoKrvV4LAiJtBWaAFp6ReKpyxwhMpbKXsSsgh46rC7pVCIEw8y0qrDJguJivRje5Ly6OD5/E144XLYU6MW2P3xHx9vsFz7ToA5IUlNPHCje45eKBJC6o1r+fOsPdjq/POHDlzs/5od8t+rsibvgob3sbB3uNOUrr1x9YKxf9pYH9un7AgAAOrv81I2PqLPsOfJ5MXfd23lmI4O40BK4dV0hlWACUtAB1mz9GRlcT3bf7kFBqBOvnc1hynyZ3FtGRjR2phSlfe9VrBDZN2xu0wprdQaGz1R35PnHahuFFiFrekYxNfKtmb+dNQ49K6v8xDCH5laWVKJu+zj6z44D1r1UFs9KI0iW0ka0UHxWHqyMu970jLew00AAIAFWDla3stbVchYb2VpaUDkye7ubsTCXJwGu9MgvY1AKJec2Rp5BgAAMJats/eCv25ZE9nZ0RbM33yoaufuPe/4bACOnXfEsh2fMv50rHM/VsgnXyXyDyac2xeToAa2MCByMwAeErdjzaOde94M/QBY4oCIj/62xWjpwQHrBQD2zLXxhVv3/GWegwoEjoHRa+M/hT+eff4mvHg5uPenR+LxbQcPxP1RiQsDpkZ9ugxiOo4XG7Ni1wbpZ1+/PWEfYSIMmBrz6d9YsR+jaK4ntLLkKhluHrqgz6SfAVPAwCyNWAO8AqnrSWNqUyuhhe/Lrn2vs9nWxvQmx1LMYiZX512obJVpMQHOHT8q9LyDs5gGAMZe5hapNQW7q1plT4BtyPLiuBxy85/X9T5ncd31pdVqFY0hNrGMcJ65xqZrnqa9QUJg421FQ+rGthYdbSID7V0DenXhB616iK0enKZmf/71VA2wDble5j7/dvQc3/XAwLEI/rcHvrsif1XudZkWszWxnjtm5p+t0Yv7z4Gm1XYuZZLWK0WW6IFmuGTHo147IEy8uXMyWnH43+GVOLEbrwXlta4Pfn0eWor9auh/VqOlmyNLnXGjHISOIhTHkf9HEmVjG895Borjr7ARn/Z8xVBZf197EULG+ztacECdl/LVnl8hZMt0NO2O/H8SO8y5+3sfA/L7QqF8eDChyEJ+9Osth6vUKsAFdt4Rnxxcv1D47B0RBEFGDhorR15y6MRGXj5orBxBEOQlhEI5giCI3kOhHEEQRO+hUI4gCKL3UChHEATReyiUIwiC6D0UyhEEQfQeCuUIgiB6D4VyBEEQvdfrxX1pvfJp+RBEf6ETG3np9QrlfHPTp+VDED0lb2pGJzbykpE3NffZggZYEARB9B4K5QiCIHoPhXIEQRC9h0I5giCI3kOhHEEQRO+hUI4gCKL3UChHEATReyiUIwiC6D0UyhEEQfQeCuUIgiB6D4VyBEEQvYdCOYIgiN5DoRxBEETv0Z+dZRBUxobxq0+rAAAAw/mWo/0mRcbGznFjj8Shdas8vWjhCbf4f28Mwke0XAQZAkq+N/fCoXbxt6+FBNP6pWpbMytvHKqrzSFJBp0bwHPf6Ch2wnQykFWHCtK+aLX55rUJ3bsTbVWnKh788Eh2v50EjOXPcVol9g5mdFSnuFR175S8NrutlaQxRKY2i0e/FsXpSCMLau99VV+R+ViteoIJmIJwYeAHVubPc1UoEm+f2973N/UAcNczY4P8aIpDOef2PtbZbujwrc5h90YWVOf+ve7h7dZWuRbzs51xxs68owEldbl7q0szW0mgcyaP8ttkZ8PXKUHelH+wquSKWi2lKJZZUKqnK7/ny1RfkqR+WE9Feb/5Qd8YQpXUpK0oqxDYvfmtiPUcLX5lDC+UAwCA09xPtkQIobVRmpd6/NttC/PV3x1f3OtsHiacLbK1tjRFcRz5/0fdfphxmsRg4HAGBQ8vvVsD80dP2MTGFY8rEsszFrZjv7k7dAQiQpUfV5B7W4sRvXZq/bkkI1FjE2UXso7JgNa6xIrcd+/DeV9vJ4CS6rRP6vDZ1oGLTZmcJ4qL0tzN96/g/uHzcSCU9z58WCW2dNtmy+UDmS/L3Vvyq5oxdxePMeTmsMLtJzlSOhu0LZfKbqYYm4toANpWRTv4jQqJNe8q0IDlMXDDW688SFnRhM0R+u3mcC1pmjZ6588Iq2Rp70pqRZa+B+y50FqZWPnbQmLKGRebji9EWvvb/5TKRHyvTTaWIjq0gVFPxCZrDxVe+UcLAPS70rXqK6VX4uqbjQAEQ27qq2YEQjlL6D0u2B4AxoVNm2S3eurmf5B3S9YAABzmSURBVJ++u3ij3/AL7mI5bWfytJErDkGGilDkflJvGCkwT5QPmK640qQQWEzZKrQBAGDxRUTN1OqqfK1DMA2gLX9FXq6SPyHBKH9hte5ezNnu82d3h0iulQc0ji2pymzzdjICJ9tZWSLounNY+ZmQBbfuXXlEzR+F4ZyAC68FdN9U/MyMZcoLp+Uy4NkMuUGYyMxOpLuhOXcvyYxwcuADgJZUU5jIzGGSxTM6YkTjrc2Nhn/ymrGK1Sen+lx1hcIs5LyzmA0AYBXM1EwtuH3axibGBICUbC+XOY2e+Y1Nv261tulQ3m//xDwSXKjt9yt6p1GZkl9WNHE2eniUFqSVDLmpr5oRHivn+3g7QYO8rrMXQpT/HL9q4cTAYLfxsxZtPl2g6sym/m61T+SRkvpbX6566zW/4PD4ewAAqqLTO5bP/EOwW2D4zOX7f5R0dWXKj7zlFb4lEwAAqHs7pk7ckKouObtt0eRgt8DVPz4CkN87vm31ojfCffz8ff7w1tI9l6UUIMhwUbVflBRzhePmP/WBEGfRQdFOdp3XoKbaATPmdnwwcv7AbUaysx0f+p2Ovbu6BEUAjc7BBkrVPFEAxjUcKEmrUWuBYzicp1Uqs6q4FHeMMscAAJ6QCi2Dgz3zgZr8ubaizcw7pm8cB9AqS9tAzOJ397VxM7tJmDLzUSsASOuLr2KOscKBhkdo5pFOU854+QZjQPZNw4Jtg5N9p0SxGYT2+Zr3ShmBXrkuoqKsCiz8hDgAQP3PHy/ZdN156caDH4ta7ybt3r9wHfz0dWRHp4Csv7bzT6eVzpEb/ypki+2BKj++5v2d0sB1GxPG8RuufrX74xg5/t32cH7/Ssj8f3+4qoLx+nufLjaz9jMDkNeUVvMnLZ2/zpmlzEzc8sVfttj++8g7wpFtGvKKoW4/vHma7p5saw5VT8vDnCN0OP7gxppybKutlbr+xoe1mmlid7fOgMtwMzMfrAYtEJS6tKlou7TJ3XrKNMPeqU9IqaoisTRfzvaNMesdNJ9QqtbacxU3z4LNNuEAV8hQkWVJjaS/rUvnAWsINdCdnhkStI23m8HDmvFz8YWDjU31WoaYM2Zd51g/zjAAlaZd91AJLSUlmgEYBcomhqlDW1Xa/9RU5WnA0sRmsX33NADwOVZPrdHIyg8AUBwf1AiEcoIiiRaCfNxQcvvnr/f+rBqzMtIDAKDgxJeXqMmf71kZbgYAXm7w4A+rT5y+H7nOHQAAGvJkc49+t8aro1NBXN1/KJsdmfDXpcE4ALhtU+VHbDuesjL8j/0jMlGQz/r8zN9mWXZt4E/bktA1AuP+58if3/oqp4h4R4gG15EXRiiyP6k3fM/b24kG0qdnY1tMSB6TsaTwyoQqAOBGuc3aymMOqYKmtLH5ZXIAMGBOsp60396q53TVSJZfz7ikBQDMydwrwcXDqefhWZ2Ye2a7GgCAZeywyT1kttGLtK5DSW3hVZrNgVFd3WSyTaFVJ91PTmwnCRrDydRqvt1rMeb9mqNplrZT+TU3ge++1Z3H1dQkleQuz4fvfb2daOaTzJjHZbcTeRNiuEyCqD0lyU6hwBIAQC0lKSDvbdc6r3ae5migviq9seP+FdwvfP4wmoB0G4FQXnB4odthAADAWE4TVx75ZKkTBgDV13OqwfvdYLPObLh3oDv8XFDYAO4WAACYZ2SkV/fpW5pzS8UOnOjftYHv7W8PX+QXETBAROaHzemJ431Z2IwCkuj3lIYgQ0fV7i0u5dpExJg8IyPRXBhfViE3FW8yp2fXFZ+SpImwSTHcIcxDsn2TfVxVFCFtrv6h+soMldcxL2+3jpBNt9vkzV2t1dS3yK7W3V+YI9/qNWW+ccdurEjnWcEaQtGuyJUVbb97LtclYhd/sJsHQXUN79AwXHc89UntqdomgUXgxO6nAZb7NheOnG7Kx+htZMOVmnt776fUe8zZ1OeZgCIIACOzgMOONjgAgPlW58c5eQ9OKbw3mWHBDlM3tl/Ze+/UdgDAuPPtXCKasyWYIWjbFRog6Y5/c/N1MwAAcycTKLl15XS9Yr4d99lfF/IsI7GC5a3tu2ZbA86yEdn3DJJRzQoVEHe3+bhv0808TtU1Ak7nc3g925WPVMSjc0v9zulmxvkkOcB8NvDNLHp9rsk4fuzcpZyiqkdEG0m0tQCMH3arkFcXdbs885Sh67+sWR1xkHhCAVAERREYhvcarZZ/UXAz02TCBTcHPg1iRG6Xin6JK0wT+U8Jf2Ywp7Oc2CwA8DOzmc1lzLhz7yuZ6/5RHbsxRGw+ALhxrCYJeHDrt0OVVfPHdM5tsk3M3QAArIItHJ3yv4uruB9lEeD2lAU20Jb/7q3sTC0AAM4OuObj0T0co5LdP9XOfd9a52mAxvQTiLs+8IN5XLh16VRt1Qdmdr2uQRoAYH7mPTvibL47rbC0lQQzBtDNo9zfjNK0SjUaDoPFpiTLyzG+kTFAM9MABGyhW/fthG7uxoSUx0oAFMpHwEisYBnl4utn33crZso1BtbE9clrAnXPatyiZ8BE9/wwYrNxy5BdX8a46fYA2BbPXkGqytiyaPXPoxZv/CjGdzTPyED98/q3dr5AMxCkg1Z2sUGtJu/OyLyrs7Xp3cwy0ajwNGedId3mqisEa5aLQ+e6aQNWuIOLf1buRSUVzn+e1bgmHDGNkhItAP3uABjH0QhOtbeqAPq9rcEQmRiDsqVeC08N5QzHrZ68zllZOldnWF1xuqYKOEGRpk8/KgOeExNIiiT6dKcMWSIDStrWAtB1dT6h2rQYw0CnyXSmiA4AoGqsug2c99gMoJlaMDAF2apbGqkFI4MRXLb8ShvhaU8dQr8AIflruVIYOc742bnd/D3ZJ8qrwH6W+NmZeylMv9ognLV3zayO5Y9Uo7oJYJATFEEGRxNEuYVPf9KzQS67GddgutHVPYDJAwCCaJIZmIsMAQwMjIBo0FAAXfGovV0BmNOzF4H0Qihq72sxd+OB+i3t8tstILAwHeitO3W2Sg1GdqKOfq6WAui3/t2A6cQdYPiFUBSdesyIcHUebM5UU5vbAiI+t3ONfE+rrcZxsHPykhIbXycaAIBKUXsbWH/sv6BFI/+qoqqNEzDbGAAYwVwOKZWcIxw6VwSRVZktmIeA13cv5IX850I5+P5xZfiFTX+OIZe9M9nNgkEoygvuqN1WLJ1oNkBmfGLMqoDonSuXK5ZGTrJnQWtjSd5dmLB+8TPXp4usbegNt6/ckrsHslVFV5M+P10NYPsfaA/yqsBEbCvdxddStSHQmE5cKzcagKZsfXbaz0zfX/28RSZ2s1n3dkiuOFHuwcY4EDVJ5fmlTNdtgw8YaMo251cwzEZ5mLD4BqBurkiqlkiNPXbzMAD1qftpuUwbX1OuyBAj2hov1dz/QcvfKrQCgIKK3/a28iZyOCKciT9R5NYV/EOFTROPcQIArXx71oXjxiFZnuIhvGpNXq0qlTKcd/N6BV9pVVp8G2ecCUuAM6BNfqm28JTWZr8Nv+OYe1oNjNl2Hkl381fch1grPpuoTqwoA7MJkR3zChrFbVW7ER0ULVWnq/J/aBfscu18n1NkHbi47tL2vDS1rYObgeJS5b1MusM3lkObJUae5T8YysFy2q7jjCNfJJ3ec1GqIhhm9v6hkROf1kPH7BcfPMo5/GXSsc9O1KvBxMLNb3LU7CHUYh255ZOHW7788A/fqBmWLpMW/fnzFW3Rd0ayHQjSw4DJN8QEOMsIAIAb5T4Nym6fKv1tr4YCOsuf6/WNo7ff4G9rYObB7IqkutxTJKkGjG/I8eMFfW/v6mYAAMaeZhZX6h7E17TKnwDLkOXJct7v4jvbBADAhjNKpCpJLFdLNRSOMR1NBO+7BsRYMAEA2htKSSzYxmZIP5nRVpykIP1tXfx6d+E5puZGjSWH6tVSimIZsjzZrt+4ek3C+7cagOV71MMw/mHR9sK7KowVzAtJdnTo7OBTtQcf3LyiAZbh/7V371FNXPsewH8wmAcaEggkPEwEMbxOYvEAWiVYl7EPQNuirb26rLdc9RxbWdXCPW3R06J9qLXX11pY6akUay1etcWuI0K1xlrFUikcETiIBBQTSCW8kowCEzLk/sErPMViV+/A77P8Q/bsSX6jk2/27D0JAoVg5ld+8nm9N6g4eW15bJGg6l9HND8YgOXPDzgYEj7v90ygCcXBZuu+XVNXb/Jww4kJNN40NN8b/yd285X5N9qSIhY9N/rP8CMma2i+JxHz7VvwmxERYrwqsqndVfYM5vgEhpc3CDHejGnPFvzRNaA/Fo7KEUKI8TDKEUKI8TDKEUKI8TDKEUKI8TDKEUKI8TDKEUKI8TDKEUKI8TDKEUKI8TDKEUKI8TDKEUKI8TDKEUKI8fp9B0tD870/qg6Efj94YqNxr1+UD/jWRITGAV29CU9sNM7o6k0DWnCCBSGEGA+jHCGEGA+jHCGEGA+jHCGEGA+jHCGEGA+jHCGEGA+jHCGEGA+jHCGEGA+jHCGEGA+jHCGEGA+jHCGEGA+jHCGEGA+jHCGEGM/pwV1GZC47vm/fqdzC2/UU8D395I/HrE9cHenxSGp7ONpDqxfsKqGmrz57JlFO9C8yO2lOotrsEvfl1ZSFxDD7IzQQram9uEZTI56+/OQ03qg39XYxqu8Up93VlbRbwEkQ4aFICQiQDTr9DHXnnqzQBchWnpRyu5ss+rSKgozmpnrgKgSBbwWFKTkAAIWVJ5boyIH7OwhT5jy/fjKARZ9WWZTZ1KTtJGR833j/OSv5rIc5WGNawTfbBj08cEJOz5sb7mB/XIadv5zebwk4GRWldBjUv/sQdPtLLu5tlRyNWmDXh9boi3bqqvJaLTBJsMgrLGW6RNSz1WQq31d9I8tMmhycI4TBbwUownvLt5Hq6vyder3GCmKeJH5G1HrXQYc2mqrGtbFF+a0ja1ft0QS/tHHrOhGYDXcqrhQ3wuSxVURXfPTcdsGBI3+d9vD7uvBc7qizihPlYfatpDo7D1yGeb393iUhhrKR6kr1a7+SHADx6Df1odUVOWuaefHSeeunsCiy+mDN5Rc6iEsz/ft93257ZXJ1fbv9tbHNmFFybifl/XZQmNzRmHO7aNV1yI4IkzuCzGvuUQFt/xQa/dVtZoGMA9DZtL/43N4O7zdkqkiWpbCuaPO1s1T4kvgpoz9gXswMlcxqX0lrTlV+trNQ2i8Z6cLqy8coAoaPS8pU+lppUWEnQfVvN929uKpCL/UK+2SGAFrvpN0+9wL11OkQCR8A2so3FOdreIoU+VQR3ZRTU/TCtbbsiNlyRwCgy6rOramDZX5RKZOhTF+08/pZdsSS+H458+Cqxr0xRbkmN6cQVLs/TY5z6W55ZewVVZ6/cAeW/rZ9PZUq4kLu6YK3wmazexsbzmf97K5aKMy59EeUhBiJzqvIXdMoSAlVaEouaka7yR6hki255MiTdr3ChBK5zTi/plpt9V/a95ojsyquatwCF7eUa3vbmkvTzM7xs1TrXQkAiZIHmp+LDxoUBzxZfJ5EZT8g6dTnVbbJvEJUBFCNpZ/f460Pe2ojHwAg3F3ELvxmX03NSrkvG0aJkLr5Su0byKKdFHdxgL/Iro1qKUr+lbXCU5hWP8zDtJWuuVZkEi9I55a+oLXfQGbpaoxuUeeCA/gAIPRWcq3zS4uOSSXrp0BZbVmeY8DRx2YrCQDwVrqy6/N/2qtXpE/lgrXmoN6omLZs9zQBACiFAuPVb9Pu6FeGePce2oOrmgAewVw5e+i3g7oLn257eWns3NA500MXPbvh0JWG7g3mEwnTnztUVHx8y+rYWYrQ6XNil289paEAAAzZyQtWHCqjSt57MtQnIHRWch4AQMP1w1sTlj+zKFgRGjwv7uUdai095DMCWD1iYgLrz+UW2o0HtN+dKvRUxYTY96M0uakJq/9jwZw50xVRc5cnHy7uubC8dejZ0IRjd+tydvxlQfic4BVHro2xJMRIhNJX+XXEU/F8FmUb/ab+WD05DgAAYrYz2Kh2u/PEUJu/7Z4kRebFtvW1aloM9ZO8YgU9EzFcX9UUS16jfsAIFwBMd8syO0TxU0UAYLpPmhyFEX1Bz4v1EJpadL+MXOFI6DztTQ1nRry73ZQQrd9786ZAOm8lZ/j9uIFvz1zydbCvCPq/JGxGTRsE8EW9FyVsoa+KMOY1twHQlfdJmCJW9D4Vy3+ZAPKa9RQAmPSFtGCRu6B7k4NwsRuvvuVOae+hjaaqCWBMUS57YraMUu/6+6ky8xBbtTcbZEsSPkz/4uQHMZyrqQkfqPt63fpi7d/U7GcSUw//I3VdkOH4toS0CgAQzU868o7KhQh6/ciZ/B/OnH0zAgAA9JpaD9W6rUePfXHgP32qjmzecrxu6IJoED8TG06eP3Wl98yvyz19U7okRgYWu35s6lYFyOPe3POPf36WuJC6sOX11L496Ns5yQnv3/B75e9bdyeoZo2xJMRQXO/w4aJhhE3DoktNjcB2D+id420vT77VuChwnqrfrC+tbSOBK7Cb03CWcQhTm3HQcNN4rE4PbiFLuQAAbMIJbBaTXXiaaBo62gy/eYRhqc5osET4BMvtZroLq/OPOSm2+wpH3JMldxMOdSnAZhNg6rB7GXbSlI3WtpMAwCcIsLba/V4ci5EGiiLrAUyt9+odeDLnvm0SZx5QZM/gaZRVjX9jmyuXb0j9oCHh/W1PXzgUGR33SvxLMQG9AwOfV/ak9vw96K1r6he/L9DQqrCuN14Kwjfsfvd5HgBAWDCU5iVcKdBuDJK6uEs9XDjQIPDykfr07O0R/eGh6J5nTFqRE3ewsIJa6TP0leNUVVz4nl3ZedRCFRsAKnOzbvgt/TiI/d3AwnuKe+zdhIKs168X1UHkdAAAsNYVtif+8+jq3hWqsZaE0L3Sj+otyunynvVDMvNGkUYYddqDBf0GzrTJSgPBtptPJ9hOLOiwmG1gPxFMtdzIJFnLHvPt6sl3n6asKjioqQ4P8JcSFk190eZaIwVs+K2jck1tudpB8ol33zifailI/pX1aliozAG0I+w5HAehyo2bcbcozWPBelcu1a7PvFmQTXctNhDhHhJ+eflHtZLtPkI+Tarv5O030V2rbiYrBY4Ctt2YkzOJBdBqsgI4jbmqcWSMEyxs2bIdZ3/4389enQ1XPlv3XMzyXQVDDdDBw0sIlKW992ciOPLx3rOEJ/Z0h1azeVQjCHeJF1CUZYQOsYsj2i/l5JgBAMpOn9HIY6JHXK5ke3iIgWpr7WtQvhQ3+E6DMZSEJjaLbltJcSV/9nZJ9zmv1eV9dF+SEuA76FeOdi/ctdu3DRHHFrWuSuscGO/Wc5pyQvaEBAoaL875Md3rwperaokV3kK2I4sz8mncSVN095/+7fpMfZNYFKya1NNC63feqBJMi1r/EOuoAxBK2dMpAnLvvzK91Om+P+eXuQYvngR8ggUAfM+oA9NcSzXfBl1I97r07T7KP96VAILFARhmJZMG2yOpavwY682IAACuQTF/TYlZu+HKvsS1n25+L/zM/yxkQ+vtnC+PnLpYrKkjTVYKWkmK7W/3tDy+y/APOEBd3uHPT+UUVuhaqHaKam8FmD9Sd5eFscodW3O+J+Oev5X1nT4yPkYKA96xybJvvzicXVBarTdT0G4hDeAd3beVJ/J40O0uD1kSmrishv3X1ZlOiq8UId3TJm3lm2+1LApUKh1pigbopCkA6KQomsUmgO9EQDtlNzNOU7QFnFgu9onWdjOjiVbOCJHZNYpEc0+KZpvaW02OzlIWUVh5Alhi6Qh3dNgMO38+vb8NAAAcJOlPPBXTk/umu2WZFsFrU3vXFenCqrzMSSHfTOV1hT7VSQPQFE1TBMEe/U0jTsL4mcvjrW3aDiufzePTlWuqCBG3a+qEpfSPvuRnMVAUTOKJnIxpBTR/Mk8EYHJiQ6eF6gToKa+9wwLA5js9oqrGi0cR5V0I98iEv8QeSygtvQ0L3U/9bXXStcc2bd765iwfPgt0RxJePNGvO3uUw15z3pYVCTmeq99NXhfm684hyJykuPdG3sVVGRfJSso9r/WsyG2IeP1J9wHbNRkbXtzTpNqYuH1zkITHhtIDz20oHv2B/paS0MREN6VdP/tJZ2D6n8PCe15qhsY7edY26t8nMu17Vn/je0u0O3JJhLMAWoxaG/TccN2qaafZHIH9XY+Fuhu/EJJ0Ly4MRPA5PD4AgPFKC8nniWQjJJqD8L/+FL2os+sHZ7vLUOOxWh0I5q7oHc/Y6s8YSLOl+Mkf7V8mTat+rJZ6R18N9h7FP4QdJ27XarCpQVcIglftb353ZIm4LAAASp93n1B4uwMAf7JAatNrWgF66tG1ksCSSIlHWhXzPbooBwBzQz0FfDd3oK+rL5HyhKTXF/sBAAClIRsHL8EPjQAAS9+wpPzyhQafuL2JcV23itON5ua+/9Rh8FSLlZzE4+/TjcbIpNiBn1dqLLxUQoWnbF+r6rowoFrNxt+9JDQxWElNh7OMSwAAdBozS87u7ZiR/ue5ykl9XUTiuV9P6ZvOA1vTwZICg5cqRcSTskAk9JbW1Jwx0uGuBABAW436HhHhJe5bhrHWZNwlpZ4LVMO/drV1BZ/f5y2VSbr3sgHYBk+mEiK+t2jQvlTLjcx7rMXywL5NDuL4mdGxnX19DHfzXzPwUhTyCK77wKMeJavh4G1du2D20iE+hmJRV5XlEZJPxFwAAP5UpVP5+QbjRp4AAMDWlN1M8vleCkexaOSqJpixRDmVs3VdDsxWBPhIPFyohhvqzC+vuEanPuMO4CPxAfXPl8uWestdyLLsA/tzB3+MbBi+QTKnU1lpx8NWB3HYPmESH4lTY6G6wCCfzTdXqDP2HKsFeNBHddjzY2N4CYev8OL2KwdN5PCkPu5wKe9M5aIV/qD9JWdXWgEFI/7fP4qS0ARAZhSf2Ex6746MXskis0pzNrc4xfoJDQ2VWT09+FN8VXxBOEvQt5ONFjuCmSsOd+1KruBNbjcTy9UCv+AwwphTU/QLK/Co3QBcqy89YxW+7TMwhA0mndbmzOkkSxpK99c1ibxUm7pn0mn1vzNXNUmORi1QPXhpzKLWVmnZgXs87HOZkPK97W8515pZ4MCVuXrLHQYc9YiPbTUWmiwcJzDe1x3TlmZZxLvlIT2HYdE0NZqcnMBiPF9XnNZsXRYyL6br/c9REi8RLr6jTnIMjZsMZb8WpbUJ3wjxZQOMWNWEM5YoZ8tC/E1f5aZ9W2doBRd3P0XkukObXl7oAQBBr+5M1r332Yvz91CTfcKfXPvux7yEt0eX5j7Pf/hOcdK+PS9/z5Iu333xnZc+3Hp7S2rS44dItmeQanViakL7qmsPLC0i5in3w7kRS58YPFpmR27cvqllx65lUf8NPFl4zJsfb+WsSR3iQR5tSWj8Y4s5XBdqitQRoLNJ3dxG2SDr1uUsux7SqVOu8ke+9uctlT9tqvgpo/LcXhtLxg/8ZGbXB2cAAMBmyKw1sN2iVgwazFbezV9TR5odWLLJ4piAJZumCnvWVElNq0XkKlGO5haHtpsZzZYIv+Dwh0hDu6MemVW/ryxfbQWXSYKZbqEn/RXK3ncoG5lTfW4vSQPBlblIUmaFx7v2vXvJ/J5Ot/30ke7yqg4QT/Z+QxG1cfQrbROGg83WvUCuqzdJxINW1BFiuIl+Ylur1+T9JPjTyt0e+PVD48fgsxq/GRGhcY00aCbNWCHEHB/nHumyJ0Lo/xvXuZci/+ga0O8PR+UIIcR4GOUIIcR4GOUIIcR4GOUIIcR4GOUIIcR4GOUIIcR4GOUIIcR4GOUIIcR4GOUIIcR4GOUIIcR4GOUIIcR4/b6DRVdvGq4fQsyFJzYa9/4PKisBrpXMGt4AAAAASUVORK5CYII=)"
      ],
      "metadata": {
        "id": "a0j4fY6-LAK4"
      }
    },
    {
      "cell_type": "code",
      "source": [
        "# Construir una matriz de distancia a partir de la posición de unas ciudades\n",
        "# https://www.geodatos.net/coordenadas/colombia\n",
        "ciudad = ['Bogotá', 'Cali', 'Medellín', 'Barranquilla', 'Cartagena']\n",
        "posiciones = [[4.60971, -74.08175], [3.43722, -76.5225], [6.25184, -75.56359], [10.96854, -74.78132], [10.39975, -72.50782]]\n",
        "distancias = []\n",
        "N = len(ciudad)\n",
        "print('Número de ciudades:', N)\n",
        "for i in range(N):\n",
        "    distancias.append([])\n",
        "    for j in range(N):\n",
        "        d = ((posiciones[i][0]-posiciones[j][0])**2 + (posiciones[i][1]-posiciones[j][1])**2)**0.5\n",
        "        #print('distancia de:', ciudad[i], 'vs', ciudad[j], ':', d*112)\n",
        "        distancias[i].append(round(d*112,2))\n",
        "distancias"
      ],
      "metadata": {
        "colab": {
          "base_uri": "https://localhost:8080/"
        },
        "id": "CQNgMukDCNCT",
        "outputId": "5f75043e-2cff-44e2-a825-9974f53b9e23"
      },
      "execution_count": null,
      "outputs": [
        {
          "output_type": "stream",
          "name": "stdout",
          "text": [
            "Número de ciudades: 5\n"
          ]
        },
        {
          "output_type": "execute_result",
          "data": {
            "text/plain": [
              "[[0.0, 303.27, 247.73, 716.49, 672.02],\n",
              " [303.27, 0.0, 333.03, 865.76, 900.15],\n",
              " [247.73, 333.03, 0.0, 535.49, 577.02],\n",
              " [716.49, 865.76, 535.49, 0.0, 262.48],\n",
              " [672.02, 900.15, 577.02, 262.48, 0.0]]"
            ]
          },
          "metadata": {},
          "execution_count": 30
        }
      ]
    },
    {
      "cell_type": "code",
      "source": [
        "# Hacer una función que multiplica un vector por una matriz\n",
        "matriz = [[5, -1, 0, 2], [2, 2, -1, 3], [0, 5, -2, 1], [1, 0, 2, 0], [4, 2, -1, 3]]\n",
        "vector = [1, 2, 3, 4]\n",
        "def matriz_por_vector(matriz, vector):\n",
        "    N = len(matriz)\n",
        "    M = len(matriz[0])\n",
        "    M1 = len(vector)\n",
        "    if M != M1:\n",
        "        print('Error: no se puede realizar la multiplicación de matriz, vector')\n",
        "        return False\n",
        "    else:\n",
        "        result = []\n",
        "        for i in range(N):\n",
        "            acum = 0\n",
        "            for j in range(M):\n",
        "                m = matriz[i][j] * vector[j]\n",
        "                acum = acum + m\n",
        "            result.append(acum)\n",
        "    return result\n",
        "\n",
        "matriz_por_vector(matriz, vector)"
      ],
      "metadata": {
        "colab": {
          "base_uri": "https://localhost:8080/"
        },
        "id": "JWQSIcNYCMr0",
        "outputId": "e65df710-ded5-4bb6-eb4e-5603a7c4af5b"
      },
      "execution_count": null,
      "outputs": [
        {
          "output_type": "execute_result",
          "data": {
            "text/plain": [
              "[11, 15, 8, 7, 17]"
            ]
          },
          "metadata": {},
          "execution_count": 35
        }
      ]
    },
    {
      "cell_type": "markdown",
      "source": [
        "## __Ejercicio en clase__\n",
        "\n",
        "> - Se tiene la siguiente información en una matriz acerca de la venta de productos: `{'Producto', 'Cantidad', 'Valor unidad', 'descuento'}`:\n",
        "    - El producto esta representado por un código de producto\n",
        "    - Se tiene la cantidad de producto que se vendió\n",
        "    - Se tiene el valor del producto por unidad, y\n",
        "    - se tiene el valor de descuento en porcentaje que aplica a este producto en el total\n",
        "\n",
        "> Con esta información calcule con programas en python:\n",
        "1. el valor total de cada producto como: `Total = Cantidad x Valor_unidad x (1 - descuento/100)`\n",
        "2. Calcular el valor total de las ventas. (suma de todos los subtotales)\n",
        "3. Hacer una función que recibe la matriz y retorna como resultado el código del producto más costoso.\n",
        "\n",
        "\n",
        "\n"
      ],
      "metadata": {
        "id": "W47OxEl5d6vv"
      }
    },
    {
      "cell_type": "code",
      "source": [
        "columnas = ['Producto', 'Cantidad', 'Valor unidad', 'descuento %']\n",
        "ventas = [[1005,  9.5,  5200, 5.2],\n",
        "          [1016,  0.5, 56800, 0.0],\n",
        "          [1008, 45.0,  1230, 0.0],\n",
        "          [1007,  6.0,  7420, 0.0],\n",
        "          [1011, 4.33, 21350, 8.5],\n",
        "          [1025,  0.8, 98000, 7.6],\n",
        "          [1022, 11.5,  4730, 4.9],\n",
        "          [1019, 10.0,  6100, 0.0],\n",
        "          [1005,  4.8,  5300, 5.2],\n",
        "          [1016, 0.75, 57200, 0.0]]\n",
        "\n",
        "N=len(ventas)\n",
        "M=len(ventas[0])\n",
        "total_producto=[]\n",
        "for i in range(N):\n",
        "    valor = 0\n",
        "    valor = ventas[i][1]*(ventas[i][2]*(1-(ventas[i][3]/100)))\n",
        "    total_producto.append(valor)\n",
        "\n",
        "for d in columnas:\n",
        "    print(d, end='\\t')\n",
        "print('TOTAL')\n",
        "for i in range(N):\n",
        "    for j in range(len(ventas[i])):\n",
        "        print(ventas[i][j], end='\\t\\t')\n",
        "    print(total_producto[i])\n",
        "\n",
        "acum=0\n",
        "for i in range(len(total_producto)):\n",
        "    float(acum)\n",
        "    acum=acum+total_producto[i]\n",
        "print('al total de las ventas es igual a:',acum)\n",
        "\n"
      ],
      "metadata": {
        "id": "dcImAnptdZwb",
        "colab": {
          "base_uri": "https://localhost:8080/"
        },
        "outputId": "c042d874-c6c2-4233-b226-d67b1af88abd"
      },
      "execution_count": null,
      "outputs": [
        {
          "output_type": "stream",
          "name": "stdout",
          "text": [
            "Producto\tCantidad\tValor unidad\tdescuento %\tTOTAL\n",
            "1005\t\t9.5\t\t5200\t\t5.2\t\t46831.2\n",
            "1016\t\t0.5\t\t56800\t\t0.0\t\t28400.0\n",
            "1008\t\t45.0\t\t1230\t\t0.0\t\t55350.0\n",
            "1007\t\t6.0\t\t7420\t\t0.0\t\t44520.0\n",
            "1011\t\t4.33\t\t21350\t\t8.5\t\t84587.6325\n",
            "1025\t\t0.8\t\t98000\t\t7.6\t\t72441.6\n",
            "1022\t\t11.5\t\t4730\t\t4.9\t\t51729.645\n",
            "1019\t\t10.0\t\t6100\t\t0.0\t\t61000.0\n",
            "1005\t\t4.8\t\t5300\t\t5.2\t\t24117.12\n",
            "1016\t\t0.75\t\t57200\t\t0.0\t\t42900.0\n",
            "al total de las ventas es igual a: 511877.1975\n"
          ]
        }
      ]
    }
  ]
}
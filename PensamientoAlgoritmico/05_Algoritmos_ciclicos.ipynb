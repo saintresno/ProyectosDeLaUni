{
  "nbformat": 4,
  "nbformat_minor": 0,
  "metadata": {
    "kernelspec": {
      "display_name": "Python 3",
      "language": "python",
      "name": "python3"
    },
    "language_info": {
      "codemirror_mode": {
        "name": "ipython",
        "version": 3
      },
      "file_extension": ".py",
      "mimetype": "text/x-python",
      "name": "python",
      "nbconvert_exporter": "python",
      "pygments_lexer": "ipython3",
      "version": "3.7.4"
    },
    "colab": {
      "provenance": []
    }
  },
  "cells": [
    {
      "cell_type": "code",
      "source": [
        "numeros=[3,1,4,6,5,1,0,1,[True, False, 'X'],6,5,7,8]\n",
        "print('cantidad de elementos: ', len(numeros))\n",
        "for k in range (len(numeros)):\n",
        "    print('numero de elemento', k, 'valor es: ', numeros[k])"
      ],
      "metadata": {
        "colab": {
          "base_uri": "https://localhost:8080/"
        },
        "id": "02nmoInlbEnR",
        "outputId": "0b19e226-787d-481d-83b4-511b92cfe68d"
      },
      "execution_count": null,
      "outputs": [
        {
          "output_type": "stream",
          "name": "stdout",
          "text": [
            "cantidad de elementos:  13\n",
            "numero de elemento 0 valor es:  3\n",
            "numero de elemento 1 valor es:  1\n",
            "numero de elemento 2 valor es:  4\n",
            "numero de elemento 3 valor es:  6\n",
            "numero de elemento 4 valor es:  5\n",
            "numero de elemento 5 valor es:  1\n",
            "numero de elemento 6 valor es:  0\n",
            "numero de elemento 7 valor es:  1\n",
            "numero de elemento 8 valor es:  [True, False, 'X']\n",
            "numero de elemento 9 valor es:  6\n",
            "numero de elemento 10 valor es:  5\n",
            "numero de elemento 11 valor es:  7\n",
            "numero de elemento 12 valor es:  8\n"
          ]
        }
      ]
    },
    {
      "cell_type": "code",
      "source": [
        "notas= [3.1, 2.2, 1.7, 0.8]\n",
        "add=0\n",
        "for n in range(len(notas)):\n",
        "    add=add + notas[n]\n",
        "    print(n, round(add,2), notas[n])"
      ],
      "metadata": {
        "colab": {
          "base_uri": "https://localhost:8080/"
        },
        "id": "D6Xlk-ZYeFEQ",
        "outputId": "238bedb9-904c-4c05-d3ce-fe32d838ccce"
      },
      "execution_count": null,
      "outputs": [
        {
          "output_type": "stream",
          "name": "stdout",
          "text": [
            "0 3.1 3.1\n",
            "1 5.3 2.2\n",
            "2 7.0 1.7\n",
            "3 7.8 0.8\n"
          ]
        }
      ]
    },
    {
      "cell_type": "code",
      "source": [
        "\n",
        "def sumaLista(notas):\n",
        "    add=0\n",
        "    for n in range(len(notas)):\n",
        "        add=add + notas[n]\n",
        "        #print(n, round(add,2), notas[n])\n",
        "    return round(add,2)\n",
        "\n",
        "\n",
        "L1=[3.1, 2.2, 1.7, 0.8]\n",
        "L2=[2,6,5,9,7,8,2,4,5,7]\n",
        "print('la suma es: ', sumaLista(L1))\n",
        "print('la suma de la lista 2 es: ', sumaLista(L2))"
      ],
      "metadata": {
        "colab": {
          "base_uri": "https://localhost:8080/"
        },
        "id": "d9mLYovofLFY",
        "outputId": "e9dc543a-4b12-4405-8918-828b70d5dc24"
      },
      "execution_count": null,
      "outputs": [
        {
          "output_type": "stream",
          "name": "stdout",
          "text": [
            "la suma es:  7.8\n",
            "la suma de la lista 2 es:  55\n"
          ]
        }
      ]
    },
    {
      "cell_type": "code",
      "source": [
        "lista=[-3,-8,6,4.1,6.02,-6.5,6.019]\n",
        "maximo= lista[0]\n",
        "posicion=0\n",
        "print(maximo)\n",
        "for i in range(len(lista)):\n",
        "    if lista[i]>maximo:\n",
        "        maximo=lista[i]\n",
        "        posicion=i\n",
        "    print(maximo,posicion, i, lista[i])\n",
        "print('el maximo es ', maximo, 'y está ubicado en la posicion: ', posicion)"
      ],
      "metadata": {
        "colab": {
          "base_uri": "https://localhost:8080/"
        },
        "id": "LavQ6EAbhnJv",
        "outputId": "0fa26363-922d-42d6-a6fb-211ceb1366b0"
      },
      "execution_count": null,
      "outputs": [
        {
          "output_type": "stream",
          "name": "stdout",
          "text": [
            "-3\n",
            "-3 0 0 -3\n",
            "-3 0 1 -8\n",
            "6 2 2 6\n",
            "6 2 3 4.1\n",
            "6.02 4 4 6.02\n",
            "6.02 4 5 -6.5\n",
            "6.02 4 6 6.019\n",
            "el maximo es  6.02 y está ubicado en la posicion:  4\n"
          ]
        }
      ]
    },
    {
      "cell_type": "code",
      "source": [
        "def MaxLista(lista):\n",
        "    maximo= lista[0]\n",
        "    pos=0\n",
        "    for i in range(len(lista)):\n",
        "        if lista[i]>maximo:\n",
        "            maximo=lista[i]\n",
        "            pos=i\n",
        "        #print(maximo,posicion, i, lista[i])\n",
        "    print('el maximo es ', maximo, 'y está ubicado en la posicion: ', posicion,)\n",
        "\n",
        "def MinLista(lista):\n",
        "    posmin=0\n",
        "    minimo= lista[0]\n",
        "    for n in range(len(lista)):\n",
        "        if lista[n]<minimo:\n",
        "            minimo=lista[n]\n",
        "            posmin=n\n",
        "    print('el minimo es ', minimo, ' y está ubicado en la posicion: ', posmin)\n",
        "\n",
        "L1=[3.1, 2.2, 1.7, 0.8]\n",
        "L2=[2,6,5,9,7,8,2,4,5,7]\n",
        "lista=[-3,-8,6,4.1,6.02,-6.5,6.019]\n",
        "\n",
        "MaxLista(L1)\n",
        "MaxLista(L2)\n",
        "MaxLista(lista)\n",
        "\n",
        "MinLista(L1)\n",
        "MinLista(L2)\n",
        "MinLista(lista)"
      ],
      "metadata": {
        "colab": {
          "base_uri": "https://localhost:8080/"
        },
        "id": "qn8xGlsjkvQ-",
        "outputId": "5b2ef11b-a759-4204-98d4-a26f41ce7185"
      },
      "execution_count": null,
      "outputs": [
        {
          "output_type": "stream",
          "name": "stdout",
          "text": [
            "el maximo es  3.1 y está ubicado en la posicion:  4\n",
            "el maximo es  9 y está ubicado en la posicion:  4\n",
            "el maximo es  6.02 y está ubicado en la posicion:  4\n",
            "el minimo es  0.8  y está ubicado en la posicion:  3\n",
            "el minimo es  2  y está ubicado en la posicion:  0\n",
            "el minimo es  -8  y está ubicado en la posicion:  1\n"
          ]
        }
      ]
    },
    {
      "cell_type": "markdown",
      "metadata": {
        "id": "eWZAdQe4eb4P"
      },
      "source": [
        "# __CURSO DE PENSAMIENTO ALGORÍTMICO__\n",
        "\n",
        "> ## __TALLER N° 5:  ALGORITMOS CÍCLICOS__\n",
        ">\n",
        "> ## Profesor: Jorge Victorino [jvictorinog@ucentral.edu.co](jvictorinog@ucentral.edu.co)<br>\n",
        "> ### Facultad de Ingeniería y Ciencias Básicas <br>\n",
        "> ### Universidad Central <br>\n",
        "> <br>\n",
        ">\n",
        "> ## __Contenido__\n",
        ">> ### Estructura repetiviva\n",
        ">> ### Variables de ciclo\n",
        ">> ### Ciclos sobre N valores\n",
        ">> ### Ciclos con selección\n",
        ">> ### Ciclos anidados\n",
        "---\n",
        "\n",
        "\n"
      ]
    },
    {
      "cell_type": "markdown",
      "metadata": {
        "id": "QKqOns-CHYnL"
      },
      "source": [
        "# __Algoritmos Cíclicos__\n",
        "\n",
        "> __Programación en python__ <br>\n",
        "Por: _Jorge Victorino_\n",
        "\n",
        "---\n",
        "\n",
        "## __Diagrama de la estrcutura cíclica__\n",
        "\n",
        "> Como se muestra en el siguiente diagrama de flujo, debe haber una variable  y una condición que controlan el ciclo. Además de un conjunto de instrucciones que son las que se repiten cada vez que se cumple la condición. La parte clave en el diseño del ciclo es la __condición__, puesto que debe garantizar el incio y la terminación del mismo. Cada vez que se evalúa la condición como verdadera las instrucciones dentro del ciclo se repiten."
      ]
    },
    {
      "cell_type": "markdown",
      "metadata": {
        "id": "PUqivzkjJdo-"
      },
      "source": [
        "![estructura-ciclica.png](data:image/png;base64,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)"
      ]
    },
    {
      "cell_type": "markdown",
      "metadata": {
        "id": "GSJ5QYle-VjH"
      },
      "source": [
        "## __Variable del ciclo__\n",
        "> - La variable del ciclo controla su inicio, cuántas veces se repite y por tanto, cuando se termina. Se identifican al menos 3 estados en esta variable:\n",
        "    - __Inicialización__. La variable antes del ciclo toma un valor incial\n",
        "    - __Evaluación__. con el valor actual de la variable del ciclo se evalúa la condición, si esta es verdadera se continua y si no se termina.\n",
        "    - __Actualización__. una vez dentro del ciclo, la variable debe cambiar su valor, para que cambie la condición y que así se pueda ver que el ciclo terminará en algún momento. De lo contrario el programa quedaría atrapado en el ciclo.\n",
        "\n",
        "## Sintaxis `while`\n",
        "\n",
        "```python\n",
        "<instrucciones antes...>\n",
        "variable_ciclo = valor_inicial\n",
        "while CONDICIÓN(variable_ciclo) :\n",
        "    <instrucciones ciclo ...>\n",
        "    vaiable_ciclo = otro_valor\n",
        "<instrucciones después...>\n",
        "```\n",
        "\n",
        "## Sintaxis `for`\n",
        "\n",
        "- El ciclo `for` se repite para cada uno de los valores del conjunto especificado. Este conjunto puede ser un rango o una lista. La palabra reservada `in` significa cada uno de los elementos del rango o la lista\n",
        "\n",
        "```python\n",
        "<instrucciones antes...>\n",
        "for variable_ciclo in Conjuto_valores :\n",
        "    <instrucciones ciclo ...>\n",
        "<instrucciones después...>\n",
        "```\n",
        "\n",
        "- Se puede ver que la sintaxis del `for` es más sencilla que la sintaxis del `while`. Aunque con `while` se tiene mayor control.\n",
        "\n"
      ]
    },
    {
      "cell_type": "markdown",
      "metadata": {
        "id": "j3rYfqk2PrUW"
      },
      "source": [
        "## __Variables en ciclos__\n",
        "\n",
        "> Son variables que inicializan antes del ciclo con un determinado valor, luego dentro del ciclo se modifican usando su propio valor y al final del ciclo se utiliza su resultado. Por ejemplo:\n",
        "> - __Contador:__ variable entera que se incrementa en uno en cada iteración del ciclo. El contador lleva la cuenta de veces que se repite un ciclo\n",
        "- __Acumulador:__ variable numérica que acumula una determinada operación en un ciclo. Se inicializa con 0 para la suma, y uno para la multiplicación.\n",
        "- __Bandera:__ variable boolena que se inicia con un valor de verdad y luego dentro del ciclo una o varias condiciones pueden cambiar su estado.\n",
        "\n"
      ]
    },
    {
      "cell_type": "markdown",
      "metadata": {
        "id": "oK-8JwpLZy5J"
      },
      "source": [
        "## Ciclos sobre N valores\n",
        "\n",
        "> - En muchas ocasiones se requiere hacer un ciclo sobre N valores, para cual se recomienda un ciclo for usando la función range.\n",
        "\n",
        "### __Ejemplo__\n",
        "> - Hacer un ciclo para sumar N cantidades que ingresa un usuario\n",
        "\n",
        "> - Calcular El factorial. Consiste en multiplicar todos los números hasta N.\n",
        "\n",
        "\n",
        "```python\n",
        "N = int(input('Ingrese valor para calcular el factorial: '))\n",
        "acum = 1\n",
        "for i in range(1, N+1):\n",
        "    acum = acum * i\n",
        "    print('Valor parcial:', acum)\n",
        "print('Valor del factorial: ', acum)\n",
        "```\n",
        "\n",
        "- Observe esta alternativa llamando a la función de manera recursiva (cuando la función se llama así misma). Observe el funcionamiento de este código en el python tutor\n",
        "\n",
        "\n",
        "```python\n",
        "def factorial(n):\n",
        "    print('calcular factorial de ', n)\n",
        "    if n <= 1:\n",
        "        return 1\n",
        "    else:\n",
        "        return n * factorial(n-1)\n",
        "\n",
        "resultado = factorial(6)\n",
        "print(resultado)\n",
        "\n",
        "```\n",
        "\n",
        "> - Observe que se hace un ciclo pero no se utiliza ni un while ni un for. Cómo se explica el ciclo?\n",
        "\n"
      ]
    },
    {
      "cell_type": "code",
      "source": [
        "def sumaN(N):\n",
        "    x = 1\n",
        "    suma = 0\n",
        "    while x<= N:\n",
        "        suma = suma+x\n",
        "        x = x+1\n",
        "    return suma\n",
        "num= int(input('ingrese un valor positivo. '))\n",
        "res = sumaN(num)\n",
        "\n",
        "print('la suma de los primeros ', num, 'numeros es: ',res )"
      ],
      "metadata": {
        "colab": {
          "base_uri": "https://localhost:8080/"
        },
        "id": "AAyzpaPEZMmZ",
        "outputId": "0e6d4aaf-f852-4d62-c10c-fd8fc327f2d0"
      },
      "execution_count": null,
      "outputs": [
        {
          "output_type": "stream",
          "name": "stdout",
          "text": [
            "ingrese un valor positivo. 10\n",
            "la suma de los primeros  10 numeros es:  55\n"
          ]
        }
      ]
    },
    {
      "cell_type": "markdown",
      "metadata": {
        "id": "ELV_eZiTbybM"
      },
      "source": [
        "## __Ejemplo: imprimir tablas de multiplicar__\n",
        "\n",
        "> - Un ejemplo claro para ver el funcionamiento de un ciclo son las tablas de multiplicar. Puesto que se deben controlar las variables del ciclo para tener un visualización de las tablas tal como se quiere.\n",
        "\n",
        "\n",
        "\n",
        "```python\n",
        "n = int(input('Ingrese el valor para ver su tabla de multiplicar: '))\n",
        "\n",
        "print('Tabla del número:', n)\n",
        "print('--'*10)\n",
        "for i in range (1, n+1):\n",
        "    print(f'{n} x {i} = {n*i}')\n",
        "print('--'*10)\n",
        "\n",
        "```\n",
        "\n",
        "> - Esto imprime la tabla del número que se le dijo. El reto es imprimir las tablas del 1 a l 10 usando cinco columnas. Primero las tablas del 1 al 5 y debajo del 6 al 10\n"
      ]
    },
    {
      "cell_type": "code",
      "metadata": {
        "id": "LSBD2atKcQ1b",
        "colab": {
          "base_uri": "https://localhost:8080/"
        },
        "outputId": "bffad128-9275-4546-ade6-c7fedf4e2a06"
      },
      "source": [
        "# Celda de código para probar\n",
        "n = int(input('Ingrese el valor para ver su tabla de multiplicar: '))\n",
        "\n",
        "print('Tabla del número:', n)\n",
        "print('--'*10)\n",
        "for i in range (1, n+1):\n",
        "    print(f'{n} x {i} = {n*i}')\n",
        "print('--'*10)\n"
      ],
      "execution_count": null,
      "outputs": [
        {
          "output_type": "stream",
          "name": "stdout",
          "text": [
            "Ingrese el valor para ver su tabla de multiplicar: 6\n",
            "Tabla del número: 6\n",
            "--------------------\n",
            "6 x 1 = 6\n",
            "6 x 2 = 12\n",
            "6 x 3 = 18\n",
            "6 x 4 = 24\n",
            "6 x 5 = 30\n",
            "6 x 6 = 36\n",
            "--------------------\n"
          ]
        }
      ]
    },
    {
      "cell_type": "markdown",
      "metadata": {
        "id": "Qm2qsGO6d-TZ"
      },
      "source": [
        "## __Ciclos con selección__\n",
        "\n",
        "> - Es usual que se requiera hacer un ciclo sobre N valores y que luego se haga un filtro o selcción de esos valores mediante una condición. En este caso es recomendado un ciclo for hasta N y filtrar los valores usando una condición.\n",
        "\n",
        "### __Ejemplo: divisiones de un número__\n",
        "\n",
        "> - Hacer un algoritmo que dado un número muestre todos los divisores de este.\n",
        "\n",
        "\n",
        "\n",
        "```python\n",
        "n = int(input('Ingrese un valor para calcular los divisores: '))\n",
        "cont = 0\n",
        "for i in range(1, n+1):\n",
        "    if n % i == 0:  \n",
        "        cont = cont + 1\n",
        "        print(f'divisor({cont}): {i}')\n",
        "print('El número', n, 'tiene', cont, 'divisores')\n",
        "```\n",
        "\n",
        "### __Ejercicio:__\n",
        "> - Reutilizando el algortimo anterior, haga un ciclo que muestre en un intervalo de 1 hasta N, cuáles son números primos.\n",
        "\n"
      ]
    },
    {
      "cell_type": "code",
      "source": [
        "\n",
        "def divisores(N):\n",
        "    x=1\n",
        "    acum=0\n",
        "    while x<=N:\n",
        "        div = N%x\n",
        "        if div == 0:\n",
        "            #print(x, N, div)\n",
        "            acum= acum+1\n",
        "        x= x+1\n",
        "    print('la cantidad de divisores de ', N, ' es igual a: ', acum)\n",
        "divisores(180)"
      ],
      "metadata": {
        "colab": {
          "base_uri": "https://localhost:8080/"
        },
        "id": "51yODD_ga1C4",
        "outputId": "25e4c98e-957a-4013-d924-a73997ab30b2"
      },
      "execution_count": null,
      "outputs": [
        {
          "output_type": "stream",
          "name": "stdout",
          "text": [
            "la cantidad de divisores de  180  es igual a:  18\n"
          ]
        }
      ]
    },
    {
      "cell_type": "code",
      "metadata": {
        "id": "FpB5-QxZepXf",
        "colab": {
          "base_uri": "https://localhost:8080/"
        },
        "outputId": "021ff4ff-c4ac-40d8-f467-b18757cf4ef3"
      },
      "source": [
        "# Celda de código para probar\n",
        "\n",
        "\n",
        "n = int(input('Ingrese un valor para calcular los divisores: '))\n",
        "cont = 0\n",
        "for i in range(1, n+1):\n",
        "    if n % i == 0:\n",
        "        cont = cont + 1\n",
        "        print(f'divisor({cont}): {i}')\n",
        "print('El número', n, 'tiene', cont, 'divisores')"
      ],
      "execution_count": null,
      "outputs": [
        {
          "output_type": "stream",
          "name": "stdout",
          "text": [
            "Ingrese un valor para calcular los divisores: 8\n",
            "divisor(1): 1\n",
            "divisor(2): 2\n",
            "divisor(3): 4\n",
            "divisor(4): 8\n",
            "El número 8 tiene 4 divisores\n"
          ]
        }
      ]
    },
    {
      "cell_type": "code",
      "source": [
        "\n",
        "n = int(input('Ingrese un valor para decir cuales son los números primos hasta ese número '))\n",
        "cont = 0\n",
        "for i in range(1, n+1):\n",
        "    if n % i != 0:\n",
        "        cont = cont + 1\n",
        "        print(f'divisor({cont}): {i}')\n",
        "print('El número', n, 'tiene', cont, 'divisores')"
      ],
      "metadata": {
        "colab": {
          "base_uri": "https://localhost:8080/"
        },
        "id": "m5KiZdshWW6S",
        "outputId": "13e14bf3-d5c5-4921-e192-52025c2256b6"
      },
      "execution_count": null,
      "outputs": [
        {
          "output_type": "stream",
          "name": "stdout",
          "text": [
            "Ingrese un valor para calcular los divisores: 5\n",
            "divisor(1): 2\n",
            "divisor(2): 3\n",
            "divisor(3): 4\n",
            "El número 5 tiene 3 divisores\n"
          ]
        }
      ]
    },
    {
      "cell_type": "markdown",
      "metadata": {
        "id": "MDBQZtohgFKw"
      },
      "source": [
        "## __Ciclos anidados__\n",
        "\n",
        "> - Una forma de calcular las probabiliades es hallar todos los escenarios posibles y contar aquellos que cumplen una condición particular. Al final la cuenta se divide por el total de ejemplos que cumplen.\n",
        "\n",
        "### __Ejemplo: Eventos con dados__\n",
        "\n",
        "> - Al lanzar dos dados se quiere saber cuantas posibilidades hay de obtener un 6 con alguno de los dos dados o sumando los valores que salieron en cada dado.\n",
        "    - Para esto se generan todos los posibles escenarios que son 6x6=36, luego se mira de todos los escenarios posibles cuántos cumplen la condición dada y luego se calcula la probabilidad.\n",
        "\n",
        "1. Primero se generan todas las posibilidades que hay con dos dados\n",
        "\n",
        "```python\n",
        "for i in range(1, 6+1):\n",
        "    for j in range(1, 6+1):\n",
        "        print(f'Escenario: dado_1: {i} y dado_2: {j}: suma: {i+j}')\n",
        "```\n",
        "\n",
        "2. Segundo, se utiliza un condicional para contar solo los eventos que interesan, en este caso en donde se obtiene 6.\n",
        "\n",
        "```python\n",
        "cont = 0\n",
        "for i in range(1, 6+1):\n",
        "    for j in range(1, 6+1):\n",
        "        if i == 6 or j == 6 or i+j == 6:\n",
        "            cont = cont + 1\n",
        "            print(f'resultado [{i}], [{j}]: suma: [{i+j}]')\n",
        "print('La probabilidad de Obtener 6 es:', cont/36)\n",
        "```\n",
        "\n",
        "### __Ejercicio__\n",
        "\n",
        "> - Convierta el ejericio anterior en una función y luego muestre la probabilidad de todos los valores desde uno hasta doce.\n",
        "\n"
      ]
    },
    {
      "cell_type": "code",
      "metadata": {
        "id": "Tm6vdLpyhWRs",
        "colab": {
          "base_uri": "https://localhost:8080/"
        },
        "outputId": "4ec1f992-b1a0-496a-81b1-f3c825072a8b"
      },
      "source": [
        "# Celda de código para probar\n",
        "def es_primo(N):\n",
        "    x=1\n",
        "    acum=0\n",
        "    while x<=N:\n",
        "        div = N%x\n",
        "        if div == 0:\n",
        "            acum= acum+1\n",
        "        x = x+1\n",
        "    return acum==2\n",
        "\n",
        "for i in range (1,500):\n",
        "    if es_primo(i)==True:\n",
        "        print(i, end='  ')\n",
        "    if i % 100==0:\n",
        "        print()"
      ],
      "execution_count": null,
      "outputs": [
        {
          "output_type": "stream",
          "name": "stdout",
          "text": [
            "2  3  5  7  11  13  17  19  23  29  31  37  41  43  47  53  59  61  67  71  73  79  83  89  97  \n",
            "101  103  107  109  113  127  131  137  139  149  151  157  163  167  173  179  181  191  193  197  199  \n",
            "211  223  227  229  233  239  241  251  257  263  269  271  277  281  283  293  \n",
            "307  311  313  317  331  337  347  349  353  359  367  373  379  383  389  397  \n",
            "401  409  419  421  431  433  439  443  449  457  461  463  467  479  487  491  499  "
          ]
        }
      ]
    },
    {
      "cell_type": "code",
      "source": [
        "# suma de cada uno de los dígitos\n",
        "def suma_digitos():\n",
        "    G = int(input(print(\"digite el número del cual desea calcular la suma de digitos\")))\n",
        "    sum=0\n",
        "    while G > 0:\n",
        "        digito = G%10\n",
        "        sum=sum + digito\n",
        "        G = G//10\n",
        "        print ('el resultado de la suma de los dígitos del número',G,'es: ', sum)\n",
        "\n",
        "suma_digitos()"
      ],
      "metadata": {
        "colab": {
          "base_uri": "https://localhost:8080/"
        },
        "id": "V6XLsK1HkGD5",
        "outputId": "46a55363-4fed-4a12-eebb-1c5af1ea5be8"
      },
      "execution_count": null,
      "outputs": [
        {
          "output_type": "stream",
          "name": "stdout",
          "text": [
            "digite el número del cual desea calcular la suma de digitos\n",
            "125648954\n",
            "el resultado de la suma de los dígitos del número 12564895 es:  4\n",
            "el resultado de la suma de los dígitos del número 1256489 es:  9\n",
            "el resultado de la suma de los dígitos del número 125648 es:  18\n",
            "el resultado de la suma de los dígitos del número 12564 es:  26\n",
            "el resultado de la suma de los dígitos del número 1256 es:  30\n",
            "el resultado de la suma de los dígitos del número 125 es:  36\n",
            "el resultado de la suma de los dígitos del número 12 es:  41\n",
            "el resultado de la suma de los dígitos del número 1 es:  43\n",
            "el resultado de la suma de los dígitos del número 0 es:  44\n"
          ]
        }
      ]
    },
    {
      "cell_type": "markdown",
      "metadata": {
        "id": "KN_5kB6LOSLk"
      },
      "source": [
        "## __Ejemplos__"
      ]
    },
    {
      "cell_type": "markdown",
      "metadata": {
        "id": "pwo2ANVIp_IW"
      },
      "source": [
        "## Problema de los divisores cruzados\n",
        "\n",
        "> - Diseñe un algoritmo para determinar si dos números enteros $a$ y $b$ cumplen con el siguiente enunciado:\n",
        "    - la suma de los divisores de $a$ es igual al número $b$, y la suma de los divisores de $b$ es igual al número $a$.\n",
        "        - Ejemplo: Para $a=220$ y $b=284$\n",
        "            - los divisores de $220$ son: {1, 2, 4, 5, 10, 11, 20, 22, 44, 55, 110 }, que suman $284$\n",
        "            - los divisores de $284$ son: {1, 2, 4, 71 y 142}, que suman $220$\n",
        "        - Por tanto, 220 y 284 cumplen\n"
      ]
    },
    {
      "cell_type": "markdown",
      "metadata": {
        "id": "LnaG-mvWMNaT"
      },
      "source": [
        "##  Pasos para resolver el problema de divisores cruzados\n",
        "\n",
        "> __Análisis inicial__\n",
        "1. pedir los 2 valores enteros positivos\n",
        "2. obtener la suma de los divisores\n",
        "    -\n",
        "3. comparación cruzada la suma de los divisores del primer número es igual al segundo y viceversa\n",
        "4. concluir si se cumple la condición de tener divisores cruzados\n",
        "\n",
        "> __Análisis punto 2__\n",
        "1. ciclo por los valores desde 1 hasta el número\n",
        "2. probar cada valor para saber si es divisor\n",
        "2. si es divisor entonces acumular\n",
        "2. al final devolver la suma"
      ]
    },
    {
      "cell_type": "code",
      "metadata": {
        "id": "3LI4KT8sEn0m"
      },
      "source": [
        "# Celda de código para probar\n",
        "N = 220\n",
        "suma = 0\n",
        "for i in range(1, N):\n",
        "    if N % i == 0:\n",
        "        suma += i\n",
        "        print(f'suma {suma}, divisor:{i}')\n"
      ],
      "execution_count": null,
      "outputs": []
    },
    {
      "cell_type": "code",
      "metadata": {
        "id": "TVd-qJ25RZXR"
      },
      "source": [
        "# solución incremental"
      ],
      "execution_count": null,
      "outputs": []
    },
    {
      "cell_type": "markdown",
      "metadata": {
        "id": "WtKMAWpeFJIF"
      },
      "source": [
        "## Problema de minar diamantes\n",
        "\n",
        "> - Juan esta trabajando en una mina de diamantes, el objetivo es extraer la mayor cantidad de diamantes `<>`. El debe evitar todas las partículas de arena encontrada `.` en este proceso y luego el diamante se puede extraer y nuevos diamantes se pueden formar.\n",
        "- Ejemplo: si tiene como entrada. `<...<<..>>....>.... >>>` tres diamantes se han formado. El primero se toma de `<..>` resultando. `<...<>....>.... >>>.` El segundo diamante es entonces retirado, dejando. `<.......>....>>>.` El tercer diamante es entonces retirado, dejando al final `..... >>>.` con la posibilidad de extraer nuevos diamantes.\n",
        "- Pruebas:\n",
        "\n",
        "| Entrada | Salida |\n",
        "| --- | :---:\n",
        "| `<..><.<..>>` |3\n",
        "| `<<<..<......<<<<....>` |1\n",
        "| `<.<<>.<<>.<..><.<>.><<<` |5\n",
        "| `>>..>..<..<...<<..<..>.<.<` |1\n",
        "\n",
        "## Análisis del problema"
      ]
    },
    {
      "cell_type": "code",
      "metadata": {
        "id": "iyGd05KZrE3i"
      },
      "source": [
        "# Celda de código para probar"
      ],
      "execution_count": null,
      "outputs": []
    },
    {
      "cell_type": "markdown",
      "metadata": {
        "id": "CecgPT_UNApC"
      },
      "source": [
        "# __Ejercicios de algoritmos ciclicos__\n",
        "\n",
        "> - En los siguientes ejercicios no utilizar librerías y no utilizar listas o arreglos  "
      ]
    },
    {
      "cell_type": "markdown",
      "metadata": {
        "id": "a4XMVYvEx5X3"
      },
      "source": [
        "## Problema del digito de verificación\n",
        "\n",
        "> - Dígito de verificación, se usa para detectar errores en la lectura de una cadena por algún dispositivo de sensado. El dígito de verificación es un número que es el resultado de sumar los demás dígitos y hacer el módulo 10. Suponga que recibe una cadena que contiene N digitos en donde el último digito (de izquierda a derecha) es el de verificación. Hacer un algoritmo para detectar errores en una lectura.\n",
        "- Ejemplos:\n",
        "    - Entrada: (4251) --> Salida: (Correcto)\n",
        "    - Entrada: (4252) --> Salida: (Detección de falla)\n",
        "    - Entrada: (201860403010091286431354618) --> Salida: (Correcto)\n",
        "    - Entrada: (201860403010091286431354614) --> Salida: (Detección de falla)\n",
        "    - Entrada: (6786976469) --> Salida: (Correcto)\n",
        "    - Entrada: (6786976460) --> Salida: (Detección de falla)\n"
      ]
    },
    {
      "cell_type": "code",
      "metadata": {
        "id": "Zdshchgr818k"
      },
      "source": [
        "# Celda de código para probar"
      ],
      "execution_count": null,
      "outputs": []
    },
    {
      "cell_type": "markdown",
      "metadata": {
        "id": "vb1PDIf2bAur"
      },
      "source": [
        "## Probelma de reciclar vasos de plástico\n",
        "\n",
        "> - Cierta compañía se dedica a la producción vasos de plástico reciclando vasos usados.\n",
        "Diseñe una función que calcule la cantidad total acumulada de vasos que se pueden prodicir a partir de $n$ vasos y sabiendo que es posible fabricar un vaso nuevo reciclando repetidamente un número $x$ de vasos usados, hasta que ya no haya vasos para reciclar.\n",
        "- __Ejemplo__: Si n = 70, x = 4, la respuesta entregada por la función es 23 siguiendo el siguiente proceso:\n",
        "    - Primer reciclaje: Con 70 se fabrican 70/4 =17 vasos y sobran 2\n",
        "    - Segundo reciclaje: n= 17+2 =19 se fabrican 19/4 = 4 vasos\ty sobran 3\n",
        "    - Tercer reciclaje: n=4+3 =7 se fabrican 7/4 = 1 y sobran 3\n",
        "    - Cuarto reciclaje: n=1+3 =4 se fabrican 4/4 =1 vasos y no quedan suficientes\n",
        "    - vasos para reciclar. Total de vasos fabricados:  17 + 4 + 1 +1= 23\n",
        "- __Otros ejemplos:__\n",
        "    - Entrada: (580, 3) --> Salida: (289)\n",
        "    - Entrada: (580, 5) --> Salida: (144)\n",
        "    - Entrada: (580, 6) --> Salida: (115)\n",
        "    - Entrada: (580, 7) --> Salida: (96)\n",
        "    - Entrada: (110, 5) --> Salida: (27)\n",
        "    - Entrada: (150, 10) --> Salida: (16)\n",
        "    - Entrada: (990, 2) --> Salida: (989)\n",
        "\n",
        "\n",
        "\n",
        "\n"
      ]
    },
    {
      "cell_type": "code",
      "metadata": {
        "id": "5AaOH3Ezkh0D"
      },
      "source": [
        "# Celda de código para probar"
      ],
      "execution_count": null,
      "outputs": []
    },
    {
      "cell_type": "markdown",
      "metadata": {
        "id": "8q5TBDiPi6uL"
      },
      "source": [
        "## Problema del dígito característico\n",
        "\n",
        "> - Diseñe un algoritmo que lea un número natural N y sume sus dígitos, si el resultado es mayor que 9 nuevamente sume sus dígitos hasta obtener un número de un solo dígito.\n",
        "    - Ejemplos:\n",
        "        - Entrada: (4398) ==>  4398 --> 24 --> 6, Salida:(6)\n",
        "        - Entrada: (7986982) ==> 7986982 --> 49 --> 13 --> 4, Salida: (4)\n"
      ]
    },
    {
      "cell_type": "code",
      "metadata": {
        "id": "czOosZimlD6p"
      },
      "source": [
        "# Celda de código para probar"
      ],
      "execution_count": null,
      "outputs": []
    },
    {
      "cell_type": "markdown",
      "metadata": {
        "id": "l1YIkXSorDyG"
      },
      "source": [
        "## Problema del número Kaprekar\n",
        "\n",
        "> - Se requiere implementar la función Kaprekar (un número), que recibe como parámetro un número entero no negativo y determina si el número es Krapekar o no. Un número Krapekar es todo entero no negativo n que cuando se eleva al cuadrado, el número resultante puede ser dividido en 2 partes a y b donde a + b = n.\n",
        "- Por ejemplo, 9 y 297 son números Krapekar:\n",
        "    - 9^2 = 81\n",
        "        - 8 + 1 = 9 (SI es!) <br><br>\n",
        "    - 297^2 = 88209\n",
        "        - 8820 + 9 = 8829\n",
        "        - 882 + 09 = 891\n",
        "        - 88 + 209 = 297 (SI es!) <br><br>\n",
        "    - 143^2 = 20449\n",
        "        - 2 + 0449 = 551\n",
        "        - 20 + 449 = 469\n",
        "        - 204 + 49 = 253\n",
        "        - 2044 + 9 = 2053  (NO es!)\n"
      ]
    },
    {
      "cell_type": "code",
      "metadata": {
        "id": "LhEcfZ8OlXwP"
      },
      "source": [
        "# Celda de código para probar"
      ],
      "execution_count": null,
      "outputs": []
    },
    {
      "cell_type": "markdown",
      "metadata": {
        "id": "gueYDh8jxXth"
      },
      "source": [
        "## Problema de primos muy cercanos\n",
        "\n",
        "> - Diseñe un algoritmo para determinar: ¿Cuántas parejas de primos cercanos existen entre 2 y n? Se denominan “números primos cercanos” a aquellos primos consecutivos separados por dos unidades.\n",
        "> - Ejemplo:\n",
        " Primos cercanos entre 2 y: 50\n",
        " - 3 y 5,\n",
        " - 5 y 7,\n",
        " - 11 y 13,\n",
        " - 17 y 19,\n",
        " - 29 y 31,\n",
        " - 41 y 43,\n",
        " - __Total_Parejas [2, 50]: 6__\n"
      ]
    },
    {
      "cell_type": "code",
      "metadata": {
        "id": "nffj1lD4M2Dk"
      },
      "source": [
        "# Celda de código para probar"
      ],
      "execution_count": null,
      "outputs": []
    },
    {
      "cell_type": "markdown",
      "metadata": {
        "id": "xpLTNghjxsCj"
      },
      "source": [
        "## Problema cuadrado de números terminados en cinco\n",
        "\n",
        "> - Se dice que el cuadrado de cualquier número terminado en 5 se forma como el producto de las decenas y (decenas+1), añadiendo a la derecha del resultado el 25. Si el número es menor que 100 se calcula fácilmente con la tabla de multiplicar.\n",
        "- Diseñe un algoritmo que valide el proceso para los números terminados en cinco dentro del rango entre 5 y m (ejemplo 1000). Al final muestre si se cumple lo descrito, y en caso de ser incorrecto, mostrar el primer número para el que no se cumple.  \n",
        "- Ejemplos:\n",
        "    - 25^2, la decena que es 2, se multiplica por 3 que es la decena+1, resulta 6 que se añade a la derecha 25 y su resultado es 625.\n",
        "    - 85^2, se calcularía como 8×9=72, se añade a la derecha 25, el resultado es 7225.\n",
        "    - 225^2, se calcularía como 22x23 = 506, se añade a la derecha 25, el resultado es 50625.\n"
      ]
    },
    {
      "cell_type": "code",
      "metadata": {
        "id": "zmARB49SrCVL"
      },
      "source": [
        "# Celda de código para probar"
      ],
      "execution_count": null,
      "outputs": []
    },
    {
      "cell_type": "markdown",
      "metadata": {
        "id": "fBm4lR6yyOm3"
      },
      "source": [
        "## Procedimiento para multiplicar dos números enteros\n",
        "\n",
        "> - Un algoritmo matemático para multiplicar dos números enteros con valores entre 1 y 1000 se describe en el siguiente ejemplo: Se desea conocer el producto de dos números: 997 y 991\n",
        "Obtenga los resultados de las restas:\t1000-997 = 3,   1000-991 = 9\n",
        "Sume los resultados de las restas:\t3 + 9 = 12\n",
        "Reste de 1000 el resultado de la suma anterior:\t1000-12 = 988\n",
        "Multiplique este resultado por 1000:\t988 x 1000 = 988000\n",
        "Multiplique los resultados de las restas iniciales:\t3 x 9 = 27\n",
        "La suma de los dos últimos resultados es el producto deseado:\t988000+27 = 988027\n",
        "> - Escriba un algoritmo que verifique que esta regla se cumple para cada producto a x b. Las variables a y b son enteros positivos entre 1 y un valor que puede llegar hasta 1000. Muestre la respuesta mediante un mensaje.\n",
        "\n"
      ]
    },
    {
      "cell_type": "code",
      "metadata": {
        "id": "307utPfxrGI1"
      },
      "source": [
        "# Celda de código para probar"
      ],
      "execution_count": null,
      "outputs": []
    },
    {
      "cell_type": "markdown",
      "metadata": {
        "id": "NktzA-dgqIPy"
      },
      "source": [
        "## Conjetura del múltiplo de tres\n",
        "\n",
        "> - Se dice que un número natural de cuatro dígitos que es múltiplo de tres cumple la siguiente conjetura:\n",
        "    - Si partimos el número en dígitos y hacemos la suma de estos dígitos al cubo, a este resultado se le aplica la misma operación repetidamene, se llega siempre al resultado de 153.\n",
        "    - Diseñe un algoritmo que compruebe esta conjetura\n",
        "    - __Ejemplo__ si el número es 1374 que es múltiplo de 3\n",
        ">> 1374 → 1^3 + 3^3 + 7^3 + 4^3 = 435 <br>\n",
        "435 → 4^3 + 3^3 + 5^3 = 216 <br>\n",
        "216 → 225 → 141 → 66 → 432 → 99 → 1458 → 702 → 351 → __153__ <br>\n",
        "__Respuesta: Si cumple__\n"
      ]
    },
    {
      "cell_type": "code",
      "metadata": {
        "id": "d4QB0if9rH_K"
      },
      "source": [
        "# Celda de código para probar"
      ],
      "execution_count": null,
      "outputs": []
    },
    {
      "cell_type": "markdown",
      "metadata": {
        "id": "MIY477LyxI9W"
      },
      "source": [
        "## Problema de combinación de primos\n",
        "> - Escriba un programa que reciba un número impar mayor a 5 y encuentre tres números primos cuya suma es igual al número impar dado. La llamada “Conjetura débil de Goldbach” propuesta en el año 1742 afirma que todo número impar mayor a 5 se puede expresar como la suma de tres números primos.\n"
      ]
    },
    {
      "cell_type": "code",
      "metadata": {
        "id": "e229o4JQq_Zd"
      },
      "source": [
        "# Celda de código para probar"
      ],
      "execution_count": null,
      "outputs": []
    },
    {
      "cell_type": "markdown",
      "metadata": {
        "id": "yMvUUrFgTXv_"
      },
      "source": [
        "# Imprimir tablas de multiplicar\n",
        "\n",
        "> - A partir de la utilización de ciclos, generar las siguientes impresiones de tablas de multiplicar:\n",
        "\n",
        "> - Visualización 1: tenemos tablas del 1 hasta el 9, cada tabla va hasta el 9. Los valores están alineados\n",
        "```\n",
        "1 x 1 = 1       2 x 1 = 2       3 x 1 = 3\n",
        "1 x 2 = 2       2 x 2 = 4       3 x 2 = 6\n",
        "1 x 3 = 3       2 x 3 = 6       3 x 3 = 9\n",
        "1 x 4 = 4       2 x 4 = 8       3 x 4 = 12\n",
        "1 x 5 = 5       2 x 5 = 10      3 x 5 = 15\n",
        "1 x 6 = 6       2 x 6 = 12      3 x 6 = 18\n",
        "1 x 7 = 7       2 x 7 = 14      3 x 7 = 21\n",
        "1 x 8 = 8       2 x 8 = 16      3 x 8 = 24\n",
        "1 x 9 = 9       2 x 9 = 18      3 x 9 = 27\n",
        "_\n",
        "4 x 1 = 4       5 x 1 = 5       6 x 1 = 6\n",
        "4 x 2 = 8       5 x 2 = 10      6 x 2 = 12\n",
        "4 x 3 = 12      5 x 3 = 15      6 x 3 = 18\n",
        "4 x 4 = 16      5 x 4 = 20      6 x 4 = 24\n",
        "4 x 5 = 20      5 x 5 = 25      6 x 5 = 30\n",
        "4 x 6 = 24      5 x 6 = 30      6 x 6 = 36\n",
        "4 x 7 = 28      5 x 7 = 35      6 x 7 = 42\n",
        "4 x 8 = 32      5 x 8 = 40      6 x 8 = 48\n",
        "4 x 9 = 36      5 x 9 = 45      6 x 9 = 54\n",
        "_\n",
        "7 x 1 = 7       8 x 1 = 8       9 x 1 = 9\n",
        "7 x 2 = 14      8 x 2 = 16      9 x 2 = 18\n",
        "7 x 3 = 21      8 x 3 = 24      9 x 3 = 27\n",
        "7 x 4 = 28      8 x 4 = 32      9 x 4 = 36\n",
        "7 x 5 = 35      8 x 5 = 40      9 x 5 = 45\n",
        "7 x 6 = 42      8 x 6 = 48      9 x 6 = 54\n",
        "7 x 7 = 49      8 x 7 = 56      9 x 7 = 63\n",
        "7 x 8 = 56      8 x 8 = 64      9 x 8 = 72\n",
        "7 x 9 = 63      8 x 9 = 72      9 x 9 = 81\n",
        "```\n",
        "\n",
        "> - Visualización 2: observe que tenmos tablas del 1 al 10, cada tabla va hasta el 10. Los valores están alineados de manera diferente\n",
        "```\n",
        "1 x  1 =  1 \t2 x  1 =  2 \t3 x  1 =  3 \t4 x  1 =  4 \t5 x  1 =  5\n",
        "1 x  2 =  2 \t2 x  2 =  4 \t3 x  2 =  6 \t4 x  2 =  8 \t5 x  2 = 10\n",
        "1 x  3 =  3 \t2 x  3 =  6 \t3 x  3 =  9 \t4 x  3 = 12 \t5 x  3 = 15\n",
        "1 x  4 =  4 \t2 x  4 =  8 \t3 x  4 = 12 \t4 x  4 = 16 \t5 x  4 = 20\n",
        "1 x  5 =  5 \t2 x  5 = 10 \t3 x  5 = 15 \t4 x  5 = 20 \t5 x  5 = 25\n",
        "1 x  6 =  6 \t2 x  6 = 12 \t3 x  6 = 18 \t4 x  6 = 24 \t5 x  6 = 30\n",
        "1 x  7 =  7 \t2 x  7 = 14 \t3 x  7 = 21 \t4 x  7 = 28 \t5 x  7 = 35\n",
        "1 x  8 =  8 \t2 x  8 = 16 \t3 x  8 = 24 \t4 x  8 = 32 \t5 x  8 = 40\n",
        "1 x  9 =  9 \t2 x  9 = 18 \t3 x  9 = 27 \t4 x  9 = 36 \t5 x  9 = 45\n",
        "1 x 10 = 10 \t2 x 10 = 20 \t3 x 10 = 30 \t4 x 10 = 40 \t5 x 10 = 50\n",
        "_\n",
        "6 x  1 =  6 \t7 x  1 =  7 \t8 x  1 =  8 \t9 x  1 =  9 \t10 x  1 = 10\n",
        "6 x  2 = 12 \t7 x  2 = 14 \t8 x  2 = 16 \t9 x  2 = 18 \t10 x  2 = 20\n",
        "6 x  3 = 18 \t7 x  3 = 21 \t8 x  3 = 24 \t9 x  3 = 27 \t10 x  3 = 30\n",
        "6 x  4 = 24 \t7 x  4 = 28 \t8 x  4 = 32 \t9 x  4 = 36 \t10 x  4 = 40\n",
        "6 x  5 = 30 \t7 x  5 = 35 \t8 x  5 = 40 \t9 x  5 = 45 \t10 x  5 = 50\n",
        "6 x  6 = 36 \t7 x  6 = 42 \t8 x  6 = 48 \t9 x  6 = 54 \t10 x  6 = 60\n",
        "6 x  7 = 42 \t7 x  7 = 49 \t8 x  7 = 56 \t9 x  7 = 63 \t10 x  7 = 70\n",
        "6 x  8 = 48 \t7 x  8 = 56 \t8 x  8 = 64 \t9 x  8 = 72 \t10 x  8 = 80\n",
        "6 x  9 = 54 \t7 x  9 = 63 \t8 x  9 = 72 \t9 x  9 = 81 \t10 x  9 = 90\n",
        "6 x 10 = 60 \t7 x 10 = 70 \t8 x 10 = 80 \t9 x 10 = 90 \t10 x 10 = 100\n",
        "```\n",
        "\n",
        "\n",
        "\n"
      ]
    },
    {
      "cell_type": "code",
      "metadata": {
        "id": "CmvXNEk0Wlka"
      },
      "source": [
        "# celda de código para probar"
      ],
      "execution_count": null,
      "outputs": []
    }
  ]
}